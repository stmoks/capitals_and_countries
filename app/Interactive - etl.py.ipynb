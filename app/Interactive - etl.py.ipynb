{
 "cells": [
  {
   "cell_type": "markdown",
   "metadata": {
    "isInteractiveWindowMessageCell": true
   },
   "source": [
    "Connected to Python"
   ]
  },
  {
   "cell_type": "code",
   "execution_count": 1,
   "metadata": {},
   "outputs": [
    {
     "ename": "ModuleNotFoundError",
     "evalue": "No module named 'theFuzz'",
     "output_type": "error",
     "traceback": [
      "\u001b[1;31m---------------------------------------------------------------------------\u001b[0m",
      "\u001b[1;31mModuleNotFoundError\u001b[0m                       Traceback (most recent call last)",
      "File \u001b[1;32mc:\\Users\\27722\\OneDrive\\Desktop\\de\\python\\countries_and_capitals\\app\\etl.py:10\u001b[0m\n\u001b[0;32m      8\u001b[0m \u001b[39mfrom\u001b[39;00m \u001b[39mPIL\u001b[39;00m \u001b[39mimport\u001b[39;00m Image\n\u001b[0;32m      9\u001b[0m \u001b[39mimport\u001b[39;00m \u001b[39mio\u001b[39;00m\n\u001b[1;32m---> 10\u001b[0m \u001b[39mfrom\u001b[39;00m \u001b[39mtheFuzz\u001b[39;00m \u001b[39mimport\u001b[39;00m process\n",
      "\u001b[1;31mModuleNotFoundError\u001b[0m: No module named 'theFuzz'"
     ]
    }
   ],
   "source": [
    "import polars as pl\n",
    "import pandas as pd\n",
    "import sqlite3\n",
    "import os\n",
    "import glob\n",
    "import re\n",
    "from PIL import Image\n",
    "import io\n",
    "from theFuzz import process"
   ]
  },
  {
   "cell_type": "code",
   "execution_count": 2,
   "metadata": {},
   "outputs": [],
   "source": [
    "import polars as pl\n",
    "import pandas as pd\n",
    "import sqlite3\n",
    "import os\n",
    "import glob\n",
    "import re\n",
    "from PIL import Image\n",
    "import io\n",
    "from thefuzz import process,fuzz"
   ]
  },
  {
   "cell_type": "code",
   "execution_count": 3,
   "metadata": {},
   "outputs": [],
   "source": [
    "# create db connection\n",
    "db_name = 'countries.db'\n",
    "\n",
    "db_conn = sqlite3.connect(db_name)\n",
    "db_cursor = sqlite3.Cursor(db_conn)\n",
    "\n",
    "# read data from Wikipedia"
   ]
  },
  {
   "cell_type": "code",
   "execution_count": 4,
   "metadata": {},
   "outputs": [],
   "source": [
    "capitals_url = 'https://en.wikipedia.org/wiki/List_of_national_capitals'\n",
    "list_of_tables = pd.read_html(capitals_url)\n",
    "capitals_df = list_of_tables[1]\n",
    "\n",
    "cities_url = 'https://en.wikipedia.org/wiki/List_of_cities_by_elevation'\n",
    "list_of_tables = pd.read_html(cities_url)\n",
    "cities_df = list_of_tables[1]"
   ]
  },
  {
   "cell_type": "code",
   "execution_count": 5,
   "metadata": {},
   "outputs": [
    {
     "data": {
      "text/html": [
       "<div>\n",
       "<style scoped>\n",
       "    .dataframe tbody tr th:only-of-type {\n",
       "        vertical-align: middle;\n",
       "    }\n",
       "\n",
       "    .dataframe tbody tr th {\n",
       "        vertical-align: top;\n",
       "    }\n",
       "\n",
       "    .dataframe thead th {\n",
       "        text-align: right;\n",
       "    }\n",
       "</style>\n",
       "<table border=\"1\" class=\"dataframe\">\n",
       "  <thead>\n",
       "    <tr style=\"text-align: right;\">\n",
       "      <th></th>\n",
       "      <th>City/Town</th>\n",
       "      <th>Country/Territory</th>\n",
       "      <th>Continent</th>\n",
       "      <th>Notes</th>\n",
       "    </tr>\n",
       "  </thead>\n",
       "  <tbody>\n",
       "    <tr>\n",
       "      <th>0</th>\n",
       "      <td>Abidjan (former capital; still hosts some gove...</td>\n",
       "      <td>Ivory Coast (Côte d'Ivoire)</td>\n",
       "      <td>Africa</td>\n",
       "      <td>Abidjan is the largest city in Ivory Coast and...</td>\n",
       "    </tr>\n",
       "    <tr>\n",
       "      <th>1</th>\n",
       "      <td>Yamoussoukro (de jure)</td>\n",
       "      <td>Ivory Coast (Côte d'Ivoire)</td>\n",
       "      <td>Africa</td>\n",
       "      <td>Abidjan is the largest city in Ivory Coast and...</td>\n",
       "    </tr>\n",
       "    <tr>\n",
       "      <th>2</th>\n",
       "      <td>Abu Dhabi</td>\n",
       "      <td>United Arab Emirates</td>\n",
       "      <td>Asia</td>\n",
       "      <td>NaN</td>\n",
       "    </tr>\n",
       "    <tr>\n",
       "      <th>3</th>\n",
       "      <td>Abuja</td>\n",
       "      <td>Nigeria</td>\n",
       "      <td>Africa</td>\n",
       "      <td>Lagos was the capital from 1914 to 1991.</td>\n",
       "    </tr>\n",
       "    <tr>\n",
       "      <th>4</th>\n",
       "      <td>Accra</td>\n",
       "      <td>Ghana</td>\n",
       "      <td>Africa</td>\n",
       "      <td>NaN</td>\n",
       "    </tr>\n",
       "    <tr>\n",
       "      <th>...</th>\n",
       "      <td>...</td>\n",
       "      <td>...</td>\n",
       "      <td>...</td>\n",
       "      <td>...</td>\n",
       "    </tr>\n",
       "    <tr>\n",
       "      <th>257</th>\n",
       "      <td>Windhoek</td>\n",
       "      <td>Namibia</td>\n",
       "      <td>Africa</td>\n",
       "      <td>NaN</td>\n",
       "    </tr>\n",
       "    <tr>\n",
       "      <th>258</th>\n",
       "      <td>Yaoundé</td>\n",
       "      <td>Cameroon</td>\n",
       "      <td>Africa</td>\n",
       "      <td>NaN</td>\n",
       "    </tr>\n",
       "    <tr>\n",
       "      <th>259</th>\n",
       "      <td>Yaren (de facto)</td>\n",
       "      <td>Nauru</td>\n",
       "      <td>Oceania</td>\n",
       "      <td>Nauru has no official capital; however, the go...</td>\n",
       "    </tr>\n",
       "    <tr>\n",
       "      <th>260</th>\n",
       "      <td>Yerevan</td>\n",
       "      <td>Armenia</td>\n",
       "      <td>Asia</td>\n",
       "      <td>NaN</td>\n",
       "    </tr>\n",
       "    <tr>\n",
       "      <th>261</th>\n",
       "      <td>Zagreb</td>\n",
       "      <td>Croatia</td>\n",
       "      <td>Europe</td>\n",
       "      <td>NaN</td>\n",
       "    </tr>\n",
       "  </tbody>\n",
       "</table>\n",
       "<p>262 rows × 4 columns</p>\n",
       "</div>"
      ],
      "text/plain": [
       "                                             City/Town  \\\n",
       "0    Abidjan (former capital; still hosts some gove...   \n",
       "1                               Yamoussoukro (de jure)   \n",
       "2                                            Abu Dhabi   \n",
       "3                                                Abuja   \n",
       "4                                                Accra   \n",
       "..                                                 ...   \n",
       "257                                           Windhoek   \n",
       "258                                            Yaoundé   \n",
       "259                                   Yaren (de facto)   \n",
       "260                                            Yerevan   \n",
       "261                                             Zagreb   \n",
       "\n",
       "               Country/Territory Continent  \\\n",
       "0    Ivory Coast (Côte d'Ivoire)    Africa   \n",
       "1    Ivory Coast (Côte d'Ivoire)    Africa   \n",
       "2           United Arab Emirates      Asia   \n",
       "3                        Nigeria    Africa   \n",
       "4                          Ghana    Africa   \n",
       "..                           ...       ...   \n",
       "257                      Namibia    Africa   \n",
       "258                     Cameroon    Africa   \n",
       "259                        Nauru   Oceania   \n",
       "260                      Armenia      Asia   \n",
       "261                      Croatia    Europe   \n",
       "\n",
       "                                                 Notes  \n",
       "0    Abidjan is the largest city in Ivory Coast and...  \n",
       "1    Abidjan is the largest city in Ivory Coast and...  \n",
       "2                                                  NaN  \n",
       "3             Lagos was the capital from 1914 to 1991.  \n",
       "4                                                  NaN  \n",
       "..                                                 ...  \n",
       "257                                                NaN  \n",
       "258                                                NaN  \n",
       "259  Nauru has no official capital; however, the go...  \n",
       "260                                                NaN  \n",
       "261                                                NaN  \n",
       "\n",
       "[262 rows x 4 columns]"
      ]
     },
     "execution_count": 5,
     "metadata": {},
     "output_type": "execute_result"
    }
   ],
   "source": [
    "capitals_df"
   ]
  },
  {
   "cell_type": "code",
   "execution_count": 6,
   "metadata": {},
   "outputs": [],
   "source": [
    "# change column names\n",
    "capitals_df = pl.from_pandas(capitals_df,rechunk=True)\n",
    "capitals_df = capitals_df.rename({'City/Town':'city','Country/Territory':'country','Continent':'continent','Notes':'notes'})"
   ]
  },
  {
   "cell_type": "code",
   "execution_count": 7,
   "metadata": {},
   "outputs": [
    {
     "data": {
      "text/html": [
       "<div><style>\n",
       ".dataframe > thead > tr,\n",
       ".dataframe > tbody > tr {\n",
       "  text-align: right;\n",
       "  white-space: pre-wrap;\n",
       "}\n",
       "</style>\n",
       "<small>shape: (286, 7)</small><table border=\"1\" class=\"dataframe\"><thead><tr><th>country</th><th>city</th><th>continent</th><th>latitude</th><th>longitude</th><th>population</th><th>elevation</th></tr><tr><td>str</td><td>str</td><td>str</td><td>str</td><td>str</td><td>f64</td><td>str</td></tr></thead><tbody><tr><td>&quot;Nepal&quot;</td><td>&quot;Pokhara&quot;</td><td>&quot;Asia&quot;</td><td>&quot;N28.2096&quot;</td><td>&quot;E83.9856&quot;</td><td>523000.0</td><td>&quot;822&quot;</td></tr><tr><td>&quot;South Africa&quot;</td><td>&quot;Bloemfontein&quot;</td><td>&quot;Africa&quot;</td><td>&quot;S29.116667&quot;</td><td>&quot;E026.216667&quot;</td><td>747431.0</td><td>&quot;1395&quot;</td></tr><tr><td>&quot;Andorra&quot;</td><td>&quot;Andorra la Vella&quot;</td><td>&quot;Europe&quot;</td><td>&quot;N42.5&quot;</td><td>&quot;W1.5&quot;</td><td>22256.0</td><td>&quot;1023&quot;</td></tr><tr><td>&quot;China&quot;</td><td>&quot;Shanghai&quot;</td><td>&quot;Asia&quot;</td><td>&quot;N31.2304&quot;</td><td>&quot;E121.4737&quot;</td><td>2.632e7</td><td>&quot;122&quot;</td></tr><tr><td>&quot;Italy&quot;</td><td>&quot;Milan&quot;</td><td>&quot;Europe&quot;</td><td>&quot;N45.4625&quot;</td><td>&quot;E9.186389&quot;</td><td>1.378689e6</td><td>&quot;122&quot;</td></tr><tr><td>&hellip;</td><td>&hellip;</td><td>&hellip;</td><td>&hellip;</td><td>&hellip;</td><td>&hellip;</td><td>&hellip;</td></tr><tr><td>&quot;Australia&quot;</td><td>&quot;Brisbane&quot;</td><td>&quot;Oceania&quot;</td><td>&quot;S27.4710&quot;</td><td>&quot;E153.0242&quot;</td><td>null</td><td>&quot;28&quot;</td></tr><tr><td>&quot;Australia&quot;</td><td>&quot;Adelaide&quot;</td><td>&quot;Oceania&quot;</td><td>&quot;S34.9286&quot;</td><td>&quot;E138.5986&quot;</td><td>null</td><td>&quot;61&quot;</td></tr><tr><td>&quot;New Zealand&quot;</td><td>&quot;Wellington&quot;</td><td>&quot;Oceania&quot;</td><td>&quot;S41.2865&quot;</td><td>&quot;E174.7762&quot;</td><td>null</td><td>&quot;20&quot;</td></tr><tr><td>&quot;Papua New Guinea&quot;</td><td>&quot;Port Moresby&quot;</td><td>&quot;Oceania&quot;</td><td>&quot;S09.4656&quot;</td><td>&quot;E147.1969&quot;</td><td>null</td><td>&quot;39&quot;</td></tr><tr><td>&quot;Vietnam&quot;</td><td>&quot;Ho Chi Minh City&quot;</td><td>&quot;Asia&quot;</td><td>&quot;N10.8231&quot;</td><td>&quot;E106.6297&quot;</td><td>8.637e6</td><td>&quot;19&quot;</td></tr></tbody></table></div>"
      ],
      "text/plain": [
       "shape: (286, 7)\n",
       "┌─────────────────┬────────────────┬───────────┬────────────┬─────────────┬────────────┬───────────┐\n",
       "│ country         ┆ city           ┆ continent ┆ latitude   ┆ longitude   ┆ population ┆ elevation │\n",
       "│ ---             ┆ ---            ┆ ---       ┆ ---        ┆ ---         ┆ ---        ┆ ---       │\n",
       "│ str             ┆ str            ┆ str       ┆ str        ┆ str         ┆ f64        ┆ str       │\n",
       "╞═════════════════╪════════════════╪═══════════╪════════════╪═════════════╪════════════╪═══════════╡\n",
       "│ Nepal           ┆ Pokhara        ┆ Asia      ┆ N28.2096   ┆ E83.9856    ┆ 523000.0   ┆ 822       │\n",
       "│ South Africa    ┆ Bloemfontein   ┆ Africa    ┆ S29.116667 ┆ E026.216667 ┆ 747431.0   ┆ 1395      │\n",
       "│ Andorra         ┆ Andorra la     ┆ Europe    ┆ N42.5      ┆ W1.5        ┆ 22256.0    ┆ 1023      │\n",
       "│                 ┆ Vella          ┆           ┆            ┆             ┆            ┆           │\n",
       "│ China           ┆ Shanghai       ┆ Asia      ┆ N31.2304   ┆ E121.4737   ┆ 2.632e7    ┆ 122       │\n",
       "│ Italy           ┆ Milan          ┆ Europe    ┆ N45.4625   ┆ E9.186389   ┆ 1.378689e6 ┆ 122       │\n",
       "│ …               ┆ …              ┆ …         ┆ …          ┆ …           ┆ …          ┆ …         │\n",
       "│ Australia       ┆ Brisbane       ┆ Oceania   ┆ S27.4710   ┆ E153.0242   ┆ null       ┆ 28        │\n",
       "│ Australia       ┆ Adelaide       ┆ Oceania   ┆ S34.9286   ┆ E138.5986   ┆ null       ┆ 61        │\n",
       "│ New Zealand     ┆ Wellington     ┆ Oceania   ┆ S41.2865   ┆ E174.7762   ┆ null       ┆ 20        │\n",
       "│ Papua New       ┆ Port Moresby   ┆ Oceania   ┆ S09.4656   ┆ E147.1969   ┆ null       ┆ 39        │\n",
       "│ Guinea          ┆                ┆           ┆            ┆             ┆            ┆           │\n",
       "│ Vietnam         ┆ Ho Chi Minh    ┆ Asia      ┆ N10.8231   ┆ E106.6297   ┆ 8.637e6    ┆ 19        │\n",
       "│                 ┆ City           ┆           ┆            ┆             ┆            ┆           │\n",
       "└─────────────────┴────────────────┴───────────┴────────────┴─────────────┴────────────┴───────────┘"
      ]
     },
     "execution_count": 7,
     "metadata": {},
     "output_type": "execute_result"
    }
   ],
   "source": [
    "cities_df = pl.from_pandas(cities_df,rechunk=True)\n",
    "cities_df = cities_df.rename({'City Name/s':'city','Country/Territory':'country','Continental Region':'continent','Population':'population','Latitude':'latitude','Longitude':'longitude','Elevation (m)':'elevation'})\n",
    "cities_df"
   ]
  },
  {
   "cell_type": "code",
   "execution_count": 8,
   "metadata": {},
   "outputs": [],
   "source": [
    "# extract all the data before the extra information (brackets in this case)\n",
    "# remove special characters from the city and country names so we can join two datasets later\n",
    "capitals_df = capitals_df.with_columns(\n",
    "    pl.col('city').str.replace(r'\\s*\\(.*', '').replace(r'[\\',.]',''),\n",
    "    pl.col('country').str.replace(r'\\s*\\(.*', '').replace(r'[\\',.]',''),\n",
    "    pl.col('city').str.extract(r'\\s*\\(.*',0).str.strip_chars(' ()').alias('city_extra_info')\n",
    ")\n",
    "\n",
    "cities_df = cities_df.with_columns(\n",
    "    pl.col('city').str.replace(r'\\s*\\(.*', '').replace(r'[\\',.]',''),\n",
    "    pl.col('country').str.replace(r'\\s*\\(.*', '').replace(r'[\\',.]',''),\n",
    "    pl.col('elevation').str.replace(r'\\s*\\(.*', '').replace(r'[\\',.]',''),\n",
    "\n",
    "    )\n",
    "\n",
    "countries_df = cities_df['country']"
   ]
  },
  {
   "cell_type": "code",
   "execution_count": 9,
   "metadata": {},
   "outputs": [
    {
     "data": {
      "text/plain": [
       "262"
      ]
     },
     "execution_count": 9,
     "metadata": {},
     "output_type": "execute_result"
    }
   ],
   "source": [
    "# join city and country data\n",
    "capitals_with_coordinates = capitals_df.join(cities_df[['city','country','latitude','longitude','population','elevation']],how='left',on = ['city','country'])\n",
    "\n",
    "# add combined data to database, schema on write\n",
    "capitals_with_coordinates = capitals_with_coordinates.with_columns(pl.lit(None).alias('flag'))\n",
    "capitals_with_coordinates.write_database(table_name='country_info',connection=f'sqlite:///{db_name}',if_table_exists='replace')"
   ]
  },
  {
   "cell_type": "code",
   "execution_count": 10,
   "metadata": {},
   "outputs": [
    {
     "name": "stdout",
     "output_type": "stream",
     "text": [
      "Table created\n",
      "added Abkhazia\n",
      "added Afghanistan (Islamic Emirate of)\n",
      "added Afghanistan (Islamic Republic of)\n",
      "added Albania\n",
      "added Algeria\n",
      "added Andorra\n",
      "added Angola\n",
      "added Antigua and Barbuda\n",
      "added Argentina\n",
      "added Armenia\n",
      "added Australia\n",
      "added Austria\n",
      "added Azerbaijan\n",
      "added Bahamas\n",
      "added Bahrain\n",
      "added Bangladesh\n",
      "added Barbados\n",
      "added Belarus\n",
      "added Belgium\n",
      "added Belize\n",
      "added Benin\n",
      "added Bhutan\n",
      "added Bolivia\n",
      "added Bosnia and Herzegovina\n",
      "added Botswana\n",
      "added Brazil\n",
      "added Brunei\n",
      "added Bulgaria\n",
      "added Burkina Faso\n",
      "added Burundi\n",
      "added Cambodia\n",
      "added Cameroon\n",
      "added Canada\n",
      "added Cape Verde\n",
      "added Central African Republic\n",
      "added Chad\n",
      "added Chile\n",
      "added China\n",
      "added Colombia\n",
      "added Comoros\n",
      "added Costa Rica\n",
      "added Croatia\n",
      "added Cuba\n",
      "added Cyprus\n",
      "added Czech Republic\n",
      "added Democratic Republic of the Congo\n",
      "added Denmark\n",
      "added Djibouti\n",
      "added Dominica\n",
      "added Dominican Republic\n",
      "added East Timor\n",
      "added Ecuador\n",
      "added Egypt\n",
      "added El Salvador\n",
      "added England\n",
      "added Equatorial Guinea\n",
      "added Eritrea\n",
      "added Estonia\n",
      "added Eswatini\n",
      "added Ethiopia\n",
      "added Fiji\n",
      "added Finland\n",
      "added France\n",
      "added Gabon\n",
      "added Gambia\n",
      "added Georgia\n",
      "added Germany\n",
      "added Ghana\n",
      "added Greece\n",
      "added Grenada\n",
      "added Guatemala\n",
      "added Guinea-Bissau\n",
      "added Guinea\n",
      "added Guyana\n",
      "added Haiti\n",
      "added Honduras\n",
      "added Hungary\n",
      "added Iceland\n",
      "added India\n",
      "added Indonesia\n",
      "added Iran\n",
      "added Iraq\n",
      "added Ireland\n",
      "added Israel\n",
      "added Italy\n",
      "added Ivory Coast\n",
      "added Jamaica\n",
      "added Japan\n",
      "added Jordan\n",
      "added Kazakhstan\n",
      "added Kenya\n",
      "added Kiribati\n",
      "added Kosovo\n",
      "added Kuwait\n",
      "added Kyrgyzstan\n",
      "added Laos\n",
      "added Latvia\n",
      "added Lebanon\n",
      "added Lesotho\n",
      "added Liberia\n",
      "added Libya\n",
      "added Liechtenstein\n",
      "added Lithuania\n",
      "added Luxembourg\n",
      "added Madagascar\n",
      "added Malawi\n",
      "added Malaysia\n",
      "added Maldives\n",
      "added Mali\n",
      "added Malta\n",
      "added Marshall Islands\n",
      "added Mauritania\n",
      "added Mauritius\n",
      "added Mexico\n",
      "added Moldova\n",
      "added Monaco\n",
      "added Mongolia\n",
      "added Montenegro\n",
      "added Morocco\n",
      "added Mozambique\n",
      "added Myanmar\n",
      "added Namibia\n",
      "added Nauru\n",
      "added Nepal\n",
      "added Netherlands\n",
      "added New Zealand\n",
      "added Nicaragua\n",
      "added Niger\n",
      "added Nigeria\n",
      "added Niue\n",
      "added North Korea\n",
      "added North Macedonia\n",
      "added Northern Cyprus\n",
      "added Norway\n",
      "added Oman\n",
      "added Page semi-protected\n",
      "added Pakistan\n",
      "added Palau\n",
      "added Palestine\n",
      "added Panama\n",
      "added Papua New Guinea\n",
      "added Paraguay\n",
      "added Peru\n",
      "added Philippines\n",
      "added Poland\n",
      "added Portugal\n",
      "added Qatar\n",
      "added Republic of the Congo\n",
      "added Romania\n",
      "added Russia\n",
      "added Rwanda\n",
      "added Sahrawi Arab Democratic Republic\n",
      "added Saint Kitts and Nevis\n",
      "added Saint Lucia\n",
      "added Saint Vincent and the Grenadines\n",
      "added Samoa\n",
      "added San Marino\n",
      "added Saudi Arabia\n",
      "added Scotland\n",
      "added Senegal\n",
      "added Serbia\n",
      "added Seychelles\n",
      "added Sierra Leone\n",
      "added Singapore\n",
      "added Slovakia\n",
      "added Slovenia\n",
      "added Solomon Islands\n",
      "added Somalia\n",
      "added Somaliland\n",
      "added South Africa\n",
      "added South Korea\n",
      "added South Ossetia\n",
      "added South Sudan\n",
      "added Spain\n",
      "added Sri Lanka\n",
      "added Sudan\n",
      "added Suriname\n",
      "added Sweden\n",
      "added Switzerland\n",
      "added Syria\n",
      "added São Tomé and Príncipe\n",
      "added Taiwan\n",
      "added Tajikistan\n",
      "added Tanzania\n",
      "added Thailand\n",
      "added Togo\n",
      "added Tonga\n",
      "added Transnistria\n",
      "added Trinidad and Tobago\n",
      "added Tunisia\n",
      "added Turkey\n",
      "added Turkmenistan\n",
      "added Tuvalu\n",
      "added Uganda\n",
      "added Ukraine\n",
      "added United Arab Emirates\n",
      "added United Kingdom\n",
      "added United States of America\n",
      "added Uruguay\n",
      "added Uzbekistan\n",
      "added Vanuatu\n",
      "added Vatican City\n",
      "added Venezuela\n",
      "added Vietnam\n",
      "added Wales\n",
      "added Yemen\n",
      "added Zambia\n",
      "added Zimbabwe\n"
     ]
    },
    {
     "data": {
      "text/html": [
       "<div>\n",
       "<style scoped>\n",
       "    .dataframe tbody tr th:only-of-type {\n",
       "        vertical-align: middle;\n",
       "    }\n",
       "\n",
       "    .dataframe tbody tr th {\n",
       "        vertical-align: top;\n",
       "    }\n",
       "\n",
       "    .dataframe thead th {\n",
       "        text-align: right;\n",
       "    }\n",
       "</style>\n",
       "<table border=\"1\" class=\"dataframe\">\n",
       "  <thead>\n",
       "    <tr style=\"text-align: right;\">\n",
       "      <th></th>\n",
       "      <th>country</th>\n",
       "      <th>flag</th>\n",
       "    </tr>\n",
       "  </thead>\n",
       "  <tbody>\n",
       "    <tr>\n",
       "      <th>0</th>\n",
       "      <td>Abkhazia</td>\n",
       "      <td>b'\\x89PNG\\r\\n\\x1a\\n\\x00\\x00\\x00\\rIHDR\\x00\\x00\\...</td>\n",
       "    </tr>\n",
       "    <tr>\n",
       "      <th>1</th>\n",
       "      <td>Afghanistan (Islamic Emirate of)</td>\n",
       "      <td>b'\\x89PNG\\r\\n\\x1a\\n\\x00\\x00\\x00\\rIHDR\\x00\\x00\\...</td>\n",
       "    </tr>\n",
       "    <tr>\n",
       "      <th>2</th>\n",
       "      <td>Afghanistan (Islamic Republic of)</td>\n",
       "      <td>b'\\x89PNG\\r\\n\\x1a\\n\\x00\\x00\\x00\\rIHDR\\x00\\x00\\...</td>\n",
       "    </tr>\n",
       "    <tr>\n",
       "      <th>3</th>\n",
       "      <td>Albania</td>\n",
       "      <td>b'\\x89PNG\\r\\n\\x1a\\n\\x00\\x00\\x00\\rIHDR\\x00\\x00\\...</td>\n",
       "    </tr>\n",
       "    <tr>\n",
       "      <th>4</th>\n",
       "      <td>Algeria</td>\n",
       "      <td>b'\\x89PNG\\r\\n\\x1a\\n\\x00\\x00\\x00\\rIHDR\\x00\\x00\\...</td>\n",
       "    </tr>\n",
       "    <tr>\n",
       "      <th>...</th>\n",
       "      <td>...</td>\n",
       "      <td>...</td>\n",
       "    </tr>\n",
       "    <tr>\n",
       "      <th>203</th>\n",
       "      <td>Vietnam</td>\n",
       "      <td>b'\\x89PNG\\r\\n\\x1a\\n\\x00\\x00\\x00\\rIHDR\\x00\\x00\\...</td>\n",
       "    </tr>\n",
       "    <tr>\n",
       "      <th>204</th>\n",
       "      <td>Wales</td>\n",
       "      <td>b'\\x89PNG\\r\\n\\x1a\\n\\x00\\x00\\x00\\rIHDR\\x00\\x00\\...</td>\n",
       "    </tr>\n",
       "    <tr>\n",
       "      <th>205</th>\n",
       "      <td>Yemen</td>\n",
       "      <td>b'\\x89PNG\\r\\n\\x1a\\n\\x00\\x00\\x00\\rIHDR\\x00\\x00\\...</td>\n",
       "    </tr>\n",
       "    <tr>\n",
       "      <th>206</th>\n",
       "      <td>Zambia</td>\n",
       "      <td>b'\\x89PNG\\r\\n\\x1a\\n\\x00\\x00\\x00\\rIHDR\\x00\\x00\\...</td>\n",
       "    </tr>\n",
       "    <tr>\n",
       "      <th>207</th>\n",
       "      <td>Zimbabwe</td>\n",
       "      <td>b'\\x89PNG\\r\\n\\x1a\\n\\x00\\x00\\x00\\rIHDR\\x00\\x00\\...</td>\n",
       "    </tr>\n",
       "  </tbody>\n",
       "</table>\n",
       "<p>208 rows × 2 columns</p>\n",
       "</div>"
      ],
      "text/plain": [
       "                               country  \\\n",
       "0                             Abkhazia   \n",
       "1     Afghanistan (Islamic Emirate of)   \n",
       "2    Afghanistan (Islamic Republic of)   \n",
       "3                              Albania   \n",
       "4                              Algeria   \n",
       "..                                 ...   \n",
       "203                            Vietnam   \n",
       "204                              Wales   \n",
       "205                              Yemen   \n",
       "206                             Zambia   \n",
       "207                           Zimbabwe   \n",
       "\n",
       "                                                  flag  \n",
       "0    b'\\x89PNG\\r\\n\\x1a\\n\\x00\\x00\\x00\\rIHDR\\x00\\x00\\...  \n",
       "1    b'\\x89PNG\\r\\n\\x1a\\n\\x00\\x00\\x00\\rIHDR\\x00\\x00\\...  \n",
       "2    b'\\x89PNG\\r\\n\\x1a\\n\\x00\\x00\\x00\\rIHDR\\x00\\x00\\...  \n",
       "3    b'\\x89PNG\\r\\n\\x1a\\n\\x00\\x00\\x00\\rIHDR\\x00\\x00\\...  \n",
       "4    b'\\x89PNG\\r\\n\\x1a\\n\\x00\\x00\\x00\\rIHDR\\x00\\x00\\...  \n",
       "..                                                 ...  \n",
       "203  b'\\x89PNG\\r\\n\\x1a\\n\\x00\\x00\\x00\\rIHDR\\x00\\x00\\...  \n",
       "204  b'\\x89PNG\\r\\n\\x1a\\n\\x00\\x00\\x00\\rIHDR\\x00\\x00\\...  \n",
       "205  b'\\x89PNG\\r\\n\\x1a\\n\\x00\\x00\\x00\\rIHDR\\x00\\x00\\...  \n",
       "206  b'\\x89PNG\\r\\n\\x1a\\n\\x00\\x00\\x00\\rIHDR\\x00\\x00\\...  \n",
       "207  b'\\x89PNG\\r\\n\\x1a\\n\\x00\\x00\\x00\\rIHDR\\x00\\x00\\...  \n",
       "\n",
       "[208 rows x 2 columns]"
      ]
     },
     "execution_count": 10,
     "metadata": {},
     "output_type": "execute_result"
    }
   ],
   "source": [
    "#create flags table\n",
    "drop_table_sql = f'''DROP TABLE IF EXISTS flags;'''\n",
    "create_table_sql = f'''CREATE TABLE flags (country VARCHAR(200), flag BLOB);'''\n",
    "try:\n",
    "   \n",
    "    db_cursor.execute(drop_table_sql)\n",
    "    db_cursor.execute(create_table_sql)\n",
    "    db_conn.commit()\n",
    "    print('Table created')\n",
    "except:\n",
    "    print('Cannot create table, check that you don\"t have any errors in your code')\n",
    "\n",
    "# add flags to database\n",
    "path = 'flags'\n",
    "flags_list = []\n",
    "filenames = glob.glob(f'{path}/*.svg.png')\n",
    "flags_dict = {}\n",
    "# change the path slashes, unix to windows\n",
    "filenames = [f.replace('\\\\','/') for f in filenames]\n",
    "\n",
    "# load all the flags into the database\n",
    "for file in filenames:\n",
    "    try:\n",
    "        with open(file,'rb') as f:\n",
    "            # get rid of dots and square brackets, create country and flag pair\n",
    "            flags_dict = {'country':re.split('[/.\\\\[\\\\]]',file)[1],'flag': f.read()}\n",
    "        insert_data_sql = '''INSERT INTO flags (country,flag) VALUES (?,?);'''\n",
    "        db_cursor.execute(insert_data_sql,(flags_dict['country'],flags_dict['flag']))\n",
    "        print(f'added {flags_dict['country']}')\n",
    "    except:\n",
    "        print(f'Could not read {file}')\n",
    "\n",
    "\n",
    "pd.read_sql('SELECT * FROM flags',db_conn)"
   ]
  },
  {
   "cell_type": "code",
   "execution_count": 11,
   "metadata": {},
   "outputs": [
    {
     "ename": "AttributeError",
     "evalue": "'Series' object has no attribute 'apply'",
     "output_type": "error",
     "traceback": [
      "\u001b[1;31m---------------------------------------------------------------------------\u001b[0m",
      "\u001b[1;31mAttributeError\u001b[0m                            Traceback (most recent call last)",
      "File \u001b[1;32mc:\\Users\\27722\\OneDrive\\Desktop\\de\\python\\countries_and_capitals\\app\\etl.py:6\u001b[0m\n\u001b[0;32m      3\u001b[0m flags_df \u001b[39m=\u001b[39m pl\u001b[39m.\u001b[39mread_database(\u001b[39m'\u001b[39m\u001b[39mSELECT country FROM flags\u001b[39m\u001b[39m'\u001b[39m,db_conn)\n\u001b[0;32m      4\u001b[0m countries_ref_df \u001b[39m=\u001b[39m capitals_df\u001b[39m.\u001b[39mselect([\u001b[39m'\u001b[39m\u001b[39mcountry\u001b[39m\u001b[39m'\u001b[39m])\n\u001b[1;32m----> 6\u001b[0m flags_df[\u001b[39m'\u001b[39m\u001b[39mcountry\u001b[39m\u001b[39m'\u001b[39m] \u001b[39m=\u001b[39m countries_ref_df[\u001b[39m'\u001b[39;49m\u001b[39mcountry\u001b[39;49m\u001b[39m'\u001b[39;49m]\u001b[39m.\u001b[39;49mapply(\u001b[39mlambda\u001b[39;00m x: process\u001b[39m.\u001b[39mextractOne(x,countries_ref_df[\u001b[39m'\u001b[39m\u001b[39mcountry\u001b[39m\u001b[39m'\u001b[39m]),scorer\u001b[39m=\u001b[39mfuzz\u001b[39m.\u001b[39mpartial_ratio)\n",
      "\u001b[1;31mAttributeError\u001b[0m: 'Series' object has no attribute 'apply'"
     ]
    }
   ],
   "source": [
    "# create countries ref table, fuzzy match to fix issue with flags table\n",
    "flags_df = pl.read_database('SELECT country FROM flags',db_conn)\n",
    "countries_ref_df = capitals_df.select(['country'])\n",
    "\n",
    "flags_df['country'] = countries_ref_df['country'].apply(lambda x: process.extractOne(x,countries_ref_df['country']),scorer=fuzz.partial_ratio)"
   ]
  },
  {
   "cell_type": "code",
   "execution_count": null,
   "metadata": {},
   "outputs": [
    {
     "ename": "",
     "evalue": "",
     "output_type": "error",
     "traceback": [
      "\u001b[1;31mCell was canceled due to an error in a previous cell."
     ]
    }
   ],
   "source": [
    "try:\n",
    "    join_tables = f'''UPDATE country_info SET flag = (SELECT flag FROM flags WHERE (country_info.country = flags.country))'''\n",
    "    db_cursor.execute(join_tables)\n",
    "    db_conn.commit()\n",
    "    print('The country_info table ws updated with flags succesfully')\n",
    "except:\n",
    "    db_conn.rollback()\n",
    "    print('Had to rollback, could not update country_info table with flags')"
   ]
  },
  {
   "cell_type": "code",
   "execution_count": null,
   "metadata": {},
   "outputs": [
    {
     "ename": "",
     "evalue": "",
     "output_type": "error",
     "traceback": [
      "\u001b[1;31mCell was canceled due to an error in a previous cell."
     ]
    }
   ],
   "source": [
    "db_conn.close()"
   ]
  },
  {
   "cell_type": "code",
   "execution_count": 12,
   "metadata": {},
   "outputs": [],
   "source": [
    "x = 'England'"
   ]
  },
  {
   "cell_type": "code",
   "execution_count": 13,
   "metadata": {},
   "outputs": [],
   "source": [
    "y = 'Engld'"
   ]
  },
  {
   "cell_type": "code",
   "execution_count": 14,
   "metadata": {},
   "outputs": [
    {
     "data": {
      "text/plain": [
       "83"
      ]
     },
     "execution_count": 14,
     "metadata": {},
     "output_type": "execute_result"
    }
   ],
   "source": [
    "fuzz.ratio(x,y)"
   ]
  },
  {
   "cell_type": "code",
   "execution_count": 15,
   "metadata": {},
   "outputs": [
    {
     "data": {
      "text/plain": [
       "89"
      ]
     },
     "execution_count": 15,
     "metadata": {},
     "output_type": "execute_result"
    }
   ],
   "source": [
    "fuzz.partial_ratio(x,y)"
   ]
  },
  {
   "cell_type": "code",
   "execution_count": 16,
   "metadata": {},
   "outputs": [
    {
     "data": {
      "text/plain": [
       "[('E', 90), ('n', 90), ('g', 90), ('l', 90), ('a', 90)]"
      ]
     },
     "execution_count": 16,
     "metadata": {},
     "output_type": "execute_result"
    }
   ],
   "source": [
    "process.extract('England',x)"
   ]
  },
  {
   "cell_type": "code",
   "execution_count": 17,
   "metadata": {},
   "outputs": [
    {
     "data": {
      "text/plain": [
       "[('E', 25), ('n', 25), ('g', 25), ('l', 25), ('a', 25)]"
      ]
     },
     "execution_count": 17,
     "metadata": {},
     "output_type": "execute_result"
    }
   ],
   "source": [
    "process.extract('England',x,scorer=fuzz.ratio)"
   ]
  },
  {
   "cell_type": "code",
   "execution_count": 18,
   "metadata": {},
   "outputs": [
    {
     "data": {
      "text/plain": [
       "[('E', 100), ('n', 100), ('g', 100), ('l', 100), ('a', 100)]"
      ]
     },
     "execution_count": 18,
     "metadata": {},
     "output_type": "execute_result"
    }
   ],
   "source": [
    "process.extract('England',x,scorer=fuzz.partial_ratio)"
   ]
  },
  {
   "cell_type": "code",
   "execution_count": 19,
   "metadata": {},
   "outputs": [
    {
     "data": {
      "text/plain": [
       "[('E', 100), ('n', 100), ('g', 100), ('l', 100), ('d', 100)]"
      ]
     },
     "execution_count": 19,
     "metadata": {},
     "output_type": "execute_result"
    }
   ],
   "source": [
    "process.extract('England',y,scorer=fuzz.partial_ratio)"
   ]
  },
  {
   "cell_type": "code",
   "execution_count": 20,
   "metadata": {},
   "outputs": [
    {
     "data": {
      "text/plain": [
       "'England'"
      ]
     },
     "execution_count": 20,
     "metadata": {},
     "output_type": "execute_result"
    }
   ],
   "source": [
    "x"
   ]
  },
  {
   "cell_type": "code",
   "execution_count": 21,
   "metadata": {},
   "outputs": [
    {
     "data": {
      "text/plain": [
       "[('E', 100), ('n', 100), ('g', 100), ('l', 100), ('d', 100)]"
      ]
     },
     "execution_count": 21,
     "metadata": {},
     "output_type": "execute_result"
    }
   ],
   "source": [
    "process.extract('england',y,scorer=fuzz.partial_ratio)"
   ]
  },
  {
   "cell_type": "code",
   "execution_count": 22,
   "metadata": {},
   "outputs": [
    {
     "data": {
      "text/plain": [
       "[('E', 100), ('n', 100), ('g', 100), ('l', 100), ('a', 100)]"
      ]
     },
     "execution_count": 22,
     "metadata": {},
     "output_type": "execute_result"
    }
   ],
   "source": [
    "process.extract('england',x,scorer=fuzz.partial_ratio)"
   ]
  },
  {
   "cell_type": "code",
   "execution_count": 23,
   "metadata": {},
   "outputs": [
    {
     "data": {
      "text/plain": [
       "5"
      ]
     },
     "execution_count": 23,
     "metadata": {},
     "output_type": "execute_result"
    }
   ],
   "source": [
    "len(process.extract('england',x,scorer=fuzz.partial_ratio))"
   ]
  },
  {
   "cell_type": "code",
   "execution_count": 24,
   "metadata": {},
   "outputs": [
    {
     "data": {
      "text/plain": [
       "5"
      ]
     },
     "execution_count": 24,
     "metadata": {},
     "output_type": "execute_result"
    }
   ],
   "source": [
    "len(process.extract('england',x,scorer=fuzz.ratio))"
   ]
  },
  {
   "cell_type": "code",
   "execution_count": 25,
   "metadata": {},
   "outputs": [
    {
     "data": {
      "text/plain": [
       "5"
      ]
     },
     "execution_count": 25,
     "metadata": {},
     "output_type": "execute_result"
    }
   ],
   "source": [
    "len(process.extract('engl',x,scorer=fuzz.ratio))"
   ]
  },
  {
   "cell_type": "code",
   "execution_count": 26,
   "metadata": {},
   "outputs": [
    {
     "data": {
      "text/plain": [
       "[('E', 40), ('n', 40), ('g', 40), ('l', 40), ('n', 40)]"
      ]
     },
     "execution_count": 26,
     "metadata": {},
     "output_type": "execute_result"
    }
   ],
   "source": [
    "process.extract('engl',x,scorer=fuzz.ratio)"
   ]
  },
  {
   "cell_type": "code",
   "execution_count": 27,
   "metadata": {},
   "outputs": [
    {
     "data": {
      "text/plain": [
       "'England'"
      ]
     },
     "execution_count": 27,
     "metadata": {},
     "output_type": "execute_result"
    }
   ],
   "source": [
    "x"
   ]
  },
  {
   "cell_type": "code",
   "execution_count": 28,
   "metadata": {},
   "outputs": [],
   "source": [
    "x = ['England','engld','eng']"
   ]
  },
  {
   "cell_type": "code",
   "execution_count": 29,
   "metadata": {},
   "outputs": [
    {
     "data": {
      "text/plain": [
       "[('engld', 89), ('eng', 86), ('England', 73)]"
      ]
     },
     "execution_count": 29,
     "metadata": {},
     "output_type": "execute_result"
    }
   ],
   "source": [
    "process.extract('engl',x,scorer=fuzz.ratio)"
   ]
  },
  {
   "cell_type": "code",
   "execution_count": 30,
   "metadata": {},
   "outputs": [
    {
     "data": {
      "text/plain": [
       "[('England', 100), ('engld', 83), ('eng', 60)]"
      ]
     },
     "execution_count": 30,
     "metadata": {},
     "output_type": "execute_result"
    }
   ],
   "source": [
    "process.extract('England',x,scorer=fuzz.ratio)"
   ]
  },
  {
   "cell_type": "code",
   "execution_count": 31,
   "metadata": {},
   "outputs": [],
   "source": [
    "x = ['England','engld','ENG']"
   ]
  },
  {
   "cell_type": "code",
   "execution_count": 32,
   "metadata": {},
   "outputs": [
    {
     "data": {
      "text/plain": [
       "[('England', 100), ('engld', 83), ('ENG', 60)]"
      ]
     },
     "execution_count": 32,
     "metadata": {},
     "output_type": "execute_result"
    }
   ],
   "source": [
    "process.extract('England',x,scorer=fuzz.ratio)"
   ]
  },
  {
   "cell_type": "code",
   "execution_count": 33,
   "metadata": {},
   "outputs": [
    {
     "data": {
      "text/plain": [
       "[('England', 100), ('ENG', 100), ('engld', 89)]"
      ]
     },
     "execution_count": 33,
     "metadata": {},
     "output_type": "execute_result"
    }
   ],
   "source": [
    "process.extract('England',x,scorer=fuzz.partial_ratio)"
   ]
  },
  {
   "cell_type": "code",
   "execution_count": 34,
   "metadata": {},
   "outputs": [],
   "source": [
    "x = ['England','The offical state of England','Englaend']"
   ]
  },
  {
   "cell_type": "code",
   "execution_count": 35,
   "metadata": {},
   "outputs": [],
   "source": [
    "x = ['England','The offical state of England','Englaend']"
   ]
  },
  {
   "cell_type": "code",
   "execution_count": 36,
   "metadata": {},
   "outputs": [
    {
     "data": {
      "text/plain": [
       "[('England', 100), ('The offical state of England', 100), ('Englaend', 86)]"
      ]
     },
     "execution_count": 36,
     "metadata": {},
     "output_type": "execute_result"
    }
   ],
   "source": [
    "process.extract('England',x,scorer=fuzz.partial_ratio)"
   ]
  },
  {
   "cell_type": "code",
   "execution_count": 37,
   "metadata": {},
   "outputs": [
    {
     "data": {
      "text/plain": [
       "[('England', 100), ('Englaend', 93), ('The offical state of England', 40)]"
      ]
     },
     "execution_count": 37,
     "metadata": {},
     "output_type": "execute_result"
    }
   ],
   "source": [
    "process.extract('England',x,scorer=fuzz.ratio)"
   ]
  },
  {
   "cell_type": "code",
   "execution_count": 38,
   "metadata": {},
   "outputs": [
    {
     "ename": "AttributeError",
     "evalue": "module 'thefuzz.fuzz' has no attribute 'token_ratio'",
     "output_type": "error",
     "traceback": [
      "\u001b[1;31m---------------------------------------------------------------------------\u001b[0m",
      "\u001b[1;31mAttributeError\u001b[0m                            Traceback (most recent call last)",
      "Cell \u001b[1;32mIn[38], line 1\u001b[0m\n\u001b[1;32m----> 1\u001b[0m process\u001b[39m.\u001b[39mextract(\u001b[39m'\u001b[39m\u001b[39mEngland\u001b[39m\u001b[39m'\u001b[39m,x,scorer\u001b[39m=\u001b[39mfuzz\u001b[39m.\u001b[39;49mtoken_ratio)\n",
      "\u001b[1;31mAttributeError\u001b[0m: module 'thefuzz.fuzz' has no attribute 'token_ratio'"
     ]
    }
   ],
   "source": [
    "process.extract('England',x,scorer=fuzz.token_ratio)"
   ]
  },
  {
   "cell_type": "code",
   "execution_count": 39,
   "metadata": {},
   "outputs": [
    {
     "ename": "AttributeError",
     "evalue": "module 'thefuzz.fuzz' has no attribute 'token'",
     "output_type": "error",
     "traceback": [
      "\u001b[1;31m---------------------------------------------------------------------------\u001b[0m",
      "\u001b[1;31mAttributeError\u001b[0m                            Traceback (most recent call last)",
      "Cell \u001b[1;32mIn[39], line 1\u001b[0m\n\u001b[1;32m----> 1\u001b[0m process\u001b[39m.\u001b[39mextract(\u001b[39m'\u001b[39m\u001b[39mEngland\u001b[39m\u001b[39m'\u001b[39m,x,scorer\u001b[39m=\u001b[39mfuzz\u001b[39m.\u001b[39;49mtoken)\n",
      "\u001b[1;31mAttributeError\u001b[0m: module 'thefuzz.fuzz' has no attribute 'token'"
     ]
    }
   ],
   "source": [
    "process.extract('England',x,scorer=fuzz.token)"
   ]
  },
  {
   "cell_type": "code",
   "execution_count": 40,
   "metadata": {},
   "outputs": [
    {
     "data": {
      "text/plain": [
       "[('England', 100), ('The offical state of England', 100), ('Englaend', 93)]"
      ]
     },
     "execution_count": 40,
     "metadata": {},
     "output_type": "execute_result"
    }
   ],
   "source": [
    "process.extract('England',x,scorer=fuzz.token_set_ratio)"
   ]
  },
  {
   "cell_type": "code",
   "execution_count": 41,
   "metadata": {},
   "outputs": [],
   "source": [
    "x = ['England','The offical state of England','Englaend','Eng land']"
   ]
  },
  {
   "cell_type": "code",
   "execution_count": 42,
   "metadata": {},
   "outputs": [
    {
     "data": {
      "text/plain": [
       "[('England', 100),\n",
       " ('The offical state of England', 100),\n",
       " ('Englaend', 93),\n",
       " ('Eng land', 93)]"
      ]
     },
     "execution_count": 42,
     "metadata": {},
     "output_type": "execute_result"
    }
   ],
   "source": [
    "process.extract('England',x,scorer=fuzz.token_set_ratio)"
   ]
  },
  {
   "cell_type": "code",
   "execution_count": 43,
   "metadata": {},
   "outputs": [
    {
     "data": {
      "text/plain": [
       "[('England', 100),\n",
       " ('The offical state of England', 100),\n",
       " ('Englaend', 86),\n",
       " ('Eng land', 86)]"
      ]
     },
     "execution_count": 43,
     "metadata": {},
     "output_type": "execute_result"
    }
   ],
   "source": [
    "process.extract('England',x,scorer=fuzz.partial_ratio)"
   ]
  },
  {
   "cell_type": "code",
   "execution_count": 44,
   "metadata": {},
   "outputs": [
    {
     "data": {
      "text/plain": [
       "('England', 100)"
      ]
     },
     "execution_count": 44,
     "metadata": {},
     "output_type": "execute_result"
    }
   ],
   "source": [
    "process.extractOne('England',x,scorer=fuzz.partial_ratio)"
   ]
  },
  {
   "cell_type": "code",
   "execution_count": 45,
   "metadata": {},
   "outputs": [
    {
     "ename": "AttributeError",
     "evalue": "'Series' object has no attribute 'select'",
     "output_type": "error",
     "traceback": [
      "\u001b[1;31m---------------------------------------------------------------------------\u001b[0m",
      "\u001b[1;31mAttributeError\u001b[0m                            Traceback (most recent call last)",
      "File \u001b[1;32mc:\\Users\\27722\\OneDrive\\Desktop\\de\\python\\countries_and_capitals\\app\\etl.py:1\u001b[0m\n\u001b[1;32m----> 1\u001b[0m countries_ref_df[\u001b[39m'\u001b[39;49m\u001b[39mcountry\u001b[39;49m\u001b[39m'\u001b[39;49m]\u001b[39m.\u001b[39;49mselect(process\u001b[39m.\u001b[39mextractOne(countries_ref_df[\u001b[39m'\u001b[39m\u001b[39mcountry\u001b[39m\u001b[39m'\u001b[39m]),scorer\u001b[39m=\u001b[39mfuzz\u001b[39m.\u001b[39mtoken_set_ratio)\n",
      "\u001b[1;31mAttributeError\u001b[0m: 'Series' object has no attribute 'select'"
     ]
    }
   ],
   "source": [
    "countries_ref_df['country'].select(process.extractOne(countries_ref_df['country']),scorer=fuzz.token_set_ratio)"
   ]
  },
  {
   "cell_type": "code",
   "execution_count": 46,
   "metadata": {},
   "outputs": [
    {
     "ename": "TypeError",
     "evalue": "extractOne() missing 1 required positional argument: 'choices'",
     "output_type": "error",
     "traceback": [
      "\u001b[1;31m---------------------------------------------------------------------------\u001b[0m",
      "\u001b[1;31mTypeError\u001b[0m                                 Traceback (most recent call last)",
      "File \u001b[1;32mc:\\Users\\27722\\OneDrive\\Desktop\\de\\python\\countries_and_capitals\\app\\etl.py:1\u001b[0m\n\u001b[1;32m----> 1\u001b[0m countries_ref_df\u001b[39m.\u001b[39mselect(process\u001b[39m.\u001b[39;49mextractOne(countries_ref_df),scorer\u001b[39m=\u001b[39mfuzz\u001b[39m.\u001b[39mtoken_set_ratio)\n",
      "\u001b[1;31mTypeError\u001b[0m: extractOne() missing 1 required positional argument: 'choices'"
     ]
    }
   ],
   "source": [
    "countries_ref_df.select(process.extractOne(countries_ref_df),scorer=fuzz.token_set_ratio)"
   ]
  },
  {
   "cell_type": "code",
   "execution_count": 47,
   "metadata": {},
   "outputs": [
    {
     "ename": "TypeError",
     "evalue": "extractOne() missing 1 required positional argument: 'choices'",
     "output_type": "error",
     "traceback": [
      "\u001b[1;31m---------------------------------------------------------------------------\u001b[0m",
      "\u001b[1;31mTypeError\u001b[0m                                 Traceback (most recent call last)",
      "File \u001b[1;32mc:\\Users\\27722\\OneDrive\\Desktop\\de\\python\\countries_and_capitals\\app\\etl.py:1\u001b[0m\n\u001b[1;32m----> 1\u001b[0m countries_ref_df\u001b[39m.\u001b[39mselect(process\u001b[39m.\u001b[39;49mextractOne(countries_ref_df,scorer\u001b[39m=\u001b[39;49mfuzz\u001b[39m.\u001b[39;49mtoken_set_ratio))\n",
      "\u001b[1;31mTypeError\u001b[0m: extractOne() missing 1 required positional argument: 'choices'"
     ]
    }
   ],
   "source": [
    "countries_ref_df.select(process.extractOne(countries_ref_df,scorer=fuzz.token_set_ratio))"
   ]
  },
  {
   "cell_type": "code",
   "execution_count": 48,
   "metadata": {},
   "outputs": [
    {
     "ename": "TypeError",
     "evalue": "sentence must be a String",
     "output_type": "error",
     "traceback": [
      "\u001b[1;31m---------------------------------------------------------------------------\u001b[0m",
      "\u001b[1;31mTypeError\u001b[0m                                 Traceback (most recent call last)",
      "File \u001b[1;32mc:\\Users\\27722\\OneDrive\\Desktop\\de\\python\\countries_and_capitals\\app\\etl.py:1\u001b[0m\n\u001b[1;32m----> 1\u001b[0m countries_ref_df\u001b[39m.\u001b[39mselect(process\u001b[39m.\u001b[39;49mextractOne(flags_df,countries_ref_df,scorer\u001b[39m=\u001b[39;49mfuzz\u001b[39m.\u001b[39;49mtoken_set_ratio))\n",
      "File \u001b[1;32mc:\\Users\\27722\\AppData\\Local\\Programs\\Python\\Python312\\Lib\\site-packages\\thefuzz\\process.py:260\u001b[0m, in \u001b[0;36mextractOne\u001b[1;34m(query, choices, processor, scorer, score_cutoff)\u001b[0m\n\u001b[0;32m    257\u001b[0m is_mapping \u001b[39m=\u001b[39m \u001b[39mhasattr\u001b[39m(choices, \u001b[39m\"\u001b[39m\u001b[39mitems\u001b[39m\u001b[39m\"\u001b[39m)\n\u001b[0;32m    258\u001b[0m is_lowered \u001b[39m=\u001b[39m scorer \u001b[39min\u001b[39;00m _scorer_lowering\n\u001b[1;32m--> 260\u001b[0m query \u001b[39m=\u001b[39m _preprocess_query(query, processor)\n\u001b[0;32m    261\u001b[0m res \u001b[39m=\u001b[39m rprocess\u001b[39m.\u001b[39mextractOne(\n\u001b[0;32m    262\u001b[0m     query, choices,\n\u001b[0;32m    263\u001b[0m     processor\u001b[39m=\u001b[39m_get_processor(processor, scorer),\n\u001b[0;32m    264\u001b[0m     scorer\u001b[39m=\u001b[39m_get_scorer(scorer),\n\u001b[0;32m    265\u001b[0m     score_cutoff\u001b[39m=\u001b[39mscore_cutoff\n\u001b[0;32m    266\u001b[0m )\n\u001b[0;32m    268\u001b[0m \u001b[39mif\u001b[39;00m res \u001b[39mis\u001b[39;00m \u001b[39mNone\u001b[39;00m:\n",
      "File \u001b[1;32mc:\\Users\\27722\\AppData\\Local\\Programs\\Python\\Python312\\Lib\\site-packages\\thefuzz\\process.py:71\u001b[0m, in \u001b[0;36m_preprocess_query\u001b[1;34m(query, processor)\u001b[0m\n\u001b[0;32m     70\u001b[0m \u001b[39mdef\u001b[39;00m \u001b[39m_preprocess_query\u001b[39m(query, processor):\n\u001b[1;32m---> 71\u001b[0m     processed_query \u001b[39m=\u001b[39m processor(query) \u001b[39mif\u001b[39;00m processor \u001b[39melse\u001b[39;00m query\n\u001b[0;32m     72\u001b[0m     \u001b[39mif\u001b[39;00m \u001b[39mlen\u001b[39m(processed_query) \u001b[39m==\u001b[39m \u001b[39m0\u001b[39m:\n\u001b[0;32m     73\u001b[0m         _logger\u001b[39m.\u001b[39mwarning(\u001b[39m\"\u001b[39m\u001b[39mApplied processor reduces input query to empty string, \u001b[39m\u001b[39m\"\u001b[39m\n\u001b[0;32m     74\u001b[0m                         \u001b[39m\"\u001b[39m\u001b[39mall comparisons will have score 0. \u001b[39m\u001b[39m\"\u001b[39m\n\u001b[0;32m     75\u001b[0m                         \u001b[39mf\u001b[39m\u001b[39m\"\u001b[39m\u001b[39m[Query: \u001b[39m\u001b[39m\\'\u001b[39;00m\u001b[39m{\u001b[39;00mquery\u001b[39m}\u001b[39;00m\u001b[39m\\'\u001b[39;00m\u001b[39m]\u001b[39m\u001b[39m\"\u001b[39m)\n",
      "File \u001b[1;32mc:\\Users\\27722\\AppData\\Local\\Programs\\Python\\Python312\\Lib\\site-packages\\thefuzz\\utils.py:22\u001b[0m, in \u001b[0;36mfull_process\u001b[1;34m(s, force_ascii)\u001b[0m\n\u001b[0;32m     19\u001b[0m \u001b[39mif\u001b[39;00m force_ascii:\n\u001b[0;32m     20\u001b[0m     s \u001b[39m=\u001b[39m ascii_only(\u001b[39mstr\u001b[39m(s))\n\u001b[1;32m---> 22\u001b[0m \u001b[39mreturn\u001b[39;00m _default_process(s)\n",
      "File \u001b[1;32msrc/rapidfuzz/utils_cpp.pyx:24\u001b[0m, in \u001b[0;36mrapidfuzz.utils_cpp.default_process\u001b[1;34m()\u001b[0m\n",
      "\u001b[1;31mTypeError\u001b[0m: sentence must be a String"
     ]
    }
   ],
   "source": [
    "countries_ref_df.select(process.extractOne(flags_df,countries_ref_df,scorer=fuzz.token_set_ratio))"
   ]
  },
  {
   "cell_type": "code",
   "execution_count": 49,
   "metadata": {},
   "outputs": [
    {
     "ename": "TypeError",
     "evalue": "sentence must be a String",
     "output_type": "error",
     "traceback": [
      "\u001b[1;31m---------------------------------------------------------------------------\u001b[0m",
      "\u001b[1;31mTypeError\u001b[0m                                 Traceback (most recent call last)",
      "File \u001b[1;32mc:\\Users\\27722\\OneDrive\\Desktop\\de\\python\\countries_and_capitals\\app\\etl.py:1\u001b[0m\n\u001b[1;32m----> 1\u001b[0m countries_ref_df\u001b[39m.\u001b[39mselect(process\u001b[39m.\u001b[39;49mextractOne(flags_df[\u001b[39m'\u001b[39;49m\u001b[39mcountry\u001b[39;49m\u001b[39m'\u001b[39;49m],countries_ref_df,scorer\u001b[39m=\u001b[39;49mfuzz\u001b[39m.\u001b[39;49mtoken_set_ratio))\n",
      "File \u001b[1;32mc:\\Users\\27722\\AppData\\Local\\Programs\\Python\\Python312\\Lib\\site-packages\\thefuzz\\process.py:260\u001b[0m, in \u001b[0;36mextractOne\u001b[1;34m(query, choices, processor, scorer, score_cutoff)\u001b[0m\n\u001b[0;32m    257\u001b[0m is_mapping \u001b[39m=\u001b[39m \u001b[39mhasattr\u001b[39m(choices, \u001b[39m\"\u001b[39m\u001b[39mitems\u001b[39m\u001b[39m\"\u001b[39m)\n\u001b[0;32m    258\u001b[0m is_lowered \u001b[39m=\u001b[39m scorer \u001b[39min\u001b[39;00m _scorer_lowering\n\u001b[1;32m--> 260\u001b[0m query \u001b[39m=\u001b[39m _preprocess_query(query, processor)\n\u001b[0;32m    261\u001b[0m res \u001b[39m=\u001b[39m rprocess\u001b[39m.\u001b[39mextractOne(\n\u001b[0;32m    262\u001b[0m     query, choices,\n\u001b[0;32m    263\u001b[0m     processor\u001b[39m=\u001b[39m_get_processor(processor, scorer),\n\u001b[0;32m    264\u001b[0m     scorer\u001b[39m=\u001b[39m_get_scorer(scorer),\n\u001b[0;32m    265\u001b[0m     score_cutoff\u001b[39m=\u001b[39mscore_cutoff\n\u001b[0;32m    266\u001b[0m )\n\u001b[0;32m    268\u001b[0m \u001b[39mif\u001b[39;00m res \u001b[39mis\u001b[39;00m \u001b[39mNone\u001b[39;00m:\n",
      "File \u001b[1;32mc:\\Users\\27722\\AppData\\Local\\Programs\\Python\\Python312\\Lib\\site-packages\\thefuzz\\process.py:71\u001b[0m, in \u001b[0;36m_preprocess_query\u001b[1;34m(query, processor)\u001b[0m\n\u001b[0;32m     70\u001b[0m \u001b[39mdef\u001b[39;00m \u001b[39m_preprocess_query\u001b[39m(query, processor):\n\u001b[1;32m---> 71\u001b[0m     processed_query \u001b[39m=\u001b[39m processor(query) \u001b[39mif\u001b[39;00m processor \u001b[39melse\u001b[39;00m query\n\u001b[0;32m     72\u001b[0m     \u001b[39mif\u001b[39;00m \u001b[39mlen\u001b[39m(processed_query) \u001b[39m==\u001b[39m \u001b[39m0\u001b[39m:\n\u001b[0;32m     73\u001b[0m         _logger\u001b[39m.\u001b[39mwarning(\u001b[39m\"\u001b[39m\u001b[39mApplied processor reduces input query to empty string, \u001b[39m\u001b[39m\"\u001b[39m\n\u001b[0;32m     74\u001b[0m                         \u001b[39m\"\u001b[39m\u001b[39mall comparisons will have score 0. \u001b[39m\u001b[39m\"\u001b[39m\n\u001b[0;32m     75\u001b[0m                         \u001b[39mf\u001b[39m\u001b[39m\"\u001b[39m\u001b[39m[Query: \u001b[39m\u001b[39m\\'\u001b[39;00m\u001b[39m{\u001b[39;00mquery\u001b[39m}\u001b[39;00m\u001b[39m\\'\u001b[39;00m\u001b[39m]\u001b[39m\u001b[39m\"\u001b[39m)\n",
      "File \u001b[1;32mc:\\Users\\27722\\AppData\\Local\\Programs\\Python\\Python312\\Lib\\site-packages\\thefuzz\\utils.py:22\u001b[0m, in \u001b[0;36mfull_process\u001b[1;34m(s, force_ascii)\u001b[0m\n\u001b[0;32m     19\u001b[0m \u001b[39mif\u001b[39;00m force_ascii:\n\u001b[0;32m     20\u001b[0m     s \u001b[39m=\u001b[39m ascii_only(\u001b[39mstr\u001b[39m(s))\n\u001b[1;32m---> 22\u001b[0m \u001b[39mreturn\u001b[39;00m _default_process(s)\n",
      "File \u001b[1;32msrc/rapidfuzz/utils_cpp.pyx:24\u001b[0m, in \u001b[0;36mrapidfuzz.utils_cpp.default_process\u001b[1;34m()\u001b[0m\n",
      "\u001b[1;31mTypeError\u001b[0m: sentence must be a String"
     ]
    }
   ],
   "source": [
    "countries_ref_df.select(process.extractOne(flags_df['country'],countries_ref_df,scorer=fuzz.token_set_ratio))"
   ]
  },
  {
   "cell_type": "code",
   "execution_count": 50,
   "metadata": {},
   "outputs": [
    {
     "data": {
      "text/html": [
       "<div><style>\n",
       ".dataframe > thead > tr,\n",
       ".dataframe > tbody > tr {\n",
       "  text-align: right;\n",
       "  white-space: pre-wrap;\n",
       "}\n",
       "</style>\n",
       "<small>shape: (208,)</small><table border=\"1\" class=\"dataframe\"><thead><tr><th>country</th></tr><tr><td>str</td></tr></thead><tbody><tr><td>&quot;Abkhazia&quot;</td></tr><tr><td>&quot;Afghanistan (Islamic Emirate o…</td></tr><tr><td>&quot;Afghanistan (Islamic Republic …</td></tr><tr><td>&quot;Albania&quot;</td></tr><tr><td>&quot;Algeria&quot;</td></tr><tr><td>&hellip;</td></tr><tr><td>&quot;Vietnam&quot;</td></tr><tr><td>&quot;Wales&quot;</td></tr><tr><td>&quot;Yemen&quot;</td></tr><tr><td>&quot;Zambia&quot;</td></tr><tr><td>&quot;Zimbabwe&quot;</td></tr></tbody></table></div>"
      ],
      "text/plain": [
       "shape: (208,)\n",
       "Series: 'country' [str]\n",
       "[\n",
       "\t\"Abkhazia\"\n",
       "\t\"Afghanistan (Islamic Emirate o…\n",
       "\t\"Afghanistan (Islamic Republic …\n",
       "\t\"Albania\"\n",
       "\t\"Algeria\"\n",
       "\t…\n",
       "\t\"Vietnam\"\n",
       "\t\"Wales\"\n",
       "\t\"Yemen\"\n",
       "\t\"Zambia\"\n",
       "\t\"Zimbabwe\"\n",
       "]"
      ]
     },
     "execution_count": 50,
     "metadata": {},
     "output_type": "execute_result"
    }
   ],
   "source": [
    "flags_df['country']"
   ]
  },
  {
   "cell_type": "code",
   "execution_count": 51,
   "metadata": {},
   "outputs": [
    {
     "data": {
      "text/html": [
       "<div><style>\n",
       ".dataframe > thead > tr,\n",
       ".dataframe > tbody > tr {\n",
       "  text-align: right;\n",
       "  white-space: pre-wrap;\n",
       "}\n",
       "</style>\n",
       "<small>shape: (262, 1)</small><table border=\"1\" class=\"dataframe\"><thead><tr><th>country</th></tr><tr><td>str</td></tr></thead><tbody><tr><td>&quot;Ivory Coast&quot;</td></tr><tr><td>&quot;Ivory Coast&quot;</td></tr><tr><td>&quot;United Arab Emirates&quot;</td></tr><tr><td>&quot;Nigeria&quot;</td></tr><tr><td>&quot;Ghana&quot;</td></tr><tr><td>&hellip;</td></tr><tr><td>&quot;Namibia&quot;</td></tr><tr><td>&quot;Cameroon&quot;</td></tr><tr><td>&quot;Nauru&quot;</td></tr><tr><td>&quot;Armenia&quot;</td></tr><tr><td>&quot;Croatia&quot;</td></tr></tbody></table></div>"
      ],
      "text/plain": [
       "shape: (262, 1)\n",
       "┌──────────────────────┐\n",
       "│ country              │\n",
       "│ ---                  │\n",
       "│ str                  │\n",
       "╞══════════════════════╡\n",
       "│ Ivory Coast          │\n",
       "│ Ivory Coast          │\n",
       "│ United Arab Emirates │\n",
       "│ Nigeria              │\n",
       "│ Ghana                │\n",
       "│ …                    │\n",
       "│ Namibia              │\n",
       "│ Cameroon             │\n",
       "│ Nauru                │\n",
       "│ Armenia              │\n",
       "│ Croatia              │\n",
       "└──────────────────────┘"
      ]
     },
     "execution_count": 51,
     "metadata": {},
     "output_type": "execute_result"
    }
   ],
   "source": [
    "countries_ref_df"
   ]
  },
  {
   "cell_type": "code",
   "execution_count": 52,
   "metadata": {},
   "outputs": [
    {
     "data": {
      "text/html": [
       "<div><style>\n",
       ".dataframe > thead > tr,\n",
       ".dataframe > tbody > tr {\n",
       "  text-align: right;\n",
       "  white-space: pre-wrap;\n",
       "}\n",
       "</style>\n",
       "<small>shape: (262, 1)</small><table border=\"1\" class=\"dataframe\"><thead><tr><th>country</th></tr><tr><td>str</td></tr></thead><tbody><tr><td>&quot;Ivory Coast&quot;</td></tr><tr><td>&quot;Ivory Coast&quot;</td></tr><tr><td>&quot;United Arab Emirates&quot;</td></tr><tr><td>&quot;Nigeria&quot;</td></tr><tr><td>&quot;Ghana&quot;</td></tr><tr><td>&hellip;</td></tr><tr><td>&quot;Namibia&quot;</td></tr><tr><td>&quot;Cameroon&quot;</td></tr><tr><td>&quot;Nauru&quot;</td></tr><tr><td>&quot;Armenia&quot;</td></tr><tr><td>&quot;Croatia&quot;</td></tr></tbody></table></div>"
      ],
      "text/plain": [
       "shape: (262, 1)\n",
       "┌──────────────────────┐\n",
       "│ country              │\n",
       "│ ---                  │\n",
       "│ str                  │\n",
       "╞══════════════════════╡\n",
       "│ Ivory Coast          │\n",
       "│ Ivory Coast          │\n",
       "│ United Arab Emirates │\n",
       "│ Nigeria              │\n",
       "│ Ghana                │\n",
       "│ …                    │\n",
       "│ Namibia              │\n",
       "│ Cameroon             │\n",
       "│ Nauru                │\n",
       "│ Armenia              │\n",
       "│ Croatia              │\n",
       "└──────────────────────┘"
      ]
     },
     "execution_count": 52,
     "metadata": {},
     "output_type": "execute_result"
    }
   ],
   "source": [
    "countries_ref_df"
   ]
  },
  {
   "cell_type": "code",
   "execution_count": 53,
   "metadata": {},
   "outputs": [
    {
     "ename": "TypeError",
     "evalue": "the truth value of a DataFrame is ambiguous\n\nHint: to check if a DataFrame contains any values, use `is_empty()`.",
     "output_type": "error",
     "traceback": [
      "\u001b[1;31m---------------------------------------------------------------------------\u001b[0m",
      "\u001b[1;31mTypeError\u001b[0m                                 Traceback (most recent call last)",
      "File \u001b[1;32mc:\\Users\\27722\\OneDrive\\Desktop\\de\\python\\countries_and_capitals\\app\\etl.py:1\u001b[0m\n\u001b[1;32m----> 1\u001b[0m countries_ref_df\u001b[39m.\u001b[39mselect(process\u001b[39m.\u001b[39;49mextractOne(countries_ref_df,flags_df[\u001b[39m'\u001b[39;49m\u001b[39mcountry\u001b[39;49m\u001b[39m'\u001b[39;49m],countries_ref_df,scorer\u001b[39m=\u001b[39;49mfuzz\u001b[39m.\u001b[39;49mtoken_set_ratio))\u001b[39m.\u001b[39malias(\u001b[39m'\u001b[39m\u001b[39mnew_column\u001b[39m\u001b[39m'\u001b[39m)\n",
      "File \u001b[1;32mc:\\Users\\27722\\AppData\\Local\\Programs\\Python\\Python312\\Lib\\site-packages\\thefuzz\\process.py:260\u001b[0m, in \u001b[0;36mextractOne\u001b[1;34m(query, choices, processor, scorer, score_cutoff)\u001b[0m\n\u001b[0;32m    257\u001b[0m is_mapping \u001b[39m=\u001b[39m \u001b[39mhasattr\u001b[39m(choices, \u001b[39m\"\u001b[39m\u001b[39mitems\u001b[39m\u001b[39m\"\u001b[39m)\n\u001b[0;32m    258\u001b[0m is_lowered \u001b[39m=\u001b[39m scorer \u001b[39min\u001b[39;00m _scorer_lowering\n\u001b[1;32m--> 260\u001b[0m query \u001b[39m=\u001b[39m _preprocess_query(query, processor)\n\u001b[0;32m    261\u001b[0m res \u001b[39m=\u001b[39m rprocess\u001b[39m.\u001b[39mextractOne(\n\u001b[0;32m    262\u001b[0m     query, choices,\n\u001b[0;32m    263\u001b[0m     processor\u001b[39m=\u001b[39m_get_processor(processor, scorer),\n\u001b[0;32m    264\u001b[0m     scorer\u001b[39m=\u001b[39m_get_scorer(scorer),\n\u001b[0;32m    265\u001b[0m     score_cutoff\u001b[39m=\u001b[39mscore_cutoff\n\u001b[0;32m    266\u001b[0m )\n\u001b[0;32m    268\u001b[0m \u001b[39mif\u001b[39;00m res \u001b[39mis\u001b[39;00m \u001b[39mNone\u001b[39;00m:\n",
      "File \u001b[1;32mc:\\Users\\27722\\AppData\\Local\\Programs\\Python\\Python312\\Lib\\site-packages\\thefuzz\\process.py:71\u001b[0m, in \u001b[0;36m_preprocess_query\u001b[1;34m(query, processor)\u001b[0m\n\u001b[0;32m     70\u001b[0m \u001b[39mdef\u001b[39;00m \u001b[39m_preprocess_query\u001b[39m(query, processor):\n\u001b[1;32m---> 71\u001b[0m     processed_query \u001b[39m=\u001b[39m processor(query) \u001b[39mif\u001b[39;00m processor \u001b[39melse\u001b[39;00m query\n\u001b[0;32m     72\u001b[0m     \u001b[39mif\u001b[39;00m \u001b[39mlen\u001b[39m(processed_query) \u001b[39m==\u001b[39m \u001b[39m0\u001b[39m:\n\u001b[0;32m     73\u001b[0m         _logger\u001b[39m.\u001b[39mwarning(\u001b[39m\"\u001b[39m\u001b[39mApplied processor reduces input query to empty string, \u001b[39m\u001b[39m\"\u001b[39m\n\u001b[0;32m     74\u001b[0m                         \u001b[39m\"\u001b[39m\u001b[39mall comparisons will have score 0. \u001b[39m\u001b[39m\"\u001b[39m\n\u001b[0;32m     75\u001b[0m                         \u001b[39mf\u001b[39m\u001b[39m\"\u001b[39m\u001b[39m[Query: \u001b[39m\u001b[39m\\'\u001b[39;00m\u001b[39m{\u001b[39;00mquery\u001b[39m}\u001b[39;00m\u001b[39m\\'\u001b[39;00m\u001b[39m]\u001b[39m\u001b[39m\"\u001b[39m)\n",
      "File \u001b[1;32mc:\\Users\\27722\\AppData\\Local\\Programs\\Python\\Python312\\Lib\\site-packages\\polars\\dataframe\\frame.py:1067\u001b[0m, in \u001b[0;36mDataFrame.__bool__\u001b[1;34m(self)\u001b[0m\n\u001b[0;32m   1062\u001b[0m \u001b[39mdef\u001b[39;00m \u001b[39m__bool__\u001b[39m(\u001b[39mself\u001b[39m) \u001b[39m-\u001b[39m\u001b[39m>\u001b[39m NoReturn:\n\u001b[0;32m   1063\u001b[0m     msg \u001b[39m=\u001b[39m (\n\u001b[0;32m   1064\u001b[0m         \u001b[39m\"\u001b[39m\u001b[39mthe truth value of a DataFrame is ambiguous\u001b[39m\u001b[39m\"\u001b[39m\n\u001b[0;32m   1065\u001b[0m         \u001b[39m\"\u001b[39m\u001b[39m\\n\u001b[39;00m\u001b[39m\\n\u001b[39;00m\u001b[39mHint: to check if a DataFrame contains any values, use `is_empty()`.\u001b[39m\u001b[39m\"\u001b[39m\n\u001b[0;32m   1066\u001b[0m     )\n\u001b[1;32m-> 1067\u001b[0m     \u001b[39mraise\u001b[39;00m \u001b[39mTypeError\u001b[39;00m(msg)\n",
      "\u001b[1;31mTypeError\u001b[0m: the truth value of a DataFrame is ambiguous\n\nHint: to check if a DataFrame contains any values, use `is_empty()`."
     ]
    }
   ],
   "source": [
    "countries_ref_df.select(process.extractOne(countries_ref_df,flags_df['country'],countries_ref_df,scorer=fuzz.token_set_ratio)).alias('new_column')"
   ]
  },
  {
   "cell_type": "code",
   "execution_count": 54,
   "metadata": {},
   "outputs": [
    {
     "ename": "TypeError",
     "evalue": "the truth value of a Series is ambiguous\n\nHere are some things you might want to try:\n- instead of `if s`, use `if not s.is_empty()`\n- instead of `s1 and s2`, use `s1 & s2`\n- instead of `s1 or s2`, use `s1 | s2`\n- instead of `s in [y, z]`, use `s.is_in([y, z])`\n",
     "output_type": "error",
     "traceback": [
      "\u001b[1;31m---------------------------------------------------------------------------\u001b[0m",
      "\u001b[1;31mTypeError\u001b[0m                                 Traceback (most recent call last)",
      "File \u001b[1;32mc:\\Users\\27722\\OneDrive\\Desktop\\de\\python\\countries_and_capitals\\app\\etl.py:1\u001b[0m\n\u001b[1;32m----> 1\u001b[0m countries_ref_df\u001b[39m.\u001b[39mselect(process\u001b[39m.\u001b[39;49mextractOne(countries_ref_df,flags_df[\u001b[39m'\u001b[39;49m\u001b[39mcountry\u001b[39;49m\u001b[39m'\u001b[39;49m],countries_ref_df[\u001b[39m'\u001b[39;49m\u001b[39mcountry\u001b[39;49m\u001b[39m'\u001b[39;49m],scorer\u001b[39m=\u001b[39;49mfuzz\u001b[39m.\u001b[39;49mtoken_set_ratio))\n",
      "File \u001b[1;32mc:\\Users\\27722\\AppData\\Local\\Programs\\Python\\Python312\\Lib\\site-packages\\thefuzz\\process.py:260\u001b[0m, in \u001b[0;36mextractOne\u001b[1;34m(query, choices, processor, scorer, score_cutoff)\u001b[0m\n\u001b[0;32m    257\u001b[0m is_mapping \u001b[39m=\u001b[39m \u001b[39mhasattr\u001b[39m(choices, \u001b[39m\"\u001b[39m\u001b[39mitems\u001b[39m\u001b[39m\"\u001b[39m)\n\u001b[0;32m    258\u001b[0m is_lowered \u001b[39m=\u001b[39m scorer \u001b[39min\u001b[39;00m _scorer_lowering\n\u001b[1;32m--> 260\u001b[0m query \u001b[39m=\u001b[39m _preprocess_query(query, processor)\n\u001b[0;32m    261\u001b[0m res \u001b[39m=\u001b[39m rprocess\u001b[39m.\u001b[39mextractOne(\n\u001b[0;32m    262\u001b[0m     query, choices,\n\u001b[0;32m    263\u001b[0m     processor\u001b[39m=\u001b[39m_get_processor(processor, scorer),\n\u001b[0;32m    264\u001b[0m     scorer\u001b[39m=\u001b[39m_get_scorer(scorer),\n\u001b[0;32m    265\u001b[0m     score_cutoff\u001b[39m=\u001b[39mscore_cutoff\n\u001b[0;32m    266\u001b[0m )\n\u001b[0;32m    268\u001b[0m \u001b[39mif\u001b[39;00m res \u001b[39mis\u001b[39;00m \u001b[39mNone\u001b[39;00m:\n",
      "File \u001b[1;32mc:\\Users\\27722\\AppData\\Local\\Programs\\Python\\Python312\\Lib\\site-packages\\thefuzz\\process.py:71\u001b[0m, in \u001b[0;36m_preprocess_query\u001b[1;34m(query, processor)\u001b[0m\n\u001b[0;32m     70\u001b[0m \u001b[39mdef\u001b[39;00m \u001b[39m_preprocess_query\u001b[39m(query, processor):\n\u001b[1;32m---> 71\u001b[0m     processed_query \u001b[39m=\u001b[39m processor(query) \u001b[39mif\u001b[39;00m processor \u001b[39melse\u001b[39;00m query\n\u001b[0;32m     72\u001b[0m     \u001b[39mif\u001b[39;00m \u001b[39mlen\u001b[39m(processed_query) \u001b[39m==\u001b[39m \u001b[39m0\u001b[39m:\n\u001b[0;32m     73\u001b[0m         _logger\u001b[39m.\u001b[39mwarning(\u001b[39m\"\u001b[39m\u001b[39mApplied processor reduces input query to empty string, \u001b[39m\u001b[39m\"\u001b[39m\n\u001b[0;32m     74\u001b[0m                         \u001b[39m\"\u001b[39m\u001b[39mall comparisons will have score 0. \u001b[39m\u001b[39m\"\u001b[39m\n\u001b[0;32m     75\u001b[0m                         \u001b[39mf\u001b[39m\u001b[39m\"\u001b[39m\u001b[39m[Query: \u001b[39m\u001b[39m\\'\u001b[39;00m\u001b[39m{\u001b[39;00mquery\u001b[39m}\u001b[39;00m\u001b[39m\\'\u001b[39;00m\u001b[39m]\u001b[39m\u001b[39m\"\u001b[39m)\n",
      "File \u001b[1;32mc:\\Users\\27722\\AppData\\Local\\Programs\\Python\\Python312\\Lib\\site-packages\\polars\\series\\series.py:583\u001b[0m, in \u001b[0;36mSeries.__bool__\u001b[1;34m(self)\u001b[0m\n\u001b[0;32m    573\u001b[0m \u001b[39mdef\u001b[39;00m \u001b[39m__bool__\u001b[39m(\u001b[39mself\u001b[39m) \u001b[39m-\u001b[39m\u001b[39m>\u001b[39m NoReturn:\n\u001b[0;32m    574\u001b[0m     msg \u001b[39m=\u001b[39m (\n\u001b[0;32m    575\u001b[0m         \u001b[39m\"\u001b[39m\u001b[39mthe truth value of a Series is ambiguous\u001b[39m\u001b[39m\"\u001b[39m\n\u001b[0;32m    576\u001b[0m         \u001b[39m\"\u001b[39m\u001b[39m\\n\u001b[39;00m\u001b[39m\\n\u001b[39;00m\u001b[39m\"\u001b[39m\n\u001b[1;32m   (...)\u001b[0m\n\u001b[0;32m    581\u001b[0m         \u001b[39m\"\u001b[39m\u001b[39m- instead of `s in [y, z]`, use `s.is_in([y, z])`\u001b[39m\u001b[39m\\n\u001b[39;00m\u001b[39m\"\u001b[39m\n\u001b[0;32m    582\u001b[0m     )\n\u001b[1;32m--> 583\u001b[0m     \u001b[39mraise\u001b[39;00m \u001b[39mTypeError\u001b[39;00m(msg)\n",
      "\u001b[1;31mTypeError\u001b[0m: the truth value of a Series is ambiguous\n\nHere are some things you might want to try:\n- instead of `if s`, use `if not s.is_empty()`\n- instead of `s1 and s2`, use `s1 & s2`\n- instead of `s1 or s2`, use `s1 | s2`\n- instead of `s in [y, z]`, use `s.is_in([y, z])`\n"
     ]
    }
   ],
   "source": [
    "countries_ref_df.select(process.extractOne(countries_ref_df,flags_df['country'],countries_ref_df['country'],scorer=fuzz.token_set_ratio))"
   ]
  },
  {
   "cell_type": "code",
   "execution_count": 55,
   "metadata": {},
   "outputs": [
    {
     "ename": "TypeError",
     "evalue": "'StringNameSpace' object is not callable",
     "output_type": "error",
     "traceback": [
      "\u001b[1;31m---------------------------------------------------------------------------\u001b[0m",
      "\u001b[1;31mTypeError\u001b[0m                                 Traceback (most recent call last)",
      "File \u001b[1;32mc:\\Users\\27722\\OneDrive\\Desktop\\de\\python\\countries_and_capitals\\app\\etl.py:1\u001b[0m\n\u001b[1;32m----> 1\u001b[0m countries_ref_df\u001b[39m.\u001b[39mselect(process\u001b[39m.\u001b[39;49mextractOne(countries_ref_df,flags_df[\u001b[39m'\u001b[39;49m\u001b[39mcountry\u001b[39;49m\u001b[39m'\u001b[39;49m]\u001b[39m.\u001b[39;49mstr,countries_ref_df[\u001b[39m'\u001b[39;49m\u001b[39mcountry\u001b[39;49m\u001b[39m'\u001b[39;49m]\u001b[39m.\u001b[39;49mstr,scorer\u001b[39m=\u001b[39;49mfuzz\u001b[39m.\u001b[39;49mtoken_set_ratio))\n",
      "File \u001b[1;32mc:\\Users\\27722\\AppData\\Local\\Programs\\Python\\Python312\\Lib\\site-packages\\thefuzz\\process.py:260\u001b[0m, in \u001b[0;36mextractOne\u001b[1;34m(query, choices, processor, scorer, score_cutoff)\u001b[0m\n\u001b[0;32m    257\u001b[0m is_mapping \u001b[39m=\u001b[39m \u001b[39mhasattr\u001b[39m(choices, \u001b[39m\"\u001b[39m\u001b[39mitems\u001b[39m\u001b[39m\"\u001b[39m)\n\u001b[0;32m    258\u001b[0m is_lowered \u001b[39m=\u001b[39m scorer \u001b[39min\u001b[39;00m _scorer_lowering\n\u001b[1;32m--> 260\u001b[0m query \u001b[39m=\u001b[39m _preprocess_query(query, processor)\n\u001b[0;32m    261\u001b[0m res \u001b[39m=\u001b[39m rprocess\u001b[39m.\u001b[39mextractOne(\n\u001b[0;32m    262\u001b[0m     query, choices,\n\u001b[0;32m    263\u001b[0m     processor\u001b[39m=\u001b[39m_get_processor(processor, scorer),\n\u001b[0;32m    264\u001b[0m     scorer\u001b[39m=\u001b[39m_get_scorer(scorer),\n\u001b[0;32m    265\u001b[0m     score_cutoff\u001b[39m=\u001b[39mscore_cutoff\n\u001b[0;32m    266\u001b[0m )\n\u001b[0;32m    268\u001b[0m \u001b[39mif\u001b[39;00m res \u001b[39mis\u001b[39;00m \u001b[39mNone\u001b[39;00m:\n",
      "File \u001b[1;32mc:\\Users\\27722\\AppData\\Local\\Programs\\Python\\Python312\\Lib\\site-packages\\thefuzz\\process.py:71\u001b[0m, in \u001b[0;36m_preprocess_query\u001b[1;34m(query, processor)\u001b[0m\n\u001b[0;32m     70\u001b[0m \u001b[39mdef\u001b[39;00m \u001b[39m_preprocess_query\u001b[39m(query, processor):\n\u001b[1;32m---> 71\u001b[0m     processed_query \u001b[39m=\u001b[39m processor(query) \u001b[39mif\u001b[39;00m processor \u001b[39melse\u001b[39;00m query\n\u001b[0;32m     72\u001b[0m     \u001b[39mif\u001b[39;00m \u001b[39mlen\u001b[39m(processed_query) \u001b[39m==\u001b[39m \u001b[39m0\u001b[39m:\n\u001b[0;32m     73\u001b[0m         _logger\u001b[39m.\u001b[39mwarning(\u001b[39m\"\u001b[39m\u001b[39mApplied processor reduces input query to empty string, \u001b[39m\u001b[39m\"\u001b[39m\n\u001b[0;32m     74\u001b[0m                         \u001b[39m\"\u001b[39m\u001b[39mall comparisons will have score 0. \u001b[39m\u001b[39m\"\u001b[39m\n\u001b[0;32m     75\u001b[0m                         \u001b[39mf\u001b[39m\u001b[39m\"\u001b[39m\u001b[39m[Query: \u001b[39m\u001b[39m\\'\u001b[39;00m\u001b[39m{\u001b[39;00mquery\u001b[39m}\u001b[39;00m\u001b[39m\\'\u001b[39;00m\u001b[39m]\u001b[39m\u001b[39m\"\u001b[39m)\n",
      "\u001b[1;31mTypeError\u001b[0m: 'StringNameSpace' object is not callable"
     ]
    }
   ],
   "source": [
    "countries_ref_df.select(process.extractOne(countries_ref_df,flags_df['country'].str,countries_ref_df['country'].str,scorer=fuzz.token_set_ratio))"
   ]
  },
  {
   "cell_type": "code",
   "execution_count": 56,
   "metadata": {},
   "outputs": [
    {
     "ename": "TypeError",
     "evalue": "sentence must be a String",
     "output_type": "error",
     "traceback": [
      "\u001b[1;31m---------------------------------------------------------------------------\u001b[0m",
      "\u001b[1;31mTypeError\u001b[0m                                 Traceback (most recent call last)",
      "File \u001b[1;32mc:\\Users\\27722\\OneDrive\\Desktop\\de\\python\\countries_and_capitals\\app\\etl.py:1\u001b[0m\n\u001b[1;32m----> 1\u001b[0m countries_ref_df\u001b[39m.\u001b[39mselect(process\u001b[39m.\u001b[39;49mextractOne(countries_ref_df[\u001b[39m'\u001b[39;49m\u001b[39mcountry\u001b[39;49m\u001b[39m'\u001b[39;49m]\u001b[39m.\u001b[39;49mstr,flags_df[\u001b[39m'\u001b[39;49m\u001b[39mcountry\u001b[39;49m\u001b[39m'\u001b[39;49m]\u001b[39m.\u001b[39;49mstr,scorer\u001b[39m=\u001b[39;49mfuzz\u001b[39m.\u001b[39;49mtoken_set_ratio))\n",
      "File \u001b[1;32mc:\\Users\\27722\\AppData\\Local\\Programs\\Python\\Python312\\Lib\\site-packages\\thefuzz\\process.py:260\u001b[0m, in \u001b[0;36mextractOne\u001b[1;34m(query, choices, processor, scorer, score_cutoff)\u001b[0m\n\u001b[0;32m    257\u001b[0m is_mapping \u001b[39m=\u001b[39m \u001b[39mhasattr\u001b[39m(choices, \u001b[39m\"\u001b[39m\u001b[39mitems\u001b[39m\u001b[39m\"\u001b[39m)\n\u001b[0;32m    258\u001b[0m is_lowered \u001b[39m=\u001b[39m scorer \u001b[39min\u001b[39;00m _scorer_lowering\n\u001b[1;32m--> 260\u001b[0m query \u001b[39m=\u001b[39m _preprocess_query(query, processor)\n\u001b[0;32m    261\u001b[0m res \u001b[39m=\u001b[39m rprocess\u001b[39m.\u001b[39mextractOne(\n\u001b[0;32m    262\u001b[0m     query, choices,\n\u001b[0;32m    263\u001b[0m     processor\u001b[39m=\u001b[39m_get_processor(processor, scorer),\n\u001b[0;32m    264\u001b[0m     scorer\u001b[39m=\u001b[39m_get_scorer(scorer),\n\u001b[0;32m    265\u001b[0m     score_cutoff\u001b[39m=\u001b[39mscore_cutoff\n\u001b[0;32m    266\u001b[0m )\n\u001b[0;32m    268\u001b[0m \u001b[39mif\u001b[39;00m res \u001b[39mis\u001b[39;00m \u001b[39mNone\u001b[39;00m:\n",
      "File \u001b[1;32mc:\\Users\\27722\\AppData\\Local\\Programs\\Python\\Python312\\Lib\\site-packages\\thefuzz\\process.py:71\u001b[0m, in \u001b[0;36m_preprocess_query\u001b[1;34m(query, processor)\u001b[0m\n\u001b[0;32m     70\u001b[0m \u001b[39mdef\u001b[39;00m \u001b[39m_preprocess_query\u001b[39m(query, processor):\n\u001b[1;32m---> 71\u001b[0m     processed_query \u001b[39m=\u001b[39m processor(query) \u001b[39mif\u001b[39;00m processor \u001b[39melse\u001b[39;00m query\n\u001b[0;32m     72\u001b[0m     \u001b[39mif\u001b[39;00m \u001b[39mlen\u001b[39m(processed_query) \u001b[39m==\u001b[39m \u001b[39m0\u001b[39m:\n\u001b[0;32m     73\u001b[0m         _logger\u001b[39m.\u001b[39mwarning(\u001b[39m\"\u001b[39m\u001b[39mApplied processor reduces input query to empty string, \u001b[39m\u001b[39m\"\u001b[39m\n\u001b[0;32m     74\u001b[0m                         \u001b[39m\"\u001b[39m\u001b[39mall comparisons will have score 0. \u001b[39m\u001b[39m\"\u001b[39m\n\u001b[0;32m     75\u001b[0m                         \u001b[39mf\u001b[39m\u001b[39m\"\u001b[39m\u001b[39m[Query: \u001b[39m\u001b[39m\\'\u001b[39;00m\u001b[39m{\u001b[39;00mquery\u001b[39m}\u001b[39;00m\u001b[39m\\'\u001b[39;00m\u001b[39m]\u001b[39m\u001b[39m\"\u001b[39m)\n",
      "File \u001b[1;32mc:\\Users\\27722\\AppData\\Local\\Programs\\Python\\Python312\\Lib\\site-packages\\thefuzz\\utils.py:22\u001b[0m, in \u001b[0;36mfull_process\u001b[1;34m(s, force_ascii)\u001b[0m\n\u001b[0;32m     19\u001b[0m \u001b[39mif\u001b[39;00m force_ascii:\n\u001b[0;32m     20\u001b[0m     s \u001b[39m=\u001b[39m ascii_only(\u001b[39mstr\u001b[39m(s))\n\u001b[1;32m---> 22\u001b[0m \u001b[39mreturn\u001b[39;00m _default_process(s)\n",
      "File \u001b[1;32msrc/rapidfuzz/utils_cpp.pyx:24\u001b[0m, in \u001b[0;36mrapidfuzz.utils_cpp.default_process\u001b[1;34m()\u001b[0m\n",
      "\u001b[1;31mTypeError\u001b[0m: sentence must be a String"
     ]
    }
   ],
   "source": [
    "countries_ref_df.select(process.extractOne(countries_ref_df['country'].str,flags_df['country'].str,scorer=fuzz.token_set_ratio))"
   ]
  },
  {
   "cell_type": "code",
   "execution_count": 57,
   "metadata": {},
   "outputs": [
    {
     "data": {
      "text/plain": [
       "<polars.series.string.StringNameSpace at 0x1feba42c3b0>"
      ]
     },
     "execution_count": 57,
     "metadata": {},
     "output_type": "execute_result"
    }
   ],
   "source": [
    "countries_ref_df['country'].str"
   ]
  },
  {
   "cell_type": "code",
   "execution_count": 58,
   "metadata": {},
   "outputs": [
    {
     "data": {
      "text/html": [
       "<div><style>\n",
       ".dataframe > thead > tr,\n",
       ".dataframe > tbody > tr {\n",
       "  text-align: right;\n",
       "  white-space: pre-wrap;\n",
       "}\n",
       "</style>\n",
       "<small>shape: (262,)</small><table border=\"1\" class=\"dataframe\"><thead><tr><th>country</th></tr><tr><td>str</td></tr></thead><tbody><tr><td>&quot;Ivory Coast&quot;</td></tr><tr><td>&quot;Ivory Coast&quot;</td></tr><tr><td>&quot;United Arab Emirates&quot;</td></tr><tr><td>&quot;Nigeria&quot;</td></tr><tr><td>&quot;Ghana&quot;</td></tr><tr><td>&hellip;</td></tr><tr><td>&quot;Namibia&quot;</td></tr><tr><td>&quot;Cameroon&quot;</td></tr><tr><td>&quot;Nauru&quot;</td></tr><tr><td>&quot;Armenia&quot;</td></tr><tr><td>&quot;Croatia&quot;</td></tr></tbody></table></div>"
      ],
      "text/plain": [
       "shape: (262,)\n",
       "Series: 'country' [str]\n",
       "[\n",
       "\t\"Ivory Coast\"\n",
       "\t\"Ivory Coast\"\n",
       "\t\"United Arab Emirates\"\n",
       "\t\"Nigeria\"\n",
       "\t\"Ghana\"\n",
       "\t…\n",
       "\t\"Namibia\"\n",
       "\t\"Cameroon\"\n",
       "\t\"Nauru\"\n",
       "\t\"Armenia\"\n",
       "\t\"Croatia\"\n",
       "]"
      ]
     },
     "execution_count": 58,
     "metadata": {},
     "output_type": "execute_result"
    }
   ],
   "source": [
    "countries_ref_df['country']"
   ]
  },
  {
   "cell_type": "code",
   "execution_count": 59,
   "metadata": {},
   "outputs": [
    {
     "ename": "TypeError",
     "evalue": "sentence must be a String",
     "output_type": "error",
     "traceback": [
      "\u001b[1;31m---------------------------------------------------------------------------\u001b[0m",
      "\u001b[1;31mTypeError\u001b[0m                                 Traceback (most recent call last)",
      "File \u001b[1;32mc:\\Users\\27722\\OneDrive\\Desktop\\de\\python\\countries_and_capitals\\app\\etl.py:1\u001b[0m\n\u001b[1;32m----> 1\u001b[0m countries_ref_df\u001b[39m.\u001b[39mselect(process\u001b[39m.\u001b[39;49mextractOne(countries_ref_df[\u001b[39m'\u001b[39;49m\u001b[39mcountry\u001b[39;49m\u001b[39m'\u001b[39;49m]\u001b[39m.\u001b[39;49mstr,flags_df[\u001b[39m'\u001b[39;49m\u001b[39mcountry\u001b[39;49m\u001b[39m'\u001b[39;49m]\u001b[39m.\u001b[39;49mstr,scorer\u001b[39m=\u001b[39;49mfuzz\u001b[39m.\u001b[39;49mtoken_set_ratio)\u001b[39m.\u001b[39malias(\u001b[39m'\u001b[39m\u001b[39mfuzzy_country\u001b[39m\u001b[39m'\u001b[39m))\n",
      "File \u001b[1;32mc:\\Users\\27722\\AppData\\Local\\Programs\\Python\\Python312\\Lib\\site-packages\\thefuzz\\process.py:260\u001b[0m, in \u001b[0;36mextractOne\u001b[1;34m(query, choices, processor, scorer, score_cutoff)\u001b[0m\n\u001b[0;32m    257\u001b[0m is_mapping \u001b[39m=\u001b[39m \u001b[39mhasattr\u001b[39m(choices, \u001b[39m\"\u001b[39m\u001b[39mitems\u001b[39m\u001b[39m\"\u001b[39m)\n\u001b[0;32m    258\u001b[0m is_lowered \u001b[39m=\u001b[39m scorer \u001b[39min\u001b[39;00m _scorer_lowering\n\u001b[1;32m--> 260\u001b[0m query \u001b[39m=\u001b[39m _preprocess_query(query, processor)\n\u001b[0;32m    261\u001b[0m res \u001b[39m=\u001b[39m rprocess\u001b[39m.\u001b[39mextractOne(\n\u001b[0;32m    262\u001b[0m     query, choices,\n\u001b[0;32m    263\u001b[0m     processor\u001b[39m=\u001b[39m_get_processor(processor, scorer),\n\u001b[0;32m    264\u001b[0m     scorer\u001b[39m=\u001b[39m_get_scorer(scorer),\n\u001b[0;32m    265\u001b[0m     score_cutoff\u001b[39m=\u001b[39mscore_cutoff\n\u001b[0;32m    266\u001b[0m )\n\u001b[0;32m    268\u001b[0m \u001b[39mif\u001b[39;00m res \u001b[39mis\u001b[39;00m \u001b[39mNone\u001b[39;00m:\n",
      "File \u001b[1;32mc:\\Users\\27722\\AppData\\Local\\Programs\\Python\\Python312\\Lib\\site-packages\\thefuzz\\process.py:71\u001b[0m, in \u001b[0;36m_preprocess_query\u001b[1;34m(query, processor)\u001b[0m\n\u001b[0;32m     70\u001b[0m \u001b[39mdef\u001b[39;00m \u001b[39m_preprocess_query\u001b[39m(query, processor):\n\u001b[1;32m---> 71\u001b[0m     processed_query \u001b[39m=\u001b[39m processor(query) \u001b[39mif\u001b[39;00m processor \u001b[39melse\u001b[39;00m query\n\u001b[0;32m     72\u001b[0m     \u001b[39mif\u001b[39;00m \u001b[39mlen\u001b[39m(processed_query) \u001b[39m==\u001b[39m \u001b[39m0\u001b[39m:\n\u001b[0;32m     73\u001b[0m         _logger\u001b[39m.\u001b[39mwarning(\u001b[39m\"\u001b[39m\u001b[39mApplied processor reduces input query to empty string, \u001b[39m\u001b[39m\"\u001b[39m\n\u001b[0;32m     74\u001b[0m                         \u001b[39m\"\u001b[39m\u001b[39mall comparisons will have score 0. \u001b[39m\u001b[39m\"\u001b[39m\n\u001b[0;32m     75\u001b[0m                         \u001b[39mf\u001b[39m\u001b[39m\"\u001b[39m\u001b[39m[Query: \u001b[39m\u001b[39m\\'\u001b[39;00m\u001b[39m{\u001b[39;00mquery\u001b[39m}\u001b[39;00m\u001b[39m\\'\u001b[39;00m\u001b[39m]\u001b[39m\u001b[39m\"\u001b[39m)\n",
      "File \u001b[1;32mc:\\Users\\27722\\AppData\\Local\\Programs\\Python\\Python312\\Lib\\site-packages\\thefuzz\\utils.py:22\u001b[0m, in \u001b[0;36mfull_process\u001b[1;34m(s, force_ascii)\u001b[0m\n\u001b[0;32m     19\u001b[0m \u001b[39mif\u001b[39;00m force_ascii:\n\u001b[0;32m     20\u001b[0m     s \u001b[39m=\u001b[39m ascii_only(\u001b[39mstr\u001b[39m(s))\n\u001b[1;32m---> 22\u001b[0m \u001b[39mreturn\u001b[39;00m _default_process(s)\n",
      "File \u001b[1;32msrc/rapidfuzz/utils_cpp.pyx:24\u001b[0m, in \u001b[0;36mrapidfuzz.utils_cpp.default_process\u001b[1;34m()\u001b[0m\n",
      "\u001b[1;31mTypeError\u001b[0m: sentence must be a String"
     ]
    }
   ],
   "source": [
    "countries_ref_df.select(process.extractOne(countries_ref_df['country'].str,flags_df['country'].str,scorer=fuzz.token_set_ratio).alias('fuzzy_country'))"
   ]
  },
  {
   "cell_type": "code",
   "execution_count": 60,
   "metadata": {},
   "outputs": [
    {
     "ename": "AttributeError",
     "evalue": "'StringNameSpace' object has no attribute 'capitalize'",
     "output_type": "error",
     "traceback": [
      "\u001b[1;31m---------------------------------------------------------------------------\u001b[0m",
      "\u001b[1;31mAttributeError\u001b[0m                            Traceback (most recent call last)",
      "Cell \u001b[1;32mIn[60], line 1\u001b[0m\n\u001b[1;32m----> 1\u001b[0m countries_ref_df[\u001b[39m'\u001b[39;49m\u001b[39mcountry\u001b[39;49m\u001b[39m'\u001b[39;49m]\u001b[39m.\u001b[39;49mstr\u001b[39m.\u001b[39;49mcapitalize()\n",
      "\u001b[1;31mAttributeError\u001b[0m: 'StringNameSpace' object has no attribute 'capitalize'"
     ]
    }
   ],
   "source": [
    "countries_ref_df['country'].str.capitalize()"
   ]
  },
  {
   "cell_type": "code",
   "execution_count": 61,
   "metadata": {},
   "outputs": [
    {
     "ename": "AttributeError",
     "evalue": "'StringNameSpace' object has no attribute 'capitalize'",
     "output_type": "error",
     "traceback": [
      "\u001b[1;31m---------------------------------------------------------------------------\u001b[0m",
      "\u001b[1;31mAttributeError\u001b[0m                            Traceback (most recent call last)",
      "Cell \u001b[1;32mIn[61], line 1\u001b[0m\n\u001b[1;32m----> 1\u001b[0m countries_ref_df[\u001b[39m'\u001b[39;49m\u001b[39mcountry\u001b[39;49m\u001b[39m'\u001b[39;49m]\u001b[39m.\u001b[39;49mstr\u001b[39m.\u001b[39;49mcapitalize\n",
      "\u001b[1;31mAttributeError\u001b[0m: 'StringNameSpace' object has no attribute 'capitalize'"
     ]
    }
   ],
   "source": [
    "countries_ref_df['country'].str.capitalize"
   ]
  },
  {
   "cell_type": "code",
   "execution_count": 62,
   "metadata": {},
   "outputs": [
    {
     "ename": "AttributeError",
     "evalue": "'StringNameSpace' object has no attribute 'capitalize'",
     "output_type": "error",
     "traceback": [
      "\u001b[1;31m---------------------------------------------------------------------------\u001b[0m",
      "\u001b[1;31mAttributeError\u001b[0m                            Traceback (most recent call last)",
      "Cell \u001b[1;32mIn[62], line 1\u001b[0m\n\u001b[1;32m----> 1\u001b[0m countries_ref_df[\u001b[39m'\u001b[39;49m\u001b[39mcountry\u001b[39;49m\u001b[39m'\u001b[39;49m]\u001b[39m.\u001b[39;49mcast(pl\u001b[39m.\u001b[39;49mUtf8)\u001b[39m.\u001b[39;49mstr\u001b[39m.\u001b[39;49mcapitalize()\n",
      "\u001b[1;31mAttributeError\u001b[0m: 'StringNameSpace' object has no attribute 'capitalize'"
     ]
    }
   ],
   "source": [
    "countries_ref_df['country'].cast(pl.Utf8).str.capitalize()"
   ]
  },
  {
   "cell_type": "code",
   "execution_count": 63,
   "metadata": {},
   "outputs": [
    {
     "ename": "AttributeError",
     "evalue": "module 'polars' has no attribute 'Utf16'",
     "output_type": "error",
     "traceback": [
      "\u001b[1;31m---------------------------------------------------------------------------\u001b[0m",
      "\u001b[1;31mAttributeError\u001b[0m                            Traceback (most recent call last)",
      "Cell \u001b[1;32mIn[63], line 1\u001b[0m\n\u001b[1;32m----> 1\u001b[0m countries_ref_df[\u001b[39m'\u001b[39m\u001b[39mcountry\u001b[39m\u001b[39m'\u001b[39m]\u001b[39m.\u001b[39mcast(pl\u001b[39m.\u001b[39;49mUtf16)\u001b[39m.\u001b[39mstr\u001b[39m.\u001b[39mcapitalize()\n",
      "File \u001b[1;32mc:\\Users\\27722\\AppData\\Local\\Programs\\Python\\Python312\\Lib\\site-packages\\polars\\__init__.py:412\u001b[0m, in \u001b[0;36m__getattr__\u001b[1;34m(name)\u001b[0m\n\u001b[0;32m    409\u001b[0m     \u001b[39mreturn\u001b[39;00m \u001b[39mgetattr\u001b[39m(dtgroup, name)\n\u001b[0;32m    411\u001b[0m msg \u001b[39m=\u001b[39m \u001b[39mf\u001b[39m\u001b[39m\"\u001b[39m\u001b[39mmodule \u001b[39m\u001b[39m{\u001b[39;00m\u001b[39m__name__\u001b[39m\u001b[39m!r}\u001b[39;00m\u001b[39m has no attribute \u001b[39m\u001b[39m{\u001b[39;00mname\u001b[39m!r}\u001b[39;00m\u001b[39m\"\u001b[39m\n\u001b[1;32m--> 412\u001b[0m \u001b[39mraise\u001b[39;00m \u001b[39mAttributeError\u001b[39;00m(msg)\n",
      "\u001b[1;31mAttributeError\u001b[0m: module 'polars' has no attribute 'Utf16'"
     ]
    }
   ],
   "source": [
    "countries_ref_df['country'].cast(pl.Utf16).str.capitalize()"
   ]
  },
  {
   "cell_type": "code",
   "execution_count": 64,
   "metadata": {},
   "outputs": [
    {
     "ename": "AttributeError",
     "evalue": "'StringNameSpace' object has no attribute 'capitalize'",
     "output_type": "error",
     "traceback": [
      "\u001b[1;31m---------------------------------------------------------------------------\u001b[0m",
      "\u001b[1;31mAttributeError\u001b[0m                            Traceback (most recent call last)",
      "Cell \u001b[1;32mIn[64], line 1\u001b[0m\n\u001b[1;32m----> 1\u001b[0m countries_ref_df[\u001b[39m'\u001b[39;49m\u001b[39mcountry\u001b[39;49m\u001b[39m'\u001b[39;49m]\u001b[39m.\u001b[39;49mcast(pl\u001b[39m.\u001b[39;49mUtf8)\u001b[39m.\u001b[39;49mstr\u001b[39m.\u001b[39;49mcapitalize()\n",
      "\u001b[1;31mAttributeError\u001b[0m: 'StringNameSpace' object has no attribute 'capitalize'"
     ]
    }
   ],
   "source": [
    "countries_ref_df['country'].cast(pl.Utf8).str.capitalize()"
   ]
  },
  {
   "cell_type": "code",
   "execution_count": 65,
   "metadata": {},
   "outputs": [
    {
     "ename": "AttributeError",
     "evalue": "'StringNameSpace' object has no attribute 'count'",
     "output_type": "error",
     "traceback": [
      "\u001b[1;31m---------------------------------------------------------------------------\u001b[0m",
      "\u001b[1;31mAttributeError\u001b[0m                            Traceback (most recent call last)",
      "Cell \u001b[1;32mIn[65], line 1\u001b[0m\n\u001b[1;32m----> 1\u001b[0m countries_ref_df[\u001b[39m'\u001b[39;49m\u001b[39mcountry\u001b[39;49m\u001b[39m'\u001b[39;49m]\u001b[39m.\u001b[39;49mcast(pl\u001b[39m.\u001b[39;49mUtf8)\u001b[39m.\u001b[39;49mstr\u001b[39m.\u001b[39;49mcount()\n",
      "\u001b[1;31mAttributeError\u001b[0m: 'StringNameSpace' object has no attribute 'count'"
     ]
    }
   ],
   "source": [
    "countries_ref_df['country'].cast(pl.Utf8).str.count()"
   ]
  },
  {
   "cell_type": "code",
   "execution_count": 66,
   "metadata": {},
   "outputs": [
    {
     "ename": "TypeError",
     "evalue": "'StringNameSpace' object is not callable",
     "output_type": "error",
     "traceback": [
      "\u001b[1;31m---------------------------------------------------------------------------\u001b[0m",
      "\u001b[1;31mTypeError\u001b[0m                                 Traceback (most recent call last)",
      "Cell \u001b[1;32mIn[66], line 1\u001b[0m\n\u001b[1;32m----> 1\u001b[0m countries_ref_df[\u001b[39m'\u001b[39;49m\u001b[39mcountry\u001b[39;49m\u001b[39m'\u001b[39;49m]\u001b[39m.\u001b[39;49mstr()\n",
      "\u001b[1;31mTypeError\u001b[0m: 'StringNameSpace' object is not callable"
     ]
    }
   ],
   "source": [
    "countries_ref_df['country'].str()"
   ]
  },
  {
   "cell_type": "code",
   "execution_count": 67,
   "metadata": {},
   "outputs": [
    {
     "data": {
      "text/plain": [
       "<polars.series.string.StringNameSpace at 0x1feba42b680>"
      ]
     },
     "execution_count": 67,
     "metadata": {},
     "output_type": "execute_result"
    }
   ],
   "source": [
    "countries_ref_df['country'].str"
   ]
  },
  {
   "cell_type": "code",
   "execution_count": 68,
   "metadata": {},
   "outputs": [
    {
     "data": {
      "text/html": [
       "<div><style>\n",
       ".dataframe > thead > tr,\n",
       ".dataframe > tbody > tr {\n",
       "  text-align: right;\n",
       "  white-space: pre-wrap;\n",
       "}\n",
       "</style>\n",
       "<small>shape: (262,)</small><table border=\"1\" class=\"dataframe\"><thead><tr><th>country</th></tr><tr><td>str</td></tr></thead><tbody><tr><td>&quot;Ivory Coast&quot;</td></tr><tr><td>&quot;Ivory Coast&quot;</td></tr><tr><td>&quot;United Arab Emirates&quot;</td></tr><tr><td>&quot;Nigeria&quot;</td></tr><tr><td>&quot;Ghana&quot;</td></tr><tr><td>&hellip;</td></tr><tr><td>&quot;Namibia&quot;</td></tr><tr><td>&quot;Cameroon&quot;</td></tr><tr><td>&quot;Nauru&quot;</td></tr><tr><td>&quot;Armenia&quot;</td></tr><tr><td>&quot;Croatia&quot;</td></tr></tbody></table></div>"
      ],
      "text/plain": [
       "shape: (262,)\n",
       "Series: 'country' [str]\n",
       "[\n",
       "\t\"Ivory Coast\"\n",
       "\t\"Ivory Coast\"\n",
       "\t\"United Arab Emirates\"\n",
       "\t\"Nigeria\"\n",
       "\t\"Ghana\"\n",
       "\t…\n",
       "\t\"Namibia\"\n",
       "\t\"Cameroon\"\n",
       "\t\"Nauru\"\n",
       "\t\"Armenia\"\n",
       "\t\"Croatia\"\n",
       "]"
      ]
     },
     "execution_count": 68,
     "metadata": {},
     "output_type": "execute_result"
    }
   ],
   "source": [
    "countries_ref_df['country']"
   ]
  },
  {
   "cell_type": "code",
   "execution_count": 69,
   "metadata": {},
   "outputs": [
    {
     "ename": "AttributeError",
     "evalue": "'Series' object has no attribute 'select'",
     "output_type": "error",
     "traceback": [
      "\u001b[1;31m---------------------------------------------------------------------------\u001b[0m",
      "\u001b[1;31mAttributeError\u001b[0m                            Traceback (most recent call last)",
      "Cell \u001b[1;32mIn[69], line 1\u001b[0m\n\u001b[1;32m----> 1\u001b[0m countries_ref_df[\u001b[39m'\u001b[39;49m\u001b[39mcountry\u001b[39;49m\u001b[39m'\u001b[39;49m]\u001b[39m.\u001b[39;49mselect(\n\u001b[0;32m      2\u001b[0m     [\n\u001b[0;32m      3\u001b[0m         pl\u001b[39m.\u001b[39mcol(\u001b[39m'\u001b[39m\u001b[39mcountry\u001b[39m\u001b[39m'\u001b[39m)\u001b[39m.\u001b[39mstr\u001b[39m.\u001b[39mcapitalize()\u001b[39m.\u001b[39malias(\u001b[39m'\u001b[39m\u001b[39mcountry\u001b[39m\u001b[39m'\u001b[39m)\n\u001b[0;32m      4\u001b[0m     ]\n\u001b[0;32m      5\u001b[0m )\n",
      "\u001b[1;31mAttributeError\u001b[0m: 'Series' object has no attribute 'select'"
     ]
    }
   ],
   "source": [
    "countries_ref_df['country'].select(\n",
    "    [\n",
    "        pl.col('country').str.capitalize().alias('country')\n",
    "    ]\n",
    ")"
   ]
  },
  {
   "cell_type": "code",
   "execution_count": 70,
   "metadata": {},
   "outputs": [
    {
     "ename": "AttributeError",
     "evalue": "'ExprStringNameSpace' object has no attribute 'capitalize'",
     "output_type": "error",
     "traceback": [
      "\u001b[1;31m---------------------------------------------------------------------------\u001b[0m",
      "\u001b[1;31mAttributeError\u001b[0m                            Traceback (most recent call last)",
      "Cell \u001b[1;32mIn[70], line 3\u001b[0m\n\u001b[0;32m      1\u001b[0m countries_ref_df\u001b[39m.\u001b[39mselect(\n\u001b[0;32m      2\u001b[0m     [\n\u001b[1;32m----> 3\u001b[0m         pl\u001b[39m.\u001b[39;49mcol(\u001b[39m'\u001b[39;49m\u001b[39mcountry\u001b[39;49m\u001b[39m'\u001b[39;49m)\u001b[39m.\u001b[39;49mstr\u001b[39m.\u001b[39;49mcapitalize()\u001b[39m.\u001b[39malias(\u001b[39m'\u001b[39m\u001b[39mcountry\u001b[39m\u001b[39m'\u001b[39m)\n\u001b[0;32m      4\u001b[0m     ]\n\u001b[0;32m      5\u001b[0m )\n",
      "\u001b[1;31mAttributeError\u001b[0m: 'ExprStringNameSpace' object has no attribute 'capitalize'"
     ]
    }
   ],
   "source": [
    "countries_ref_df.select(\n",
    "    [\n",
    "        pl.col('country').str.capitalize().alias('country')\n",
    "    ]\n",
    ")"
   ]
  },
  {
   "cell_type": "code",
   "execution_count": 71,
   "metadata": {},
   "outputs": [
    {
     "ename": "AttributeError",
     "evalue": "'ExprStringNameSpace' object has no attribute 'count'",
     "output_type": "error",
     "traceback": [
      "\u001b[1;31m---------------------------------------------------------------------------\u001b[0m",
      "\u001b[1;31mAttributeError\u001b[0m                            Traceback (most recent call last)",
      "Cell \u001b[1;32mIn[71], line 3\u001b[0m\n\u001b[0;32m      1\u001b[0m countries_ref_df\u001b[39m.\u001b[39mselect(\n\u001b[0;32m      2\u001b[0m     [\n\u001b[1;32m----> 3\u001b[0m         pl\u001b[39m.\u001b[39;49mcol(\u001b[39m'\u001b[39;49m\u001b[39mcountry\u001b[39;49m\u001b[39m'\u001b[39;49m)\u001b[39m.\u001b[39;49mstr\u001b[39m.\u001b[39;49mcount()\u001b[39m.\u001b[39malias(\u001b[39m'\u001b[39m\u001b[39mcountry\u001b[39m\u001b[39m'\u001b[39m)\n\u001b[0;32m      4\u001b[0m     ]\n\u001b[0;32m      5\u001b[0m )\n",
      "\u001b[1;31mAttributeError\u001b[0m: 'ExprStringNameSpace' object has no attribute 'count'"
     ]
    }
   ],
   "source": [
    "countries_ref_df.select(\n",
    "    [\n",
    "        pl.col('country').str.count().alias('country')\n",
    "    ]\n",
    ")"
   ]
  },
  {
   "cell_type": "code",
   "execution_count": 72,
   "metadata": {},
   "outputs": [
    {
     "ename": "AttributeError",
     "evalue": "'ExprStringNameSpace' object has no attribute 'alias'",
     "output_type": "error",
     "traceback": [
      "\u001b[1;31m---------------------------------------------------------------------------\u001b[0m",
      "\u001b[1;31mAttributeError\u001b[0m                            Traceback (most recent call last)",
      "Cell \u001b[1;32mIn[72], line 3\u001b[0m\n\u001b[0;32m      1\u001b[0m countries_ref_df\u001b[39m.\u001b[39mselect(\n\u001b[0;32m      2\u001b[0m     [\n\u001b[1;32m----> 3\u001b[0m         pl\u001b[39m.\u001b[39;49mcol(\u001b[39m'\u001b[39;49m\u001b[39mcountry\u001b[39;49m\u001b[39m'\u001b[39;49m)\u001b[39m.\u001b[39;49mstr\u001b[39m.\u001b[39;49malias(\u001b[39m'\u001b[39m\u001b[39mcountry\u001b[39m\u001b[39m'\u001b[39m)\n\u001b[0;32m      4\u001b[0m     ]\n\u001b[0;32m      5\u001b[0m )\n",
      "\u001b[1;31mAttributeError\u001b[0m: 'ExprStringNameSpace' object has no attribute 'alias'"
     ]
    }
   ],
   "source": [
    "countries_ref_df.select(\n",
    "    [\n",
    "        pl.col('country').str.alias('country')\n",
    "    ]\n",
    ")"
   ]
  },
  {
   "cell_type": "code",
   "execution_count": 73,
   "metadata": {},
   "outputs": [
    {
     "data": {
      "text/plain": [
       "['__class__',\n",
       " '__delattr__',\n",
       " '__dict__',\n",
       " '__dir__',\n",
       " '__doc__',\n",
       " '__eq__',\n",
       " '__format__',\n",
       " '__ge__',\n",
       " '__getattribute__',\n",
       " '__getstate__',\n",
       " '__gt__',\n",
       " '__hash__',\n",
       " '__init__',\n",
       " '__init_subclass__',\n",
       " '__le__',\n",
       " '__lt__',\n",
       " '__module__',\n",
       " '__ne__',\n",
       " '__new__',\n",
       " '__reduce__',\n",
       " '__reduce_ex__',\n",
       " '__repr__',\n",
       " '__setattr__',\n",
       " '__sizeof__',\n",
       " '__str__',\n",
       " '__subclasshook__',\n",
       " '__weakref__',\n",
       " '_accessor',\n",
       " '_s',\n",
       " 'concat',\n",
       " 'contains',\n",
       " 'contains_any',\n",
       " 'count_matches',\n",
       " 'decode',\n",
       " 'encode',\n",
       " 'ends_with',\n",
       " 'explode',\n",
       " 'extract',\n",
       " 'extract_all',\n",
       " 'extract_groups',\n",
       " 'extract_many',\n",
       " 'find',\n",
       " 'head',\n",
       " 'join',\n",
       " 'json_decode',\n",
       " 'json_path_match',\n",
       " 'len_bytes',\n",
       " 'len_chars',\n",
       " 'pad_end',\n",
       " 'pad_start',\n",
       " 'replace',\n",
       " 'replace_all',\n",
       " 'replace_many',\n",
       " 'reverse',\n",
       " 'slice',\n",
       " 'split',\n",
       " 'split_exact',\n",
       " 'splitn',\n",
       " 'starts_with',\n",
       " 'strip_chars',\n",
       " 'strip_chars_end',\n",
       " 'strip_chars_start',\n",
       " 'strip_prefix',\n",
       " 'strip_suffix',\n",
       " 'strptime',\n",
       " 'tail',\n",
       " 'to_date',\n",
       " 'to_datetime',\n",
       " 'to_decimal',\n",
       " 'to_integer',\n",
       " 'to_lowercase',\n",
       " 'to_time',\n",
       " 'to_titlecase',\n",
       " 'to_uppercase',\n",
       " 'zfill']"
      ]
     },
     "execution_count": 73,
     "metadata": {},
     "output_type": "execute_result"
    }
   ],
   "source": [
    "dir(countries_ref_df['country'].str)"
   ]
  },
  {
   "cell_type": "code",
   "execution_count": 74,
   "metadata": {},
   "outputs": [
    {
     "data": {
      "text/html": [
       "<div><style>\n",
       ".dataframe > thead > tr,\n",
       ".dataframe > tbody > tr {\n",
       "  text-align: right;\n",
       "  white-space: pre-wrap;\n",
       "}\n",
       "</style>\n",
       "<small>shape: (262, 1)</small><table border=\"1\" class=\"dataframe\"><thead><tr><th>country</th></tr><tr><td>str</td></tr></thead><tbody><tr><td>&quot;IVORY COAST&quot;</td></tr><tr><td>&quot;IVORY COAST&quot;</td></tr><tr><td>&quot;UNITED ARAB EMIRATES&quot;</td></tr><tr><td>&quot;NIGERIA&quot;</td></tr><tr><td>&quot;GHANA&quot;</td></tr><tr><td>&hellip;</td></tr><tr><td>&quot;NAMIBIA&quot;</td></tr><tr><td>&quot;CAMEROON&quot;</td></tr><tr><td>&quot;NAURU&quot;</td></tr><tr><td>&quot;ARMENIA&quot;</td></tr><tr><td>&quot;CROATIA&quot;</td></tr></tbody></table></div>"
      ],
      "text/plain": [
       "shape: (262, 1)\n",
       "┌──────────────────────┐\n",
       "│ country              │\n",
       "│ ---                  │\n",
       "│ str                  │\n",
       "╞══════════════════════╡\n",
       "│ IVORY COAST          │\n",
       "│ IVORY COAST          │\n",
       "│ UNITED ARAB EMIRATES │\n",
       "│ NIGERIA              │\n",
       "│ GHANA                │\n",
       "│ …                    │\n",
       "│ NAMIBIA              │\n",
       "│ CAMEROON             │\n",
       "│ NAURU                │\n",
       "│ ARMENIA              │\n",
       "│ CROATIA              │\n",
       "└──────────────────────┘"
      ]
     },
     "execution_count": 74,
     "metadata": {},
     "output_type": "execute_result"
    }
   ],
   "source": [
    "countries_ref_df.select(\n",
    "    [\n",
    "        pl.col('country').str.to_uppercase().alias('country')\n",
    "    ]\n",
    ")"
   ]
  },
  {
   "cell_type": "code",
   "execution_count": 75,
   "metadata": {},
   "outputs": [
    {
     "ename": "AttributeError",
     "evalue": "'Expr' object has no attribute 'apply'",
     "output_type": "error",
     "traceback": [
      "\u001b[1;31m---------------------------------------------------------------------------\u001b[0m",
      "\u001b[1;31mAttributeError\u001b[0m                            Traceback (most recent call last)",
      "File \u001b[1;32mc:\\Users\\27722\\OneDrive\\Desktop\\de\\python\\countries_and_capitals\\app\\etl.py:1\u001b[0m\n\u001b[1;32m----> 1\u001b[0m countries_ref_df\u001b[39m.\u001b[39mwith_columns(pl\u001b[39m.\u001b[39;49mcol(countries_ref_df[\u001b[39m'\u001b[39;49m\u001b[39mcountry\u001b[39;49m\u001b[39m'\u001b[39;49m])\u001b[39m.\u001b[39;49mapply(\u001b[39mlambda\u001b[39;00m x: process\u001b[39m.\u001b[39mextractOne(x,flags_df[\u001b[39m'\u001b[39m\u001b[39mcountry\u001b[39m\u001b[39m'\u001b[39m]\u001b[39m.\u001b[39mstr,scorer\u001b[39m=\u001b[39mfuzz\u001b[39m.\u001b[39mtoken_set_ratio)\u001b[39m.\u001b[39malias(\u001b[39m'\u001b[39m\u001b[39mfuzzy_country\u001b[39m\u001b[39m'\u001b[39m)))\n",
      "\u001b[1;31mAttributeError\u001b[0m: 'Expr' object has no attribute 'apply'"
     ]
    }
   ],
   "source": [
    "countries_ref_df.with_columns(pl.col(countries_ref_df['country']).apply(lambda x: process.extractOne(x,flags_df['country'].str,scorer=fuzz.token_set_ratio).alias('fuzzy_country')))"
   ]
  },
  {
   "cell_type": "code",
   "execution_count": 76,
   "metadata": {},
   "outputs": [
    {
     "ename": "AttributeError",
     "evalue": "'Expr' object has no attribute 'apply'",
     "output_type": "error",
     "traceback": [
      "\u001b[1;31m---------------------------------------------------------------------------\u001b[0m",
      "\u001b[1;31mAttributeError\u001b[0m                            Traceback (most recent call last)",
      "File \u001b[1;32mc:\\Users\\27722\\OneDrive\\Desktop\\de\\python\\countries_and_capitals\\app\\etl.py:1\u001b[0m\n\u001b[1;32m----> 1\u001b[0m countries_ref_df\u001b[39m.\u001b[39mwith_columns(pl\u001b[39m.\u001b[39;49mcol(\u001b[39m'\u001b[39;49m\u001b[39mcountry\u001b[39;49m\u001b[39m'\u001b[39;49m)\u001b[39m.\u001b[39;49mapply(\u001b[39mlambda\u001b[39;00m x: process\u001b[39m.\u001b[39mextractOne(x,flags_df[\u001b[39m'\u001b[39m\u001b[39mcountry\u001b[39m\u001b[39m'\u001b[39m]\u001b[39m.\u001b[39mstr,scorer\u001b[39m=\u001b[39mfuzz\u001b[39m.\u001b[39mtoken_set_ratio)\u001b[39m.\u001b[39malias(\u001b[39m'\u001b[39m\u001b[39mfuzzy_country\u001b[39m\u001b[39m'\u001b[39m)))\n",
      "\u001b[1;31mAttributeError\u001b[0m: 'Expr' object has no attribute 'apply'"
     ]
    }
   ],
   "source": [
    "countries_ref_df.with_columns(pl.col('country').apply(lambda x: process.extractOne(x,flags_df['country'].str,scorer=fuzz.token_set_ratio).alias('fuzzy_country')))"
   ]
  },
  {
   "cell_type": "code",
   "execution_count": 77,
   "metadata": {},
   "outputs": [
    {
     "ename": "AttributeError",
     "evalue": "'DataFrame' object has no attribute 'with_column'",
     "output_type": "error",
     "traceback": [
      "\u001b[1;31m---------------------------------------------------------------------------\u001b[0m",
      "\u001b[1;31mAttributeError\u001b[0m                            Traceback (most recent call last)",
      "File \u001b[1;32mc:\\Users\\27722\\OneDrive\\Desktop\\de\\python\\countries_and_capitals\\app\\etl.py:1\u001b[0m\n\u001b[1;32m----> 1\u001b[0m countries_ref_df\u001b[39m.\u001b[39;49mwith_column(pl\u001b[39m.\u001b[39mcol(\u001b[39m'\u001b[39m\u001b[39mcountry\u001b[39m\u001b[39m'\u001b[39m)\u001b[39m.\u001b[39mapply(\u001b[39mlambda\u001b[39;00m x: process\u001b[39m.\u001b[39mextractOne(x,flags_df[\u001b[39m'\u001b[39m\u001b[39mcountry\u001b[39m\u001b[39m'\u001b[39m]\u001b[39m.\u001b[39mstr,scorer\u001b[39m=\u001b[39mfuzz\u001b[39m.\u001b[39mtoken_set_ratio)\u001b[39m.\u001b[39malias(\u001b[39m'\u001b[39m\u001b[39mfuzzy_country\u001b[39m\u001b[39m'\u001b[39m)))\n",
      "\u001b[1;31mAttributeError\u001b[0m: 'DataFrame' object has no attribute 'with_column'"
     ]
    }
   ],
   "source": [
    "countries_ref_df.with_column(pl.col('country').apply(lambda x: process.extractOne(x,flags_df['country'].str,scorer=fuzz.token_set_ratio).alias('fuzzy_country')))"
   ]
  },
  {
   "cell_type": "code",
   "execution_count": 78,
   "metadata": {},
   "outputs": [
    {
     "ename": "AttributeError",
     "evalue": "'Expr' object has no attribute 'apply'",
     "output_type": "error",
     "traceback": [
      "\u001b[1;31m---------------------------------------------------------------------------\u001b[0m",
      "\u001b[1;31mAttributeError\u001b[0m                            Traceback (most recent call last)",
      "File \u001b[1;32mc:\\Users\\27722\\OneDrive\\Desktop\\de\\python\\countries_and_capitals\\app\\etl.py:1\u001b[0m\n\u001b[1;32m----> 1\u001b[0m countries_ref_df\u001b[39m.\u001b[39mwith_columns(pl\u001b[39m.\u001b[39;49mcol(\u001b[39m'\u001b[39;49m\u001b[39mcountry\u001b[39;49m\u001b[39m'\u001b[39;49m)\u001b[39m.\u001b[39;49mapply(\u001b[39mlambda\u001b[39;00m x: process\u001b[39m.\u001b[39mextractOne(x,flags_df[\u001b[39m'\u001b[39m\u001b[39mcountry\u001b[39m\u001b[39m'\u001b[39m],scorer\u001b[39m=\u001b[39mfuzz\u001b[39m.\u001b[39mtoken_set_ratio)\u001b[39m.\u001b[39malias(\u001b[39m'\u001b[39m\u001b[39mfuzzy_country\u001b[39m\u001b[39m'\u001b[39m)))\n",
      "\u001b[1;31mAttributeError\u001b[0m: 'Expr' object has no attribute 'apply'"
     ]
    }
   ],
   "source": [
    "countries_ref_df.with_columns(pl.col('country').apply(lambda x: process.extractOne(x,flags_df['country'],scorer=fuzz.token_set_ratio).alias('fuzzy_country')))"
   ]
  },
  {
   "cell_type": "code",
   "execution_count": 79,
   "metadata": {},
   "outputs": [
    {
     "ename": "SyntaxError",
     "evalue": "incomplete input (<ipython-input-79-7eb6b838cffe>, line 1)",
     "output_type": "error",
     "traceback": [
      "\u001b[1;36m  Cell \u001b[1;32mIn[79], line 1\u001b[1;36m\u001b[0m\n\u001b[1;33m    countries_ref_df.with_columns(pl.col('country').alias('fuzzy_country')\u001b[0m\n\u001b[1;37m                                                                          ^\u001b[0m\n\u001b[1;31mSyntaxError\u001b[0m\u001b[1;31m:\u001b[0m incomplete input\n"
     ]
    }
   ],
   "source": [
    "countries_ref_df.with_columns(pl.col('country').alias('fuzzy_country')"
   ]
  },
  {
   "cell_type": "code",
   "execution_count": 80,
   "metadata": {},
   "outputs": [
    {
     "data": {
      "text/html": [
       "<div><style>\n",
       ".dataframe > thead > tr,\n",
       ".dataframe > tbody > tr {\n",
       "  text-align: right;\n",
       "  white-space: pre-wrap;\n",
       "}\n",
       "</style>\n",
       "<small>shape: (262, 2)</small><table border=\"1\" class=\"dataframe\"><thead><tr><th>country</th><th>fuzzy_country</th></tr><tr><td>str</td><td>str</td></tr></thead><tbody><tr><td>&quot;Ivory Coast&quot;</td><td>&quot;Ivory Coast&quot;</td></tr><tr><td>&quot;Ivory Coast&quot;</td><td>&quot;Ivory Coast&quot;</td></tr><tr><td>&quot;United Arab Emirates&quot;</td><td>&quot;United Arab Emirates&quot;</td></tr><tr><td>&quot;Nigeria&quot;</td><td>&quot;Nigeria&quot;</td></tr><tr><td>&quot;Ghana&quot;</td><td>&quot;Ghana&quot;</td></tr><tr><td>&hellip;</td><td>&hellip;</td></tr><tr><td>&quot;Namibia&quot;</td><td>&quot;Namibia&quot;</td></tr><tr><td>&quot;Cameroon&quot;</td><td>&quot;Cameroon&quot;</td></tr><tr><td>&quot;Nauru&quot;</td><td>&quot;Nauru&quot;</td></tr><tr><td>&quot;Armenia&quot;</td><td>&quot;Armenia&quot;</td></tr><tr><td>&quot;Croatia&quot;</td><td>&quot;Croatia&quot;</td></tr></tbody></table></div>"
      ],
      "text/plain": [
       "shape: (262, 2)\n",
       "┌──────────────────────┬──────────────────────┐\n",
       "│ country              ┆ fuzzy_country        │\n",
       "│ ---                  ┆ ---                  │\n",
       "│ str                  ┆ str                  │\n",
       "╞══════════════════════╪══════════════════════╡\n",
       "│ Ivory Coast          ┆ Ivory Coast          │\n",
       "│ Ivory Coast          ┆ Ivory Coast          │\n",
       "│ United Arab Emirates ┆ United Arab Emirates │\n",
       "│ Nigeria              ┆ Nigeria              │\n",
       "│ Ghana                ┆ Ghana                │\n",
       "│ …                    ┆ …                    │\n",
       "│ Namibia              ┆ Namibia              │\n",
       "│ Cameroon             ┆ Cameroon             │\n",
       "│ Nauru                ┆ Nauru                │\n",
       "│ Armenia              ┆ Armenia              │\n",
       "│ Croatia              ┆ Croatia              │\n",
       "└──────────────────────┴──────────────────────┘"
      ]
     },
     "execution_count": 80,
     "metadata": {},
     "output_type": "execute_result"
    }
   ],
   "source": [
    "countries_ref_df.with_columns(pl.col('country').alias('fuzzy_country'))"
   ]
  },
  {
   "cell_type": "code",
   "execution_count": 81,
   "metadata": {},
   "outputs": [
    {
     "ename": "AttributeError",
     "evalue": "'Expr' object has no attribute 'apply'",
     "output_type": "error",
     "traceback": [
      "\u001b[1;31m---------------------------------------------------------------------------\u001b[0m",
      "\u001b[1;31mAttributeError\u001b[0m                            Traceback (most recent call last)",
      "File \u001b[1;32mc:\\Users\\27722\\OneDrive\\Desktop\\de\\python\\countries_and_capitals\\app\\etl.py:1\u001b[0m\n\u001b[1;32m----> 1\u001b[0m countries_ref_df\u001b[39m.\u001b[39mwith_columns(pl\u001b[39m.\u001b[39;49mcol(\u001b[39m'\u001b[39;49m\u001b[39mcountry\u001b[39;49m\u001b[39m'\u001b[39;49m)\u001b[39m.\u001b[39;49mapply(\u001b[39mlambda\u001b[39;00m x: x)\u001b[39m.\u001b[39malias(\u001b[39m'\u001b[39m\u001b[39mfuzzy_country\u001b[39m\u001b[39m'\u001b[39m))\n",
      "\u001b[1;31mAttributeError\u001b[0m: 'Expr' object has no attribute 'apply'"
     ]
    }
   ],
   "source": [
    "countries_ref_df.with_columns(pl.col('country').apply(lambda x: x).alias('fuzzy_country'))"
   ]
  },
  {
   "cell_type": "code",
   "execution_count": 82,
   "metadata": {},
   "outputs": [
    {
     "ename": "AttributeError",
     "evalue": "'Expr' object has no attribute 'select'",
     "output_type": "error",
     "traceback": [
      "\u001b[1;31m---------------------------------------------------------------------------\u001b[0m",
      "\u001b[1;31mAttributeError\u001b[0m                            Traceback (most recent call last)",
      "File \u001b[1;32mc:\\Users\\27722\\OneDrive\\Desktop\\de\\python\\countries_and_capitals\\app\\etl.py:1\u001b[0m\n\u001b[1;32m----> 1\u001b[0m countries_ref_df\u001b[39m.\u001b[39mwith_columns(pl\u001b[39m.\u001b[39;49mcol(\u001b[39m'\u001b[39;49m\u001b[39mcountry\u001b[39;49m\u001b[39m'\u001b[39;49m)\u001b[39m.\u001b[39;49mselect(\u001b[39mlambda\u001b[39;00m x: x)\u001b[39m.\u001b[39malias(\u001b[39m'\u001b[39m\u001b[39mfuzzy_country\u001b[39m\u001b[39m'\u001b[39m))\n",
      "\u001b[1;31mAttributeError\u001b[0m: 'Expr' object has no attribute 'select'"
     ]
    }
   ],
   "source": [
    "countries_ref_df.with_columns(pl.col('country').select(lambda x: x).alias('fuzzy_country'))"
   ]
  },
  {
   "cell_type": "code",
   "execution_count": 83,
   "metadata": {},
   "outputs": [
    {
     "ename": "AttributeError",
     "evalue": "'Expr' object has no attribute 'apply'",
     "output_type": "error",
     "traceback": [
      "\u001b[1;31m---------------------------------------------------------------------------\u001b[0m",
      "\u001b[1;31mAttributeError\u001b[0m                            Traceback (most recent call last)",
      "File \u001b[1;32mc:\\Users\\27722\\OneDrive\\Desktop\\de\\python\\countries_and_capitals\\app\\etl.py:1\u001b[0m\n\u001b[1;32m----> 1\u001b[0m countries_ref_df\u001b[39m.\u001b[39mwith_columns(pl\u001b[39m.\u001b[39;49mcol(\u001b[39m'\u001b[39;49m\u001b[39mcountry\u001b[39;49m\u001b[39m'\u001b[39;49m)\u001b[39m.\u001b[39;49mapply(\u001b[39mlambda\u001b[39;00m x: x)\u001b[39m.\u001b[39malias(\u001b[39m'\u001b[39m\u001b[39mfuzzy_country\u001b[39m\u001b[39m'\u001b[39m))\n",
      "\u001b[1;31mAttributeError\u001b[0m: 'Expr' object has no attribute 'apply'"
     ]
    }
   ],
   "source": [
    "countries_ref_df.with_columns(pl.col('country').apply(lambda x: x).alias('fuzzy_country'))"
   ]
  },
  {
   "cell_type": "code",
   "execution_count": 84,
   "metadata": {},
   "outputs": [
    {
     "ename": "AttributeError",
     "evalue": "'Expr' object has no attribute 'apply'",
     "output_type": "error",
     "traceback": [
      "\u001b[1;31m---------------------------------------------------------------------------\u001b[0m",
      "\u001b[1;31mAttributeError\u001b[0m                            Traceback (most recent call last)",
      "File \u001b[1;32mc:\\Users\\27722\\OneDrive\\Desktop\\de\\python\\countries_and_capitals\\app\\etl.py:1\u001b[0m\n\u001b[1;32m----> 1\u001b[0m countries_ref_df\u001b[39m.\u001b[39mwith_columns(pl\u001b[39m.\u001b[39;49mcol(\u001b[39m'\u001b[39;49m\u001b[39mcountry\u001b[39;49m\u001b[39m'\u001b[39;49m)\u001b[39m.\u001b[39;49mapply(\u001b[39m1\u001b[39m)\u001b[39m.\u001b[39malias(\u001b[39m'\u001b[39m\u001b[39mfuzzy_country\u001b[39m\u001b[39m'\u001b[39m))\n",
      "\u001b[1;31mAttributeError\u001b[0m: 'Expr' object has no attribute 'apply'"
     ]
    }
   ],
   "source": [
    "countries_ref_df.with_columns(pl.col('country').apply(1).alias('fuzzy_country'))"
   ]
  },
  {
   "cell_type": "code",
   "execution_count": 85,
   "metadata": {},
   "outputs": [
    {
     "data": {
      "text/html": [
       "<div><style>\n",
       ".dataframe > thead > tr,\n",
       ".dataframe > tbody > tr {\n",
       "  text-align: right;\n",
       "  white-space: pre-wrap;\n",
       "}\n",
       "</style>\n",
       "<small>shape: (262, 1)</small><table border=\"1\" class=\"dataframe\"><thead><tr><th>country</th></tr><tr><td>str</td></tr></thead><tbody><tr><td>&quot;Ivory Coast&quot;</td></tr><tr><td>&quot;Ivory Coast&quot;</td></tr><tr><td>&quot;United Arab Emirates&quot;</td></tr><tr><td>&quot;Nigeria&quot;</td></tr><tr><td>&quot;Ghana&quot;</td></tr><tr><td>&hellip;</td></tr><tr><td>&quot;Namibia&quot;</td></tr><tr><td>&quot;Cameroon&quot;</td></tr><tr><td>&quot;Nauru&quot;</td></tr><tr><td>&quot;Armenia&quot;</td></tr><tr><td>&quot;Croatia&quot;</td></tr></tbody></table></div>"
      ],
      "text/plain": [
       "shape: (262, 1)\n",
       "┌──────────────────────┐\n",
       "│ country              │\n",
       "│ ---                  │\n",
       "│ str                  │\n",
       "╞══════════════════════╡\n",
       "│ Ivory Coast          │\n",
       "│ Ivory Coast          │\n",
       "│ United Arab Emirates │\n",
       "│ Nigeria              │\n",
       "│ Ghana                │\n",
       "│ …                    │\n",
       "│ Namibia              │\n",
       "│ Cameroon             │\n",
       "│ Nauru                │\n",
       "│ Armenia              │\n",
       "│ Croatia              │\n",
       "└──────────────────────┘"
      ]
     },
     "execution_count": 85,
     "metadata": {},
     "output_type": "execute_result"
    }
   ],
   "source": [
    "countries_ref_df"
   ]
  },
  {
   "cell_type": "code",
   "execution_count": 86,
   "metadata": {},
   "outputs": [
    {
     "ename": "AttributeError",
     "evalue": "'DataFrame' object has no attribute 'apply'",
     "output_type": "error",
     "traceback": [
      "\u001b[1;31m---------------------------------------------------------------------------\u001b[0m",
      "\u001b[1;31mAttributeError\u001b[0m                            Traceback (most recent call last)",
      "File \u001b[1;32mc:\\Users\\27722\\OneDrive\\Desktop\\de\\python\\countries_and_capitals\\app\\etl.py:1\u001b[0m\n\u001b[1;32m----> 1\u001b[0m countries_ref_df\u001b[39m.\u001b[39;49mapply(pl\u001b[39m.\u001b[39mcol(\u001b[39m'\u001b[39m\u001b[39mcountry\u001b[39m\u001b[39m'\u001b[39m)\u001b[39m.\u001b[39malias(\u001b[39m'\u001b[39m\u001b[39mfuzzy_country\u001b[39m\u001b[39m'\u001b[39m))\n",
      "\u001b[1;31mAttributeError\u001b[0m: 'DataFrame' object has no attribute 'apply'"
     ]
    }
   ],
   "source": [
    "countries_ref_df.apply(pl.col('country').alias('fuzzy_country'))"
   ]
  },
  {
   "cell_type": "code",
   "execution_count": 87,
   "metadata": {},
   "outputs": [
    {
     "ename": "AttributeError",
     "evalue": "'DataFrame' object has no attribute 'apply'",
     "output_type": "error",
     "traceback": [
      "\u001b[1;31m---------------------------------------------------------------------------\u001b[0m",
      "\u001b[1;31mAttributeError\u001b[0m                            Traceback (most recent call last)",
      "File \u001b[1;32mc:\\Users\\27722\\OneDrive\\Desktop\\de\\python\\countries_and_capitals\\app\\etl.py:1\u001b[0m\n\u001b[1;32m----> 1\u001b[0m countries_ref_df\u001b[39m.\u001b[39;49mapply(\u001b[39mlambda\u001b[39;00m x: (x \u001b[39m+\u001b[39m x)\u001b[39m.\u001b[39malias(\u001b[39m'\u001b[39m\u001b[39mfuzzy_country\u001b[39m\u001b[39m'\u001b[39m))\n",
      "\u001b[1;31mAttributeError\u001b[0m: 'DataFrame' object has no attribute 'apply'"
     ]
    }
   ],
   "source": [
    "countries_ref_df.apply(lambda x: (x + x).alias('fuzzy_country'))"
   ]
  },
  {
   "cell_type": "code",
   "execution_count": 88,
   "metadata": {},
   "outputs": [
    {
     "data": {
      "text/plain": [
       "polars.dataframe.frame.DataFrame"
      ]
     },
     "execution_count": 88,
     "metadata": {},
     "output_type": "execute_result"
    }
   ],
   "source": [
    "type(countries_ref_df)"
   ]
  },
  {
   "cell_type": "code",
   "execution_count": 89,
   "metadata": {},
   "outputs": [
    {
     "data": {
      "text/html": [
       "<div><style>\n",
       ".dataframe > thead > tr,\n",
       ".dataframe > tbody > tr {\n",
       "  text-align: right;\n",
       "  white-space: pre-wrap;\n",
       "}\n",
       "</style>\n",
       "<small>shape: (262, 1)</small><table border=\"1\" class=\"dataframe\"><thead><tr><th>country</th></tr><tr><td>str</td></tr></thead><tbody><tr><td>&quot;Ivory Coast&quot;</td></tr><tr><td>&quot;Ivory Coast&quot;</td></tr><tr><td>&quot;United Arab Emirates&quot;</td></tr><tr><td>&quot;Nigeria&quot;</td></tr><tr><td>&quot;Ghana&quot;</td></tr><tr><td>&hellip;</td></tr><tr><td>&quot;Namibia&quot;</td></tr><tr><td>&quot;Cameroon&quot;</td></tr><tr><td>&quot;Nauru&quot;</td></tr><tr><td>&quot;Armenia&quot;</td></tr><tr><td>&quot;Croatia&quot;</td></tr></tbody></table></div>"
      ],
      "text/plain": [
       "shape: (262, 1)\n",
       "┌──────────────────────┐\n",
       "│ country              │\n",
       "│ ---                  │\n",
       "│ str                  │\n",
       "╞══════════════════════╡\n",
       "│ Ivory Coast          │\n",
       "│ Ivory Coast          │\n",
       "│ United Arab Emirates │\n",
       "│ Nigeria              │\n",
       "│ Ghana                │\n",
       "│ …                    │\n",
       "│ Namibia              │\n",
       "│ Cameroon             │\n",
       "│ Nauru                │\n",
       "│ Armenia              │\n",
       "│ Croatia              │\n",
       "└──────────────────────┘"
      ]
     },
     "execution_count": 89,
     "metadata": {},
     "output_type": "execute_result"
    }
   ],
   "source": [
    "countries_ref_df.select(pl.col('country'))"
   ]
  },
  {
   "cell_type": "code",
   "execution_count": 90,
   "metadata": {},
   "outputs": [
    {
     "ename": "AttributeError",
     "evalue": "'Series' object has no attribute 'map_rows'",
     "output_type": "error",
     "traceback": [
      "\u001b[1;31m---------------------------------------------------------------------------\u001b[0m",
      "\u001b[1;31mAttributeError\u001b[0m                            Traceback (most recent call last)",
      "File \u001b[1;32mc:\\Users\\27722\\OneDrive\\Desktop\\de\\python\\countries_and_capitals\\app\\etl.py:1\u001b[0m\n\u001b[1;32m----> 1\u001b[0m countries_ref_df[\u001b[39m'\u001b[39;49m\u001b[39mcountry\u001b[39;49m\u001b[39m'\u001b[39;49m]\u001b[39m.\u001b[39;49mmap_rows(\u001b[39mlambda\u001b[39;00m x: (x \u001b[39m+\u001b[39m x)\u001b[39m.\u001b[39malias(\u001b[39m'\u001b[39m\u001b[39mfuzzy_country\u001b[39m\u001b[39m'\u001b[39m))\n",
      "\u001b[1;31mAttributeError\u001b[0m: 'Series' object has no attribute 'map_rows'"
     ]
    }
   ],
   "source": [
    "countries_ref_df['country'].map_rows(lambda x: (x + x).alias('fuzzy_country'))"
   ]
  },
  {
   "cell_type": "code",
   "execution_count": 91,
   "metadata": {},
   "outputs": [
    {
     "ename": "AttributeError",
     "evalue": "'tuple' object has no attribute 'alias'",
     "output_type": "error",
     "traceback": [
      "\u001b[1;31m---------------------------------------------------------------------------\u001b[0m",
      "\u001b[1;31mAttributeError\u001b[0m                            Traceback (most recent call last)",
      "File \u001b[1;32mc:\\Users\\27722\\OneDrive\\Desktop\\de\\python\\countries_and_capitals\\app\\etl.py:1\u001b[0m\n\u001b[1;32m----> 1\u001b[0m countries_ref_df\u001b[39m.\u001b[39;49mmap_rows(\u001b[39mlambda\u001b[39;49;00m x: (x \u001b[39m+\u001b[39;49m x)\u001b[39m.\u001b[39;49malias(\u001b[39m'\u001b[39;49m\u001b[39mfuzzy_country\u001b[39;49m\u001b[39m'\u001b[39;49m))\n",
      "File \u001b[1;32mc:\\Users\\27722\\AppData\\Local\\Programs\\Python\\Python312\\Lib\\site-packages\\polars\\dataframe\\frame.py:6981\u001b[0m, in \u001b[0;36mDataFrame.map_rows\u001b[1;34m(self, function, return_dtype, inference_size)\u001b[0m\n\u001b[0;32m   6892\u001b[0m \u001b[39m\u001b[39m\u001b[39m\"\"\"\u001b[39;00m\n\u001b[0;32m   6893\u001b[0m \u001b[39mApply a custom/user-defined function (UDF) over the rows of the DataFrame.\u001b[39;00m\n\u001b[0;32m   6894\u001b[0m \n\u001b[1;32m   (...)\u001b[0m\n\u001b[0;32m   6975\u001b[0m \u001b[39m>>> df.select(pl.col(\"foo\") * 2 + pl.col(\"bar\"))  # doctest: +IGNORE_RESULT\u001b[39;00m\n\u001b[0;32m   6976\u001b[0m \u001b[39m\"\"\"\u001b[39;00m\n\u001b[0;32m   6977\u001b[0m \u001b[39m# TODO: Enable warning for inefficient map\u001b[39;00m\n\u001b[0;32m   6978\u001b[0m \u001b[39m# from polars._utils.udfs import warn_on_inefficient_map\u001b[39;00m\n\u001b[0;32m   6979\u001b[0m \u001b[39m# warn_on_inefficient_map(function, columns=self.columns, map_target=\"frame)\u001b[39;00m\n\u001b[1;32m-> 6981\u001b[0m out, is_df \u001b[39m=\u001b[39m \u001b[39mself\u001b[39;49m\u001b[39m.\u001b[39;49m_df\u001b[39m.\u001b[39;49mmap_rows(function, return_dtype, inference_size)\n\u001b[0;32m   6982\u001b[0m \u001b[39mif\u001b[39;00m is_df:\n\u001b[0;32m   6983\u001b[0m     \u001b[39mreturn\u001b[39;00m \u001b[39mself\u001b[39m\u001b[39m.\u001b[39m_from_pydf(out)\n",
      "File \u001b[1;32mc:\\Users\\27722\\OneDrive\\Desktop\\de\\python\\countries_and_capitals\\app\\etl.py:1\u001b[0m\n\u001b[1;32m----> 1\u001b[0m countries_ref_df\u001b[39m.\u001b[39mmap_rows(\u001b[39mlambda\u001b[39;00m x: (x \u001b[39m+\u001b[39;49m x)\u001b[39m.\u001b[39;49malias(\u001b[39m'\u001b[39m\u001b[39mfuzzy_country\u001b[39m\u001b[39m'\u001b[39m))\n",
      "\u001b[1;31mAttributeError\u001b[0m: 'tuple' object has no attribute 'alias'"
     ]
    }
   ],
   "source": [
    "countries_ref_df.map_rows(lambda x: (x + x).alias('fuzzy_country'))"
   ]
  },
  {
   "cell_type": "code",
   "execution_count": 92,
   "metadata": {},
   "outputs": [
    {
     "ename": "AttributeError",
     "evalue": "'tuple' object has no attribute 'alias'",
     "output_type": "error",
     "traceback": [
      "\u001b[1;31m---------------------------------------------------------------------------\u001b[0m",
      "\u001b[1;31mAttributeError\u001b[0m                            Traceback (most recent call last)",
      "File \u001b[1;32mc:\\Users\\27722\\OneDrive\\Desktop\\de\\python\\countries_and_capitals\\app\\etl.py:1\u001b[0m\n\u001b[1;32m----> 1\u001b[0m countries_ref_df\u001b[39m.\u001b[39;49mmap_rows(\u001b[39mlambda\u001b[39;49;00m x: x \u001b[39m+\u001b[39;49m x\u001b[39m.\u001b[39;49malias(\u001b[39m'\u001b[39;49m\u001b[39mfuzzy_country\u001b[39;49m\u001b[39m'\u001b[39;49m))\n",
      "File \u001b[1;32mc:\\Users\\27722\\AppData\\Local\\Programs\\Python\\Python312\\Lib\\site-packages\\polars\\dataframe\\frame.py:6981\u001b[0m, in \u001b[0;36mDataFrame.map_rows\u001b[1;34m(self, function, return_dtype, inference_size)\u001b[0m\n\u001b[0;32m   6892\u001b[0m \u001b[39m\u001b[39m\u001b[39m\"\"\"\u001b[39;00m\n\u001b[0;32m   6893\u001b[0m \u001b[39mApply a custom/user-defined function (UDF) over the rows of the DataFrame.\u001b[39;00m\n\u001b[0;32m   6894\u001b[0m \n\u001b[1;32m   (...)\u001b[0m\n\u001b[0;32m   6975\u001b[0m \u001b[39m>>> df.select(pl.col(\"foo\") * 2 + pl.col(\"bar\"))  # doctest: +IGNORE_RESULT\u001b[39;00m\n\u001b[0;32m   6976\u001b[0m \u001b[39m\"\"\"\u001b[39;00m\n\u001b[0;32m   6977\u001b[0m \u001b[39m# TODO: Enable warning for inefficient map\u001b[39;00m\n\u001b[0;32m   6978\u001b[0m \u001b[39m# from polars._utils.udfs import warn_on_inefficient_map\u001b[39;00m\n\u001b[0;32m   6979\u001b[0m \u001b[39m# warn_on_inefficient_map(function, columns=self.columns, map_target=\"frame)\u001b[39;00m\n\u001b[1;32m-> 6981\u001b[0m out, is_df \u001b[39m=\u001b[39m \u001b[39mself\u001b[39;49m\u001b[39m.\u001b[39;49m_df\u001b[39m.\u001b[39;49mmap_rows(function, return_dtype, inference_size)\n\u001b[0;32m   6982\u001b[0m \u001b[39mif\u001b[39;00m is_df:\n\u001b[0;32m   6983\u001b[0m     \u001b[39mreturn\u001b[39;00m \u001b[39mself\u001b[39m\u001b[39m.\u001b[39m_from_pydf(out)\n",
      "File \u001b[1;32mc:\\Users\\27722\\OneDrive\\Desktop\\de\\python\\countries_and_capitals\\app\\etl.py:1\u001b[0m\n\u001b[1;32m----> 1\u001b[0m countries_ref_df\u001b[39m.\u001b[39mmap_rows(\u001b[39mlambda\u001b[39;00m x: x \u001b[39m+\u001b[39m x\u001b[39m.\u001b[39;49malias(\u001b[39m'\u001b[39m\u001b[39mfuzzy_country\u001b[39m\u001b[39m'\u001b[39m))\n",
      "\u001b[1;31mAttributeError\u001b[0m: 'tuple' object has no attribute 'alias'"
     ]
    }
   ],
   "source": [
    "countries_ref_df.map_rows(lambda x: x + x.alias('fuzzy_country'))"
   ]
  },
  {
   "cell_type": "code",
   "execution_count": 93,
   "metadata": {},
   "outputs": [
    {
     "data": {
      "text/html": [
       "<div><style>\n",
       ".dataframe > thead > tr,\n",
       ".dataframe > tbody > tr {\n",
       "  text-align: right;\n",
       "  white-space: pre-wrap;\n",
       "}\n",
       "</style>\n",
       "<small>shape: (262, 1)</small><table border=\"1\" class=\"dataframe\"><thead><tr><th>country</th></tr><tr><td>str</td></tr></thead><tbody><tr><td>&quot;Ivory Coast&quot;</td></tr><tr><td>&quot;Ivory Coast&quot;</td></tr><tr><td>&quot;United Arab Emirates&quot;</td></tr><tr><td>&quot;Nigeria&quot;</td></tr><tr><td>&quot;Ghana&quot;</td></tr><tr><td>&hellip;</td></tr><tr><td>&quot;Namibia&quot;</td></tr><tr><td>&quot;Cameroon&quot;</td></tr><tr><td>&quot;Nauru&quot;</td></tr><tr><td>&quot;Armenia&quot;</td></tr><tr><td>&quot;Croatia&quot;</td></tr></tbody></table></div>"
      ],
      "text/plain": [
       "shape: (262, 1)\n",
       "┌──────────────────────┐\n",
       "│ country              │\n",
       "│ ---                  │\n",
       "│ str                  │\n",
       "╞══════════════════════╡\n",
       "│ Ivory Coast          │\n",
       "│ Ivory Coast          │\n",
       "│ United Arab Emirates │\n",
       "│ Nigeria              │\n",
       "│ Ghana                │\n",
       "│ …                    │\n",
       "│ Namibia              │\n",
       "│ Cameroon             │\n",
       "│ Nauru                │\n",
       "│ Armenia              │\n",
       "│ Croatia              │\n",
       "└──────────────────────┘"
      ]
     },
     "execution_count": 93,
     "metadata": {},
     "output_type": "execute_result"
    }
   ],
   "source": [
    "countries_ref_df"
   ]
  },
  {
   "cell_type": "code",
   "execution_count": 94,
   "metadata": {},
   "outputs": [
    {
     "data": {
      "text/html": [
       "<div><style>\n",
       ".dataframe > thead > tr,\n",
       ".dataframe > tbody > tr {\n",
       "  text-align: right;\n",
       "  white-space: pre-wrap;\n",
       "}\n",
       "</style>\n",
       "<small>shape: (262, 1)</small><table border=\"1\" class=\"dataframe\"><thead><tr><th>column_0</th></tr><tr><td>str</td></tr></thead><tbody><tr><td>&quot;Ivory Coast&quot;</td></tr><tr><td>&quot;Ivory Coast&quot;</td></tr><tr><td>&quot;United Arab Emirates&quot;</td></tr><tr><td>&quot;Nigeria&quot;</td></tr><tr><td>&quot;Ghana&quot;</td></tr><tr><td>&hellip;</td></tr><tr><td>&quot;Namibia&quot;</td></tr><tr><td>&quot;Cameroon&quot;</td></tr><tr><td>&quot;Nauru&quot;</td></tr><tr><td>&quot;Armenia&quot;</td></tr><tr><td>&quot;Croatia&quot;</td></tr></tbody></table></div>"
      ],
      "text/plain": [
       "shape: (262, 1)\n",
       "┌──────────────────────┐\n",
       "│ column_0             │\n",
       "│ ---                  │\n",
       "│ str                  │\n",
       "╞══════════════════════╡\n",
       "│ Ivory Coast          │\n",
       "│ Ivory Coast          │\n",
       "│ United Arab Emirates │\n",
       "│ Nigeria              │\n",
       "│ Ghana                │\n",
       "│ …                    │\n",
       "│ Namibia              │\n",
       "│ Cameroon             │\n",
       "│ Nauru                │\n",
       "│ Armenia              │\n",
       "│ Croatia              │\n",
       "└──────────────────────┘"
      ]
     },
     "execution_count": 94,
     "metadata": {},
     "output_type": "execute_result"
    }
   ],
   "source": [
    "countries_ref_df.map_rows(lambda x: x )"
   ]
  },
  {
   "cell_type": "code",
   "execution_count": 95,
   "metadata": {},
   "outputs": [
    {
     "ename": "AttributeError",
     "evalue": "'tuple' object has no attribute 'str'",
     "output_type": "error",
     "traceback": [
      "\u001b[1;31m---------------------------------------------------------------------------\u001b[0m",
      "\u001b[1;31mAttributeError\u001b[0m                            Traceback (most recent call last)",
      "File \u001b[1;32mc:\\Users\\27722\\OneDrive\\Desktop\\de\\python\\countries_and_capitals\\app\\etl.py:1\u001b[0m\n\u001b[1;32m----> 1\u001b[0m countries_ref_df\u001b[39m.\u001b[39;49mmap_rows(\u001b[39mlambda\u001b[39;49;00m x: x\u001b[39m.\u001b[39;49mstr\u001b[39m.\u001b[39;49mto_uppercase())\n",
      "File \u001b[1;32mc:\\Users\\27722\\AppData\\Local\\Programs\\Python\\Python312\\Lib\\site-packages\\polars\\dataframe\\frame.py:6981\u001b[0m, in \u001b[0;36mDataFrame.map_rows\u001b[1;34m(self, function, return_dtype, inference_size)\u001b[0m\n\u001b[0;32m   6892\u001b[0m \u001b[39m\u001b[39m\u001b[39m\"\"\"\u001b[39;00m\n\u001b[0;32m   6893\u001b[0m \u001b[39mApply a custom/user-defined function (UDF) over the rows of the DataFrame.\u001b[39;00m\n\u001b[0;32m   6894\u001b[0m \n\u001b[1;32m   (...)\u001b[0m\n\u001b[0;32m   6975\u001b[0m \u001b[39m>>> df.select(pl.col(\"foo\") * 2 + pl.col(\"bar\"))  # doctest: +IGNORE_RESULT\u001b[39;00m\n\u001b[0;32m   6976\u001b[0m \u001b[39m\"\"\"\u001b[39;00m\n\u001b[0;32m   6977\u001b[0m \u001b[39m# TODO: Enable warning for inefficient map\u001b[39;00m\n\u001b[0;32m   6978\u001b[0m \u001b[39m# from polars._utils.udfs import warn_on_inefficient_map\u001b[39;00m\n\u001b[0;32m   6979\u001b[0m \u001b[39m# warn_on_inefficient_map(function, columns=self.columns, map_target=\"frame)\u001b[39;00m\n\u001b[1;32m-> 6981\u001b[0m out, is_df \u001b[39m=\u001b[39m \u001b[39mself\u001b[39;49m\u001b[39m.\u001b[39;49m_df\u001b[39m.\u001b[39;49mmap_rows(function, return_dtype, inference_size)\n\u001b[0;32m   6982\u001b[0m \u001b[39mif\u001b[39;00m is_df:\n\u001b[0;32m   6983\u001b[0m     \u001b[39mreturn\u001b[39;00m \u001b[39mself\u001b[39m\u001b[39m.\u001b[39m_from_pydf(out)\n",
      "File \u001b[1;32mc:\\Users\\27722\\OneDrive\\Desktop\\de\\python\\countries_and_capitals\\app\\etl.py:1\u001b[0m\n\u001b[1;32m----> 1\u001b[0m countries_ref_df\u001b[39m.\u001b[39mmap_rows(\u001b[39mlambda\u001b[39;00m x: x\u001b[39m.\u001b[39;49mstr\u001b[39m.\u001b[39mto_uppercase())\n",
      "\u001b[1;31mAttributeError\u001b[0m: 'tuple' object has no attribute 'str'"
     ]
    }
   ],
   "source": [
    "countries_ref_df.map_rows(lambda x: x.str.to_uppercase())"
   ]
  },
  {
   "cell_type": "code",
   "execution_count": 96,
   "metadata": {},
   "outputs": [
    {
     "data": {
      "text/html": [
       "<div><style>\n",
       ".dataframe > thead > tr,\n",
       ".dataframe > tbody > tr {\n",
       "  text-align: right;\n",
       "  white-space: pre-wrap;\n",
       "}\n",
       "</style>\n",
       "<small>shape: (262, 1)</small><table border=\"1\" class=\"dataframe\"><thead><tr><th>country</th></tr><tr><td>str</td></tr></thead><tbody><tr><td>&quot;Ivory Coast&quot;</td></tr><tr><td>&quot;Ivory Coast&quot;</td></tr><tr><td>&quot;United Arab Emirates&quot;</td></tr><tr><td>&quot;Nigeria&quot;</td></tr><tr><td>&quot;Ghana&quot;</td></tr><tr><td>&hellip;</td></tr><tr><td>&quot;Namibia&quot;</td></tr><tr><td>&quot;Cameroon&quot;</td></tr><tr><td>&quot;Nauru&quot;</td></tr><tr><td>&quot;Armenia&quot;</td></tr><tr><td>&quot;Croatia&quot;</td></tr></tbody></table></div>"
      ],
      "text/plain": [
       "shape: (262, 1)\n",
       "┌──────────────────────┐\n",
       "│ country              │\n",
       "│ ---                  │\n",
       "│ str                  │\n",
       "╞══════════════════════╡\n",
       "│ Ivory Coast          │\n",
       "│ Ivory Coast          │\n",
       "│ United Arab Emirates │\n",
       "│ Nigeria              │\n",
       "│ Ghana                │\n",
       "│ …                    │\n",
       "│ Namibia              │\n",
       "│ Cameroon             │\n",
       "│ Nauru                │\n",
       "│ Armenia              │\n",
       "│ Croatia              │\n",
       "└──────────────────────┘"
      ]
     },
     "execution_count": 96,
     "metadata": {},
     "output_type": "execute_result"
    }
   ],
   "source": [
    "countries_ref_df"
   ]
  },
  {
   "cell_type": "code",
   "execution_count": 97,
   "metadata": {},
   "outputs": [
    {
     "data": {
      "text/html": [
       "<div><style>\n",
       ".dataframe > thead > tr,\n",
       ".dataframe > tbody > tr {\n",
       "  text-align: right;\n",
       "  white-space: pre-wrap;\n",
       "}\n",
       "</style>\n",
       "<small>shape: (1, 1)</small><table border=\"1\" class=\"dataframe\"><thead><tr><th>country</th></tr><tr><td>str</td></tr></thead><tbody><tr><td>&quot;Ivory Coast&quot;</td></tr></tbody></table></div>"
      ],
      "text/plain": [
       "shape: (1, 1)\n",
       "┌─────────────┐\n",
       "│ country     │\n",
       "│ ---         │\n",
       "│ str         │\n",
       "╞═════════════╡\n",
       "│ Ivory Coast │\n",
       "└─────────────┘"
      ]
     },
     "execution_count": 97,
     "metadata": {},
     "output_type": "execute_result"
    }
   ],
   "source": [
    "countries_ref_df[0]"
   ]
  },
  {
   "cell_type": "code",
   "execution_count": 98,
   "metadata": {},
   "outputs": [
    {
     "data": {
      "text/plain": [
       "polars.dataframe.frame.DataFrame"
      ]
     },
     "execution_count": 98,
     "metadata": {},
     "output_type": "execute_result"
    }
   ],
   "source": [
    "type(countries_ref_df[0])"
   ]
  },
  {
   "cell_type": "code",
   "execution_count": 99,
   "metadata": {},
   "outputs": [
    {
     "data": {
      "text/plain": [
       "str"
      ]
     },
     "execution_count": 99,
     "metadata": {},
     "output_type": "execute_result"
    }
   ],
   "source": [
    "type(countries_ref_df[0,0])"
   ]
  },
  {
   "cell_type": "code",
   "execution_count": 100,
   "metadata": {},
   "outputs": [
    {
     "ename": "AttributeError",
     "evalue": "'tuple' object has no attribute 'to_uppercase'",
     "output_type": "error",
     "traceback": [
      "\u001b[1;31m---------------------------------------------------------------------------\u001b[0m",
      "\u001b[1;31mAttributeError\u001b[0m                            Traceback (most recent call last)",
      "File \u001b[1;32mc:\\Users\\27722\\OneDrive\\Desktop\\de\\python\\countries_and_capitals\\app\\etl.py:1\u001b[0m\n\u001b[1;32m----> 1\u001b[0m countries_ref_df\u001b[39m.\u001b[39;49mmap_rows(\u001b[39mlambda\u001b[39;49;00m x: x\u001b[39m.\u001b[39;49mto_uppercase())\n",
      "File \u001b[1;32mc:\\Users\\27722\\AppData\\Local\\Programs\\Python\\Python312\\Lib\\site-packages\\polars\\dataframe\\frame.py:6981\u001b[0m, in \u001b[0;36mDataFrame.map_rows\u001b[1;34m(self, function, return_dtype, inference_size)\u001b[0m\n\u001b[0;32m   6892\u001b[0m \u001b[39m\u001b[39m\u001b[39m\"\"\"\u001b[39;00m\n\u001b[0;32m   6893\u001b[0m \u001b[39mApply a custom/user-defined function (UDF) over the rows of the DataFrame.\u001b[39;00m\n\u001b[0;32m   6894\u001b[0m \n\u001b[1;32m   (...)\u001b[0m\n\u001b[0;32m   6975\u001b[0m \u001b[39m>>> df.select(pl.col(\"foo\") * 2 + pl.col(\"bar\"))  # doctest: +IGNORE_RESULT\u001b[39;00m\n\u001b[0;32m   6976\u001b[0m \u001b[39m\"\"\"\u001b[39;00m\n\u001b[0;32m   6977\u001b[0m \u001b[39m# TODO: Enable warning for inefficient map\u001b[39;00m\n\u001b[0;32m   6978\u001b[0m \u001b[39m# from polars._utils.udfs import warn_on_inefficient_map\u001b[39;00m\n\u001b[0;32m   6979\u001b[0m \u001b[39m# warn_on_inefficient_map(function, columns=self.columns, map_target=\"frame)\u001b[39;00m\n\u001b[1;32m-> 6981\u001b[0m out, is_df \u001b[39m=\u001b[39m \u001b[39mself\u001b[39;49m\u001b[39m.\u001b[39;49m_df\u001b[39m.\u001b[39;49mmap_rows(function, return_dtype, inference_size)\n\u001b[0;32m   6982\u001b[0m \u001b[39mif\u001b[39;00m is_df:\n\u001b[0;32m   6983\u001b[0m     \u001b[39mreturn\u001b[39;00m \u001b[39mself\u001b[39m\u001b[39m.\u001b[39m_from_pydf(out)\n",
      "File \u001b[1;32mc:\\Users\\27722\\OneDrive\\Desktop\\de\\python\\countries_and_capitals\\app\\etl.py:1\u001b[0m\n\u001b[1;32m----> 1\u001b[0m countries_ref_df\u001b[39m.\u001b[39mmap_rows(\u001b[39mlambda\u001b[39;00m x: x\u001b[39m.\u001b[39;49mto_uppercase())\n",
      "\u001b[1;31mAttributeError\u001b[0m: 'tuple' object has no attribute 'to_uppercase'"
     ]
    }
   ],
   "source": [
    "countries_ref_df.map_rows(lambda x: x.to_uppercase())"
   ]
  },
  {
   "cell_type": "code",
   "execution_count": 101,
   "metadata": {},
   "outputs": [
    {
     "data": {
      "text/html": [
       "<div><style>\n",
       ".dataframe > thead > tr,\n",
       ".dataframe > tbody > tr {\n",
       "  text-align: right;\n",
       "  white-space: pre-wrap;\n",
       "}\n",
       "</style>\n",
       "<small>shape: (262, 2)</small><table border=\"1\" class=\"dataframe\"><thead><tr><th>column_0</th><th>column_1</th></tr><tr><td>str</td><td>str</td></tr></thead><tbody><tr><td>&quot;Ivory Coast&quot;</td><td>&quot;Ivory Coast&quot;</td></tr><tr><td>&quot;Ivory Coast&quot;</td><td>&quot;Ivory Coast&quot;</td></tr><tr><td>&quot;United Arab Emirates&quot;</td><td>&quot;United Arab Emirates&quot;</td></tr><tr><td>&quot;Nigeria&quot;</td><td>&quot;Nigeria&quot;</td></tr><tr><td>&quot;Ghana&quot;</td><td>&quot;Ghana&quot;</td></tr><tr><td>&hellip;</td><td>&hellip;</td></tr><tr><td>&quot;Namibia&quot;</td><td>&quot;Namibia&quot;</td></tr><tr><td>&quot;Cameroon&quot;</td><td>&quot;Cameroon&quot;</td></tr><tr><td>&quot;Nauru&quot;</td><td>&quot;Nauru&quot;</td></tr><tr><td>&quot;Armenia&quot;</td><td>&quot;Armenia&quot;</td></tr><tr><td>&quot;Croatia&quot;</td><td>&quot;Croatia&quot;</td></tr></tbody></table></div>"
      ],
      "text/plain": [
       "shape: (262, 2)\n",
       "┌──────────────────────┬──────────────────────┐\n",
       "│ column_0             ┆ column_1             │\n",
       "│ ---                  ┆ ---                  │\n",
       "│ str                  ┆ str                  │\n",
       "╞══════════════════════╪══════════════════════╡\n",
       "│ Ivory Coast          ┆ Ivory Coast          │\n",
       "│ Ivory Coast          ┆ Ivory Coast          │\n",
       "│ United Arab Emirates ┆ United Arab Emirates │\n",
       "│ Nigeria              ┆ Nigeria              │\n",
       "│ Ghana                ┆ Ghana                │\n",
       "│ …                    ┆ …                    │\n",
       "│ Namibia              ┆ Namibia              │\n",
       "│ Cameroon             ┆ Cameroon             │\n",
       "│ Nauru                ┆ Nauru                │\n",
       "│ Armenia              ┆ Armenia              │\n",
       "│ Croatia              ┆ Croatia              │\n",
       "└──────────────────────┴──────────────────────┘"
      ]
     },
     "execution_count": 101,
     "metadata": {},
     "output_type": "execute_result"
    }
   ],
   "source": [
    "countries_ref_df.map_rows(lambda x: x + x)"
   ]
  },
  {
   "cell_type": "code",
   "execution_count": 102,
   "metadata": {},
   "outputs": [
    {
     "ename": "AttributeError",
     "evalue": "'tuple' object has no attribute 'str'",
     "output_type": "error",
     "traceback": [
      "\u001b[1;31m---------------------------------------------------------------------------\u001b[0m",
      "\u001b[1;31mAttributeError\u001b[0m                            Traceback (most recent call last)",
      "File \u001b[1;32mc:\\Users\\27722\\OneDrive\\Desktop\\de\\python\\countries_and_capitals\\app\\etl.py:1\u001b[0m\n\u001b[1;32m----> 1\u001b[0m countries_ref_df\u001b[39m.\u001b[39;49mmap_rows(\u001b[39mlambda\u001b[39;49;00m x: x\u001b[39m.\u001b[39;49mstr \u001b[39m+\u001b[39;49m x\u001b[39m.\u001b[39;49mstr)\n",
      "File \u001b[1;32mc:\\Users\\27722\\AppData\\Local\\Programs\\Python\\Python312\\Lib\\site-packages\\polars\\dataframe\\frame.py:6981\u001b[0m, in \u001b[0;36mDataFrame.map_rows\u001b[1;34m(self, function, return_dtype, inference_size)\u001b[0m\n\u001b[0;32m   6892\u001b[0m \u001b[39m\u001b[39m\u001b[39m\"\"\"\u001b[39;00m\n\u001b[0;32m   6893\u001b[0m \u001b[39mApply a custom/user-defined function (UDF) over the rows of the DataFrame.\u001b[39;00m\n\u001b[0;32m   6894\u001b[0m \n\u001b[1;32m   (...)\u001b[0m\n\u001b[0;32m   6975\u001b[0m \u001b[39m>>> df.select(pl.col(\"foo\") * 2 + pl.col(\"bar\"))  # doctest: +IGNORE_RESULT\u001b[39;00m\n\u001b[0;32m   6976\u001b[0m \u001b[39m\"\"\"\u001b[39;00m\n\u001b[0;32m   6977\u001b[0m \u001b[39m# TODO: Enable warning for inefficient map\u001b[39;00m\n\u001b[0;32m   6978\u001b[0m \u001b[39m# from polars._utils.udfs import warn_on_inefficient_map\u001b[39;00m\n\u001b[0;32m   6979\u001b[0m \u001b[39m# warn_on_inefficient_map(function, columns=self.columns, map_target=\"frame)\u001b[39;00m\n\u001b[1;32m-> 6981\u001b[0m out, is_df \u001b[39m=\u001b[39m \u001b[39mself\u001b[39;49m\u001b[39m.\u001b[39;49m_df\u001b[39m.\u001b[39;49mmap_rows(function, return_dtype, inference_size)\n\u001b[0;32m   6982\u001b[0m \u001b[39mif\u001b[39;00m is_df:\n\u001b[0;32m   6983\u001b[0m     \u001b[39mreturn\u001b[39;00m \u001b[39mself\u001b[39m\u001b[39m.\u001b[39m_from_pydf(out)\n",
      "File \u001b[1;32mc:\\Users\\27722\\OneDrive\\Desktop\\de\\python\\countries_and_capitals\\app\\etl.py:1\u001b[0m\n\u001b[1;32m----> 1\u001b[0m countries_ref_df\u001b[39m.\u001b[39mmap_rows(\u001b[39mlambda\u001b[39;00m x: x\u001b[39m.\u001b[39;49mstr \u001b[39m+\u001b[39m x\u001b[39m.\u001b[39mstr)\n",
      "\u001b[1;31mAttributeError\u001b[0m: 'tuple' object has no attribute 'str'"
     ]
    }
   ],
   "source": [
    "countries_ref_df.map_rows(lambda x: x.str + x.str)"
   ]
  },
  {
   "cell_type": "code",
   "execution_count": 103,
   "metadata": {},
   "outputs": [
    {
     "ename": "RuntimeError",
     "evalue": "BindingsError: \"Could not determine output type\"",
     "output_type": "error",
     "traceback": [
      "\u001b[1;31m---------------------------------------------------------------------------\u001b[0m",
      "\u001b[1;31mRuntimeError\u001b[0m                              Traceback (most recent call last)",
      "File \u001b[1;32mc:\\Users\\27722\\OneDrive\\Desktop\\de\\python\\countries_and_capitals\\app\\etl.py:1\u001b[0m\n\u001b[1;32m----> 1\u001b[0m countries_ref_df\u001b[39m.\u001b[39;49mmap_rows(\u001b[39mlambda\u001b[39;49;00m x: \u001b[39mtype\u001b[39;49m(x))\n",
      "File \u001b[1;32mc:\\Users\\27722\\AppData\\Local\\Programs\\Python\\Python312\\Lib\\site-packages\\polars\\dataframe\\frame.py:6981\u001b[0m, in \u001b[0;36mDataFrame.map_rows\u001b[1;34m(self, function, return_dtype, inference_size)\u001b[0m\n\u001b[0;32m   6892\u001b[0m \u001b[39m\u001b[39m\u001b[39m\"\"\"\u001b[39;00m\n\u001b[0;32m   6893\u001b[0m \u001b[39mApply a custom/user-defined function (UDF) over the rows of the DataFrame.\u001b[39;00m\n\u001b[0;32m   6894\u001b[0m \n\u001b[1;32m   (...)\u001b[0m\n\u001b[0;32m   6975\u001b[0m \u001b[39m>>> df.select(pl.col(\"foo\") * 2 + pl.col(\"bar\"))  # doctest: +IGNORE_RESULT\u001b[39;00m\n\u001b[0;32m   6976\u001b[0m \u001b[39m\"\"\"\u001b[39;00m\n\u001b[0;32m   6977\u001b[0m \u001b[39m# TODO: Enable warning for inefficient map\u001b[39;00m\n\u001b[0;32m   6978\u001b[0m \u001b[39m# from polars._utils.udfs import warn_on_inefficient_map\u001b[39;00m\n\u001b[0;32m   6979\u001b[0m \u001b[39m# warn_on_inefficient_map(function, columns=self.columns, map_target=\"frame)\u001b[39;00m\n\u001b[1;32m-> 6981\u001b[0m out, is_df \u001b[39m=\u001b[39m \u001b[39mself\u001b[39;49m\u001b[39m.\u001b[39;49m_df\u001b[39m.\u001b[39;49mmap_rows(function, return_dtype, inference_size)\n\u001b[0;32m   6982\u001b[0m \u001b[39mif\u001b[39;00m is_df:\n\u001b[0;32m   6983\u001b[0m     \u001b[39mreturn\u001b[39;00m \u001b[39mself\u001b[39m\u001b[39m.\u001b[39m_from_pydf(out)\n",
      "\u001b[1;31mRuntimeError\u001b[0m: BindingsError: \"Could not determine output type\""
     ]
    }
   ],
   "source": [
    "countries_ref_df.map_rows(lambda x: type(x))"
   ]
  },
  {
   "cell_type": "code",
   "execution_count": 104,
   "metadata": {},
   "outputs": [
    {
     "data": {
      "text/html": [
       "<div><style>\n",
       ".dataframe > thead > tr,\n",
       ".dataframe > tbody > tr {\n",
       "  text-align: right;\n",
       "  white-space: pre-wrap;\n",
       "}\n",
       "</style>\n",
       "<small>shape: (262, 1)</small><table border=\"1\" class=\"dataframe\"><thead><tr><th>column_0</th></tr><tr><td>str</td></tr></thead><tbody><tr><td>&quot;Ivory Coast&quot;</td></tr><tr><td>&quot;Ivory Coast&quot;</td></tr><tr><td>&quot;United Arab Emirates&quot;</td></tr><tr><td>&quot;Nigeria&quot;</td></tr><tr><td>&quot;Ghana&quot;</td></tr><tr><td>&hellip;</td></tr><tr><td>&quot;Namibia&quot;</td></tr><tr><td>&quot;Cameroon&quot;</td></tr><tr><td>&quot;Nauru&quot;</td></tr><tr><td>&quot;Armenia&quot;</td></tr><tr><td>&quot;Croatia&quot;</td></tr></tbody></table></div>"
      ],
      "text/plain": [
       "shape: (262, 1)\n",
       "┌──────────────────────┐\n",
       "│ column_0             │\n",
       "│ ---                  │\n",
       "│ str                  │\n",
       "╞══════════════════════╡\n",
       "│ Ivory Coast          │\n",
       "│ Ivory Coast          │\n",
       "│ United Arab Emirates │\n",
       "│ Nigeria              │\n",
       "│ Ghana                │\n",
       "│ …                    │\n",
       "│ Namibia              │\n",
       "│ Cameroon             │\n",
       "│ Nauru                │\n",
       "│ Armenia              │\n",
       "│ Croatia              │\n",
       "└──────────────────────┘"
      ]
     },
     "execution_count": 104,
     "metadata": {},
     "output_type": "execute_result"
    }
   ],
   "source": [
    "countries_ref_df.map_rows(lambda x: x)"
   ]
  },
  {
   "cell_type": "code",
   "execution_count": 105,
   "metadata": {},
   "outputs": [
    {
     "ename": "NameError",
     "evalue": "name 'upper' is not defined",
     "output_type": "error",
     "traceback": [
      "\u001b[1;31m---------------------------------------------------------------------------\u001b[0m",
      "\u001b[1;31mNameError\u001b[0m                                 Traceback (most recent call last)",
      "File \u001b[1;32mc:\\Users\\27722\\OneDrive\\Desktop\\de\\python\\countries_and_capitals\\app\\etl.py:1\u001b[0m\n\u001b[1;32m----> 1\u001b[0m countries_ref_df\u001b[39m.\u001b[39;49mmap_rows(\u001b[39mlambda\u001b[39;49;00m x: upper(x))\n",
      "File \u001b[1;32mc:\\Users\\27722\\AppData\\Local\\Programs\\Python\\Python312\\Lib\\site-packages\\polars\\dataframe\\frame.py:6981\u001b[0m, in \u001b[0;36mDataFrame.map_rows\u001b[1;34m(self, function, return_dtype, inference_size)\u001b[0m\n\u001b[0;32m   6892\u001b[0m \u001b[39m\u001b[39m\u001b[39m\"\"\"\u001b[39;00m\n\u001b[0;32m   6893\u001b[0m \u001b[39mApply a custom/user-defined function (UDF) over the rows of the DataFrame.\u001b[39;00m\n\u001b[0;32m   6894\u001b[0m \n\u001b[1;32m   (...)\u001b[0m\n\u001b[0;32m   6975\u001b[0m \u001b[39m>>> df.select(pl.col(\"foo\") * 2 + pl.col(\"bar\"))  # doctest: +IGNORE_RESULT\u001b[39;00m\n\u001b[0;32m   6976\u001b[0m \u001b[39m\"\"\"\u001b[39;00m\n\u001b[0;32m   6977\u001b[0m \u001b[39m# TODO: Enable warning for inefficient map\u001b[39;00m\n\u001b[0;32m   6978\u001b[0m \u001b[39m# from polars._utils.udfs import warn_on_inefficient_map\u001b[39;00m\n\u001b[0;32m   6979\u001b[0m \u001b[39m# warn_on_inefficient_map(function, columns=self.columns, map_target=\"frame)\u001b[39;00m\n\u001b[1;32m-> 6981\u001b[0m out, is_df \u001b[39m=\u001b[39m \u001b[39mself\u001b[39;49m\u001b[39m.\u001b[39;49m_df\u001b[39m.\u001b[39;49mmap_rows(function, return_dtype, inference_size)\n\u001b[0;32m   6982\u001b[0m \u001b[39mif\u001b[39;00m is_df:\n\u001b[0;32m   6983\u001b[0m     \u001b[39mreturn\u001b[39;00m \u001b[39mself\u001b[39m\u001b[39m.\u001b[39m_from_pydf(out)\n",
      "File \u001b[1;32mc:\\Users\\27722\\OneDrive\\Desktop\\de\\python\\countries_and_capitals\\app\\etl.py:1\u001b[0m\n\u001b[1;32m----> 1\u001b[0m countries_ref_df\u001b[39m.\u001b[39mmap_rows(\u001b[39mlambda\u001b[39;00m x: upper(x))\n",
      "\u001b[1;31mNameError\u001b[0m: name 'upper' is not defined"
     ]
    }
   ],
   "source": [
    "countries_ref_df.map_rows(lambda x: upper(x))"
   ]
  },
  {
   "cell_type": "code",
   "execution_count": 106,
   "metadata": {},
   "outputs": [
    {
     "data": {
      "text/html": [
       "<div><style>\n",
       ".dataframe > thead > tr,\n",
       ".dataframe > tbody > tr {\n",
       "  text-align: right;\n",
       "  white-space: pre-wrap;\n",
       "}\n",
       "</style>\n",
       "<small>shape: (262, 2)</small><table border=\"1\" class=\"dataframe\"><thead><tr><th>column_0</th><th>column_1</th></tr><tr><td>str</td><td>str</td></tr></thead><tbody><tr><td>&quot;Ivory Coast&quot;</td><td>&quot;Ivory Coast&quot;</td></tr><tr><td>&quot;Ivory Coast&quot;</td><td>&quot;Ivory Coast&quot;</td></tr><tr><td>&quot;United Arab Emirates&quot;</td><td>&quot;United Arab Emirates&quot;</td></tr><tr><td>&quot;Nigeria&quot;</td><td>&quot;Nigeria&quot;</td></tr><tr><td>&quot;Ghana&quot;</td><td>&quot;Ghana&quot;</td></tr><tr><td>&hellip;</td><td>&hellip;</td></tr><tr><td>&quot;Namibia&quot;</td><td>&quot;Namibia&quot;</td></tr><tr><td>&quot;Cameroon&quot;</td><td>&quot;Cameroon&quot;</td></tr><tr><td>&quot;Nauru&quot;</td><td>&quot;Nauru&quot;</td></tr><tr><td>&quot;Armenia&quot;</td><td>&quot;Armenia&quot;</td></tr><tr><td>&quot;Croatia&quot;</td><td>&quot;Croatia&quot;</td></tr></tbody></table></div>"
      ],
      "text/plain": [
       "shape: (262, 2)\n",
       "┌──────────────────────┬──────────────────────┐\n",
       "│ column_0             ┆ column_1             │\n",
       "│ ---                  ┆ ---                  │\n",
       "│ str                  ┆ str                  │\n",
       "╞══════════════════════╪══════════════════════╡\n",
       "│ Ivory Coast          ┆ Ivory Coast          │\n",
       "│ Ivory Coast          ┆ Ivory Coast          │\n",
       "│ United Arab Emirates ┆ United Arab Emirates │\n",
       "│ Nigeria              ┆ Nigeria              │\n",
       "│ Ghana                ┆ Ghana                │\n",
       "│ …                    ┆ …                    │\n",
       "│ Namibia              ┆ Namibia              │\n",
       "│ Cameroon             ┆ Cameroon             │\n",
       "│ Nauru                ┆ Nauru                │\n",
       "│ Armenia              ┆ Armenia              │\n",
       "│ Croatia              ┆ Croatia              │\n",
       "└──────────────────────┴──────────────────────┘"
      ]
     },
     "execution_count": 106,
     "metadata": {},
     "output_type": "execute_result"
    }
   ],
   "source": [
    "countries_ref_df.map_rows(lambda x: x+x)"
   ]
  },
  {
   "cell_type": "code",
   "execution_count": 107,
   "metadata": {},
   "outputs": [
    {
     "data": {
      "text/html": [
       "<div><style>\n",
       ".dataframe > thead > tr,\n",
       ".dataframe > tbody > tr {\n",
       "  text-align: right;\n",
       "  white-space: pre-wrap;\n",
       "}\n",
       "</style>\n",
       "<small>shape: (0, 0)</small><table border=\"1\" class=\"dataframe\"><thead><tr></tr><tr></tr></thead><tbody></tbody></table></div>"
      ],
      "text/plain": [
       "shape: (0, 0)\n",
       "┌┐\n",
       "╞╡\n",
       "└┘"
      ]
     },
     "execution_count": 107,
     "metadata": {},
     "output_type": "execute_result"
    }
   ],
   "source": [
    "\n",
    "countries_ref_df.map_rows(lambda x: x[1:])"
   ]
  },
  {
   "cell_type": "code",
   "execution_count": 108,
   "metadata": {},
   "outputs": [
    {
     "data": {
      "text/html": [
       "<div><style>\n",
       ".dataframe > thead > tr,\n",
       ".dataframe > tbody > tr {\n",
       "  text-align: right;\n",
       "  white-space: pre-wrap;\n",
       "}\n",
       "</style>\n",
       "<small>shape: (0, 0)</small><table border=\"1\" class=\"dataframe\"><thead><tr></tr><tr></tr></thead><tbody></tbody></table></div>"
      ],
      "text/plain": [
       "shape: (0, 0)\n",
       "┌┐\n",
       "╞╡\n",
       "└┘"
      ]
     },
     "execution_count": 108,
     "metadata": {},
     "output_type": "execute_result"
    }
   ],
   "source": [
    "\n",
    "countries_ref_df.map_rows(lambda x: x[2:])"
   ]
  },
  {
   "cell_type": "code",
   "execution_count": 109,
   "metadata": {},
   "outputs": [
    {
     "ename": "IndexError",
     "evalue": "tuple index out of range",
     "output_type": "error",
     "traceback": [
      "\u001b[1;31m---------------------------------------------------------------------------\u001b[0m",
      "\u001b[1;31mIndexError\u001b[0m                                Traceback (most recent call last)",
      "Cell \u001b[1;32mIn[109], line 1\u001b[0m\n\u001b[1;32m----> 1\u001b[0m countries_ref_df\u001b[39m.\u001b[39;49mmap_rows(\u001b[39mlambda\u001b[39;49;00m x: x[\u001b[39m2\u001b[39;49m])\n",
      "File \u001b[1;32mc:\\Users\\27722\\AppData\\Local\\Programs\\Python\\Python312\\Lib\\site-packages\\polars\\dataframe\\frame.py:6981\u001b[0m, in \u001b[0;36mDataFrame.map_rows\u001b[1;34m(self, function, return_dtype, inference_size)\u001b[0m\n\u001b[0;32m   6892\u001b[0m \u001b[39m\u001b[39m\u001b[39m\"\"\"\u001b[39;00m\n\u001b[0;32m   6893\u001b[0m \u001b[39mApply a custom/user-defined function (UDF) over the rows of the DataFrame.\u001b[39;00m\n\u001b[0;32m   6894\u001b[0m \n\u001b[1;32m   (...)\u001b[0m\n\u001b[0;32m   6975\u001b[0m \u001b[39m>>> df.select(pl.col(\"foo\") * 2 + pl.col(\"bar\"))  # doctest: +IGNORE_RESULT\u001b[39;00m\n\u001b[0;32m   6976\u001b[0m \u001b[39m\"\"\"\u001b[39;00m\n\u001b[0;32m   6977\u001b[0m \u001b[39m# TODO: Enable warning for inefficient map\u001b[39;00m\n\u001b[0;32m   6978\u001b[0m \u001b[39m# from polars._utils.udfs import warn_on_inefficient_map\u001b[39;00m\n\u001b[0;32m   6979\u001b[0m \u001b[39m# warn_on_inefficient_map(function, columns=self.columns, map_target=\"frame)\u001b[39;00m\n\u001b[1;32m-> 6981\u001b[0m out, is_df \u001b[39m=\u001b[39m \u001b[39mself\u001b[39;49m\u001b[39m.\u001b[39;49m_df\u001b[39m.\u001b[39;49mmap_rows(function, return_dtype, inference_size)\n\u001b[0;32m   6982\u001b[0m \u001b[39mif\u001b[39;00m is_df:\n\u001b[0;32m   6983\u001b[0m     \u001b[39mreturn\u001b[39;00m \u001b[39mself\u001b[39m\u001b[39m.\u001b[39m_from_pydf(out)\n",
      "Cell \u001b[1;32mIn[109], line 1\u001b[0m, in \u001b[0;36m<lambda>\u001b[1;34m(x)\u001b[0m\n\u001b[1;32m----> 1\u001b[0m countries_ref_df\u001b[39m.\u001b[39mmap_rows(\u001b[39mlambda\u001b[39;00m x: x[\u001b[39m2\u001b[39;49m])\n",
      "\u001b[1;31mIndexError\u001b[0m: tuple index out of range"
     ]
    }
   ],
   "source": [
    "\n",
    "countries_ref_df.map_rows(lambda x: x[2])"
   ]
  },
  {
   "cell_type": "code",
   "execution_count": 110,
   "metadata": {},
   "outputs": [
    {
     "ename": "IndexError",
     "evalue": "tuple index out of range",
     "output_type": "error",
     "traceback": [
      "\u001b[1;31m---------------------------------------------------------------------------\u001b[0m",
      "\u001b[1;31mIndexError\u001b[0m                                Traceback (most recent call last)",
      "Cell \u001b[1;32mIn[110], line 1\u001b[0m\n\u001b[1;32m----> 1\u001b[0m countries_ref_df\u001b[39m.\u001b[39;49mmap_rows(\u001b[39mlambda\u001b[39;49;00m x: (x[\u001b[39m2\u001b[39;49m]))\n",
      "File \u001b[1;32mc:\\Users\\27722\\AppData\\Local\\Programs\\Python\\Python312\\Lib\\site-packages\\polars\\dataframe\\frame.py:6981\u001b[0m, in \u001b[0;36mDataFrame.map_rows\u001b[1;34m(self, function, return_dtype, inference_size)\u001b[0m\n\u001b[0;32m   6892\u001b[0m \u001b[39m\u001b[39m\u001b[39m\"\"\"\u001b[39;00m\n\u001b[0;32m   6893\u001b[0m \u001b[39mApply a custom/user-defined function (UDF) over the rows of the DataFrame.\u001b[39;00m\n\u001b[0;32m   6894\u001b[0m \n\u001b[1;32m   (...)\u001b[0m\n\u001b[0;32m   6975\u001b[0m \u001b[39m>>> df.select(pl.col(\"foo\") * 2 + pl.col(\"bar\"))  # doctest: +IGNORE_RESULT\u001b[39;00m\n\u001b[0;32m   6976\u001b[0m \u001b[39m\"\"\"\u001b[39;00m\n\u001b[0;32m   6977\u001b[0m \u001b[39m# TODO: Enable warning for inefficient map\u001b[39;00m\n\u001b[0;32m   6978\u001b[0m \u001b[39m# from polars._utils.udfs import warn_on_inefficient_map\u001b[39;00m\n\u001b[0;32m   6979\u001b[0m \u001b[39m# warn_on_inefficient_map(function, columns=self.columns, map_target=\"frame)\u001b[39;00m\n\u001b[1;32m-> 6981\u001b[0m out, is_df \u001b[39m=\u001b[39m \u001b[39mself\u001b[39;49m\u001b[39m.\u001b[39;49m_df\u001b[39m.\u001b[39;49mmap_rows(function, return_dtype, inference_size)\n\u001b[0;32m   6982\u001b[0m \u001b[39mif\u001b[39;00m is_df:\n\u001b[0;32m   6983\u001b[0m     \u001b[39mreturn\u001b[39;00m \u001b[39mself\u001b[39m\u001b[39m.\u001b[39m_from_pydf(out)\n",
      "Cell \u001b[1;32mIn[110], line 1\u001b[0m, in \u001b[0;36m<lambda>\u001b[1;34m(x)\u001b[0m\n\u001b[1;32m----> 1\u001b[0m countries_ref_df\u001b[39m.\u001b[39mmap_rows(\u001b[39mlambda\u001b[39;00m x: (x[\u001b[39m2\u001b[39;49m]))\n",
      "\u001b[1;31mIndexError\u001b[0m: tuple index out of range"
     ]
    }
   ],
   "source": [
    "\n",
    "countries_ref_df.map_rows(lambda x: (x[2]))"
   ]
  },
  {
   "cell_type": "code",
   "execution_count": 111,
   "metadata": {},
   "outputs": [
    {
     "ename": "IndexError",
     "evalue": "tuple index out of range",
     "output_type": "error",
     "traceback": [
      "\u001b[1;31m---------------------------------------------------------------------------\u001b[0m",
      "\u001b[1;31mIndexError\u001b[0m                                Traceback (most recent call last)",
      "Cell \u001b[1;32mIn[111], line 1\u001b[0m\n\u001b[1;32m----> 1\u001b[0m countries_ref_df\u001b[39m.\u001b[39;49mmap_rows(\u001b[39mlambda\u001b[39;49;00m x: (x[\u001b[39m1\u001b[39;49m]))\n",
      "File \u001b[1;32mc:\\Users\\27722\\AppData\\Local\\Programs\\Python\\Python312\\Lib\\site-packages\\polars\\dataframe\\frame.py:6981\u001b[0m, in \u001b[0;36mDataFrame.map_rows\u001b[1;34m(self, function, return_dtype, inference_size)\u001b[0m\n\u001b[0;32m   6892\u001b[0m \u001b[39m\u001b[39m\u001b[39m\"\"\"\u001b[39;00m\n\u001b[0;32m   6893\u001b[0m \u001b[39mApply a custom/user-defined function (UDF) over the rows of the DataFrame.\u001b[39;00m\n\u001b[0;32m   6894\u001b[0m \n\u001b[1;32m   (...)\u001b[0m\n\u001b[0;32m   6975\u001b[0m \u001b[39m>>> df.select(pl.col(\"foo\") * 2 + pl.col(\"bar\"))  # doctest: +IGNORE_RESULT\u001b[39;00m\n\u001b[0;32m   6976\u001b[0m \u001b[39m\"\"\"\u001b[39;00m\n\u001b[0;32m   6977\u001b[0m \u001b[39m# TODO: Enable warning for inefficient map\u001b[39;00m\n\u001b[0;32m   6978\u001b[0m \u001b[39m# from polars._utils.udfs import warn_on_inefficient_map\u001b[39;00m\n\u001b[0;32m   6979\u001b[0m \u001b[39m# warn_on_inefficient_map(function, columns=self.columns, map_target=\"frame)\u001b[39;00m\n\u001b[1;32m-> 6981\u001b[0m out, is_df \u001b[39m=\u001b[39m \u001b[39mself\u001b[39;49m\u001b[39m.\u001b[39;49m_df\u001b[39m.\u001b[39;49mmap_rows(function, return_dtype, inference_size)\n\u001b[0;32m   6982\u001b[0m \u001b[39mif\u001b[39;00m is_df:\n\u001b[0;32m   6983\u001b[0m     \u001b[39mreturn\u001b[39;00m \u001b[39mself\u001b[39m\u001b[39m.\u001b[39m_from_pydf(out)\n",
      "Cell \u001b[1;32mIn[111], line 1\u001b[0m, in \u001b[0;36m<lambda>\u001b[1;34m(x)\u001b[0m\n\u001b[1;32m----> 1\u001b[0m countries_ref_df\u001b[39m.\u001b[39mmap_rows(\u001b[39mlambda\u001b[39;00m x: (x[\u001b[39m1\u001b[39;49m]))\n",
      "\u001b[1;31mIndexError\u001b[0m: tuple index out of range"
     ]
    }
   ],
   "source": [
    "\n",
    "countries_ref_df.map_rows(lambda x: (x[1]))"
   ]
  },
  {
   "cell_type": "code",
   "execution_count": 112,
   "metadata": {},
   "outputs": [
    {
     "data": {
      "text/html": [
       "<div><style>\n",
       ".dataframe > thead > tr,\n",
       ".dataframe > tbody > tr {\n",
       "  text-align: right;\n",
       "  white-space: pre-wrap;\n",
       "}\n",
       "</style>\n",
       "<small>shape: (262, 1)</small><table border=\"1\" class=\"dataframe\"><thead><tr><th>map</th></tr><tr><td>str</td></tr></thead><tbody><tr><td>&quot;Ivory Coast&quot;</td></tr><tr><td>&quot;Ivory Coast&quot;</td></tr><tr><td>&quot;United Arab Emirates&quot;</td></tr><tr><td>&quot;Nigeria&quot;</td></tr><tr><td>&quot;Ghana&quot;</td></tr><tr><td>&hellip;</td></tr><tr><td>&quot;Namibia&quot;</td></tr><tr><td>&quot;Cameroon&quot;</td></tr><tr><td>&quot;Nauru&quot;</td></tr><tr><td>&quot;Armenia&quot;</td></tr><tr><td>&quot;Croatia&quot;</td></tr></tbody></table></div>"
      ],
      "text/plain": [
       "shape: (262, 1)\n",
       "┌──────────────────────┐\n",
       "│ map                  │\n",
       "│ ---                  │\n",
       "│ str                  │\n",
       "╞══════════════════════╡\n",
       "│ Ivory Coast          │\n",
       "│ Ivory Coast          │\n",
       "│ United Arab Emirates │\n",
       "│ Nigeria              │\n",
       "│ Ghana                │\n",
       "│ …                    │\n",
       "│ Namibia              │\n",
       "│ Cameroon             │\n",
       "│ Nauru                │\n",
       "│ Armenia              │\n",
       "│ Croatia              │\n",
       "└──────────────────────┘"
      ]
     },
     "execution_count": 112,
     "metadata": {},
     "output_type": "execute_result"
    }
   ],
   "source": [
    "\n",
    "countries_ref_df.map_rows(lambda x: (x[0]))"
   ]
  },
  {
   "cell_type": "code",
   "execution_count": 113,
   "metadata": {},
   "outputs": [
    {
     "data": {
      "text/html": [
       "<div><style>\n",
       ".dataframe > thead > tr,\n",
       ".dataframe > tbody > tr {\n",
       "  text-align: right;\n",
       "  white-space: pre-wrap;\n",
       "}\n",
       "</style>\n",
       "<small>shape: (262, 1)</small><table border=\"1\" class=\"dataframe\"><thead><tr><th>map</th></tr><tr><td>str</td></tr></thead><tbody><tr><td>&quot;vory Coast&quot;</td></tr><tr><td>&quot;vory Coast&quot;</td></tr><tr><td>&quot;nited Arab Emirates&quot;</td></tr><tr><td>&quot;igeria&quot;</td></tr><tr><td>&quot;hana&quot;</td></tr><tr><td>&hellip;</td></tr><tr><td>&quot;amibia&quot;</td></tr><tr><td>&quot;ameroon&quot;</td></tr><tr><td>&quot;auru&quot;</td></tr><tr><td>&quot;rmenia&quot;</td></tr><tr><td>&quot;roatia&quot;</td></tr></tbody></table></div>"
      ],
      "text/plain": [
       "shape: (262, 1)\n",
       "┌─────────────────────┐\n",
       "│ map                 │\n",
       "│ ---                 │\n",
       "│ str                 │\n",
       "╞═════════════════════╡\n",
       "│ vory Coast          │\n",
       "│ vory Coast          │\n",
       "│ nited Arab Emirates │\n",
       "│ igeria              │\n",
       "│ hana                │\n",
       "│ …                   │\n",
       "│ amibia              │\n",
       "│ ameroon             │\n",
       "│ auru                │\n",
       "│ rmenia              │\n",
       "│ roatia              │\n",
       "└─────────────────────┘"
      ]
     },
     "execution_count": 113,
     "metadata": {},
     "output_type": "execute_result"
    }
   ],
   "source": [
    "countries_ref_df.map_rows(lambda x: (x[0][1:]))"
   ]
  },
  {
   "cell_type": "code",
   "execution_count": 114,
   "metadata": {},
   "outputs": [
    {
     "data": {
      "text/html": [
       "<div><style>\n",
       ".dataframe > thead > tr,\n",
       ".dataframe > tbody > tr {\n",
       "  text-align: right;\n",
       "  white-space: pre-wrap;\n",
       "}\n",
       "</style>\n",
       "<small>shape: (262, 1)</small><table border=\"1\" class=\"dataframe\"><thead><tr><th>map</th></tr><tr><td>str</td></tr></thead><tbody><tr><td>&quot;Ivory CoastIvory Coast&quot;</td></tr><tr><td>&quot;Ivory CoastIvory Coast&quot;</td></tr><tr><td>&quot;United Arab EmiratesUnited Ara…</td></tr><tr><td>&quot;NigeriaNigeria&quot;</td></tr><tr><td>&quot;GhanaGhana&quot;</td></tr><tr><td>&hellip;</td></tr><tr><td>&quot;NamibiaNamibia&quot;</td></tr><tr><td>&quot;CameroonCameroon&quot;</td></tr><tr><td>&quot;NauruNauru&quot;</td></tr><tr><td>&quot;ArmeniaArmenia&quot;</td></tr><tr><td>&quot;CroatiaCroatia&quot;</td></tr></tbody></table></div>"
      ],
      "text/plain": [
       "shape: (262, 1)\n",
       "┌─────────────────────────────────┐\n",
       "│ map                             │\n",
       "│ ---                             │\n",
       "│ str                             │\n",
       "╞═════════════════════════════════╡\n",
       "│ Ivory CoastIvory Coast          │\n",
       "│ Ivory CoastIvory Coast          │\n",
       "│ United Arab EmiratesUnited Ara… │\n",
       "│ NigeriaNigeria                  │\n",
       "│ GhanaGhana                      │\n",
       "│ …                               │\n",
       "│ NamibiaNamibia                  │\n",
       "│ CameroonCameroon                │\n",
       "│ NauruNauru                      │\n",
       "│ ArmeniaArmenia                  │\n",
       "│ CroatiaCroatia                  │\n",
       "└─────────────────────────────────┘"
      ]
     },
     "execution_count": 114,
     "metadata": {},
     "output_type": "execute_result"
    }
   ],
   "source": [
    "countries_ref_df.map_rows(lambda x: (x[0]+x[0]))"
   ]
  },
  {
   "cell_type": "code",
   "execution_count": 115,
   "metadata": {},
   "outputs": [
    {
     "ename": "AttributeError",
     "evalue": "'str' object has no attribute 'alias'",
     "output_type": "error",
     "traceback": [
      "\u001b[1;31m---------------------------------------------------------------------------\u001b[0m",
      "\u001b[1;31mAttributeError\u001b[0m                            Traceback (most recent call last)",
      "Cell \u001b[1;32mIn[115], line 1\u001b[0m\n\u001b[1;32m----> 1\u001b[0m countries_ref_df\u001b[39m.\u001b[39;49mmap_rows(\u001b[39mlambda\u001b[39;49;00m x: (x[\u001b[39m0\u001b[39;49m]\u001b[39m+\u001b[39;49mx[\u001b[39m0\u001b[39;49m])\u001b[39m.\u001b[39;49malias(\u001b[39m'\u001b[39;49m\u001b[39mnew_country\u001b[39;49m\u001b[39m'\u001b[39;49m))\n",
      "File \u001b[1;32mc:\\Users\\27722\\AppData\\Local\\Programs\\Python\\Python312\\Lib\\site-packages\\polars\\dataframe\\frame.py:6981\u001b[0m, in \u001b[0;36mDataFrame.map_rows\u001b[1;34m(self, function, return_dtype, inference_size)\u001b[0m\n\u001b[0;32m   6892\u001b[0m \u001b[39m\u001b[39m\u001b[39m\"\"\"\u001b[39;00m\n\u001b[0;32m   6893\u001b[0m \u001b[39mApply a custom/user-defined function (UDF) over the rows of the DataFrame.\u001b[39;00m\n\u001b[0;32m   6894\u001b[0m \n\u001b[1;32m   (...)\u001b[0m\n\u001b[0;32m   6975\u001b[0m \u001b[39m>>> df.select(pl.col(\"foo\") * 2 + pl.col(\"bar\"))  # doctest: +IGNORE_RESULT\u001b[39;00m\n\u001b[0;32m   6976\u001b[0m \u001b[39m\"\"\"\u001b[39;00m\n\u001b[0;32m   6977\u001b[0m \u001b[39m# TODO: Enable warning for inefficient map\u001b[39;00m\n\u001b[0;32m   6978\u001b[0m \u001b[39m# from polars._utils.udfs import warn_on_inefficient_map\u001b[39;00m\n\u001b[0;32m   6979\u001b[0m \u001b[39m# warn_on_inefficient_map(function, columns=self.columns, map_target=\"frame)\u001b[39;00m\n\u001b[1;32m-> 6981\u001b[0m out, is_df \u001b[39m=\u001b[39m \u001b[39mself\u001b[39;49m\u001b[39m.\u001b[39;49m_df\u001b[39m.\u001b[39;49mmap_rows(function, return_dtype, inference_size)\n\u001b[0;32m   6982\u001b[0m \u001b[39mif\u001b[39;00m is_df:\n\u001b[0;32m   6983\u001b[0m     \u001b[39mreturn\u001b[39;00m \u001b[39mself\u001b[39m\u001b[39m.\u001b[39m_from_pydf(out)\n",
      "Cell \u001b[1;32mIn[115], line 1\u001b[0m, in \u001b[0;36m<lambda>\u001b[1;34m(x)\u001b[0m\n\u001b[1;32m----> 1\u001b[0m countries_ref_df\u001b[39m.\u001b[39mmap_rows(\u001b[39mlambda\u001b[39;00m x: (x[\u001b[39m0\u001b[39;49m]\u001b[39m+\u001b[39;49mx[\u001b[39m0\u001b[39;49m])\u001b[39m.\u001b[39;49malias(\u001b[39m'\u001b[39m\u001b[39mnew_country\u001b[39m\u001b[39m'\u001b[39m))\n",
      "\u001b[1;31mAttributeError\u001b[0m: 'str' object has no attribute 'alias'"
     ]
    }
   ],
   "source": [
    "countries_ref_df.map_rows(lambda x: (x[0]+x[0]).alias('new_country'))"
   ]
  },
  {
   "cell_type": "code",
   "execution_count": 116,
   "metadata": {},
   "outputs": [
    {
     "ename": "AttributeError",
     "evalue": "'DataFrame' object has no attribute 'alias'",
     "output_type": "error",
     "traceback": [
      "\u001b[1;31m---------------------------------------------------------------------------\u001b[0m",
      "\u001b[1;31mAttributeError\u001b[0m                            Traceback (most recent call last)",
      "Cell \u001b[1;32mIn[116], line 1\u001b[0m\n\u001b[1;32m----> 1\u001b[0m countries_ref_df\u001b[39m.\u001b[39;49mmap_rows(\u001b[39mlambda\u001b[39;49;00m x: (x[\u001b[39m0\u001b[39;49m]\u001b[39m+\u001b[39;49mx[\u001b[39m0\u001b[39;49m]))\u001b[39m.\u001b[39;49malias(\u001b[39m'\u001b[39m\u001b[39mnew_country\u001b[39m\u001b[39m'\u001b[39m)\n",
      "\u001b[1;31mAttributeError\u001b[0m: 'DataFrame' object has no attribute 'alias'"
     ]
    }
   ],
   "source": [
    "countries_ref_df.map_rows(lambda x: (x[0]+x[0])).alias('new_country')"
   ]
  },
  {
   "cell_type": "code",
   "execution_count": 117,
   "metadata": {},
   "outputs": [
    {
     "data": {
      "text/html": [
       "<div><style>\n",
       ".dataframe > thead > tr,\n",
       ".dataframe > tbody > tr {\n",
       "  text-align: right;\n",
       "  white-space: pre-wrap;\n",
       "}\n",
       "</style>\n",
       "<small>shape: (262, 2)</small><table border=\"1\" class=\"dataframe\"><thead><tr><th>column_0</th><th>column_1</th></tr><tr><td>str</td><td>i64</td></tr></thead><tbody><tr><td>&quot;Ivory Coast&quot;</td><td>100</td></tr><tr><td>&quot;Ivory Coast&quot;</td><td>100</td></tr><tr><td>&quot;United Arab Emirates&quot;</td><td>100</td></tr><tr><td>&quot;Nigeria&quot;</td><td>100</td></tr><tr><td>&quot;Ghana&quot;</td><td>100</td></tr><tr><td>&hellip;</td><td>&hellip;</td></tr><tr><td>&quot;Namibia&quot;</td><td>100</td></tr><tr><td>&quot;Cameroon&quot;</td><td>100</td></tr><tr><td>&quot;Nauru&quot;</td><td>100</td></tr><tr><td>&quot;Armenia&quot;</td><td>100</td></tr><tr><td>&quot;Croatia&quot;</td><td>100</td></tr></tbody></table></div>"
      ],
      "text/plain": [
       "shape: (262, 2)\n",
       "┌──────────────────────┬──────────┐\n",
       "│ column_0             ┆ column_1 │\n",
       "│ ---                  ┆ ---      │\n",
       "│ str                  ┆ i64      │\n",
       "╞══════════════════════╪══════════╡\n",
       "│ Ivory Coast          ┆ 100      │\n",
       "│ Ivory Coast          ┆ 100      │\n",
       "│ United Arab Emirates ┆ 100      │\n",
       "│ Nigeria              ┆ 100      │\n",
       "│ Ghana                ┆ 100      │\n",
       "│ …                    ┆ …        │\n",
       "│ Namibia              ┆ 100      │\n",
       "│ Cameroon             ┆ 100      │\n",
       "│ Nauru                ┆ 100      │\n",
       "│ Armenia              ┆ 100      │\n",
       "│ Croatia              ┆ 100      │\n",
       "└──────────────────────┴──────────┘"
      ]
     },
     "execution_count": 117,
     "metadata": {},
     "output_type": "execute_result"
    }
   ],
   "source": [
    "countries_ref_df.map_rows(lambda x: process.extractOne(x[0],flags_df['country'],scorer=fuzz.token_set_ratio))"
   ]
  },
  {
   "cell_type": "code",
   "execution_count": 118,
   "metadata": {},
   "outputs": [
    {
     "ename": "TypeError",
     "evalue": "'<' not supported between instances of 'str' and 'int'",
     "output_type": "error",
     "traceback": [
      "\u001b[1;31m---------------------------------------------------------------------------\u001b[0m",
      "\u001b[1;31mTypeError\u001b[0m                                 Traceback (most recent call last)",
      "Cell \u001b[1;32mIn[118], line 1\u001b[0m\n\u001b[1;32m----> 1\u001b[0m countries_ref_df\u001b[39m.\u001b[39mmap_rows(\u001b[39mlambda\u001b[39;00m x: process\u001b[39m.\u001b[39mextractOne(x[\u001b[39m0\u001b[39m],flags_df[\u001b[39m'\u001b[39m\u001b[39mcountry\u001b[39m\u001b[39m'\u001b[39m],scorer\u001b[39m=\u001b[39mfuzz\u001b[39m.\u001b[39mtoken_set_ratio))\u001b[39m.\u001b[39mfilter(\u001b[39m'\u001b[39;49m\u001b[39mcolumn_1\u001b[39;49m\u001b[39m'\u001b[39;49m \u001b[39m<\u001b[39;49m \u001b[39m100\u001b[39;49m)\n",
      "\u001b[1;31mTypeError\u001b[0m: '<' not supported between instances of 'str' and 'int'"
     ]
    }
   ],
   "source": [
    "countries_ref_df.map_rows(lambda x: process.extractOne(x[0],flags_df['country'],scorer=fuzz.token_set_ratio)).filter('column_1' < 100)"
   ]
  },
  {
   "cell_type": "code",
   "execution_count": 119,
   "metadata": {},
   "outputs": [
    {
     "data": {
      "text/html": [
       "<div><style>\n",
       ".dataframe > thead > tr,\n",
       ".dataframe > tbody > tr {\n",
       "  text-align: right;\n",
       "  white-space: pre-wrap;\n",
       "}\n",
       "</style>\n",
       "<small>shape: (45, 2)</small><table border=\"1\" class=\"dataframe\"><thead><tr><th>column_0</th><th>column_1</th></tr><tr><td>str</td><td>i64</td></tr></thead><tbody><tr><td>&quot;Solomon Islands&quot;</td><td>64</td></tr><tr><td>&quot;Bosnia and Herzegovina&quot;</td><td>56</td></tr><tr><td>&quot;Solomon Islands&quot;</td><td>74</td></tr><tr><td>&quot;Sierra Leone&quot;</td><td>64</td></tr><tr><td>&quot;Sierra Leone&quot;</td><td>64</td></tr><tr><td>&hellip;</td><td>&hellip;</td></tr><tr><td>&quot;Marshall Islands&quot;</td><td>69</td></tr><tr><td>&quot;Marshall Islands&quot;</td><td>70</td></tr><tr><td>&quot;Angola&quot;</td><td>71</td></tr><tr><td>&quot;Comoros&quot;</td><td>67</td></tr><tr><td>&quot;Croatia&quot;</td><td>62</td></tr></tbody></table></div>"
      ],
      "text/plain": [
       "shape: (45, 2)\n",
       "┌────────────────────────┬──────────┐\n",
       "│ column_0               ┆ column_1 │\n",
       "│ ---                    ┆ ---      │\n",
       "│ str                    ┆ i64      │\n",
       "╞════════════════════════╪══════════╡\n",
       "│ Solomon Islands        ┆ 64       │\n",
       "│ Bosnia and Herzegovina ┆ 56       │\n",
       "│ Solomon Islands        ┆ 74       │\n",
       "│ Sierra Leone           ┆ 64       │\n",
       "│ Sierra Leone           ┆ 64       │\n",
       "│ …                      ┆ …        │\n",
       "│ Marshall Islands       ┆ 69       │\n",
       "│ Marshall Islands       ┆ 70       │\n",
       "│ Angola                 ┆ 71       │\n",
       "│ Comoros                ┆ 67       │\n",
       "│ Croatia                ┆ 62       │\n",
       "└────────────────────────┴──────────┘"
      ]
     },
     "execution_count": 119,
     "metadata": {},
     "output_type": "execute_result"
    }
   ],
   "source": [
    "countries_ref_df.map_rows(lambda x: process.extractOne(x[0],flags_df['country'],scorer=fuzz.token_set_ratio)).filter(pl.col('column_1') < 100)"
   ]
  },
  {
   "cell_type": "code",
   "execution_count": 120,
   "metadata": {},
   "outputs": [
    {
     "data": {
      "text/html": [
       "<div><style>\n",
       ".dataframe > thead > tr,\n",
       ".dataframe > tbody > tr {\n",
       "  text-align: right;\n",
       "  white-space: pre-wrap;\n",
       "}\n",
       "</style>\n",
       "<small>shape: (262, 2)</small><table border=\"1\" class=\"dataframe\"><thead><tr><th>column_0</th><th>column_1</th></tr><tr><td>str</td><td>i64</td></tr></thead><tbody><tr><td>&quot;Ivory Coast&quot;</td><td>100</td></tr><tr><td>&quot;Ivory Coast&quot;</td><td>100</td></tr><tr><td>&quot;United Arab Emirates&quot;</td><td>100</td></tr><tr><td>&quot;Nigeria&quot;</td><td>100</td></tr><tr><td>&quot;Ghana&quot;</td><td>100</td></tr><tr><td>&hellip;</td><td>&hellip;</td></tr><tr><td>&quot;Namibia&quot;</td><td>100</td></tr><tr><td>&quot;Cameroon&quot;</td><td>100</td></tr><tr><td>&quot;Nauru&quot;</td><td>100</td></tr><tr><td>&quot;Armenia&quot;</td><td>100</td></tr><tr><td>&quot;Croatia&quot;</td><td>100</td></tr></tbody></table></div>"
      ],
      "text/plain": [
       "shape: (262, 2)\n",
       "┌──────────────────────┬──────────┐\n",
       "│ column_0             ┆ column_1 │\n",
       "│ ---                  ┆ ---      │\n",
       "│ str                  ┆ i64      │\n",
       "╞══════════════════════╪══════════╡\n",
       "│ Ivory Coast          ┆ 100      │\n",
       "│ Ivory Coast          ┆ 100      │\n",
       "│ United Arab Emirates ┆ 100      │\n",
       "│ Nigeria              ┆ 100      │\n",
       "│ Ghana                ┆ 100      │\n",
       "│ …                    ┆ …        │\n",
       "│ Namibia              ┆ 100      │\n",
       "│ Cameroon             ┆ 100      │\n",
       "│ Nauru                ┆ 100      │\n",
       "│ Armenia              ┆ 100      │\n",
       "│ Croatia              ┆ 100      │\n",
       "└──────────────────────┴──────────┘"
      ]
     },
     "execution_count": 120,
     "metadata": {},
     "output_type": "execute_result"
    }
   ],
   "source": [
    "countries_ref_df.map_rows(lambda x: process.extractOne(x[0],flags_df['country'],scorer=fuzz.token_set_ratio))"
   ]
  },
  {
   "cell_type": "code",
   "execution_count": 121,
   "metadata": {},
   "outputs": [
    {
     "ename": "AttributeError",
     "evalue": "'function' object has no attribute 'alias'",
     "output_type": "error",
     "traceback": [
      "\u001b[1;31m---------------------------------------------------------------------------\u001b[0m",
      "\u001b[1;31mAttributeError\u001b[0m                            Traceback (most recent call last)",
      "Cell \u001b[1;32mIn[121], line 1\u001b[0m\n\u001b[1;32m----> 1\u001b[0m countries_ref_df\u001b[39m.\u001b[39mmap_rows((\u001b[39mlambda\u001b[39;49;00m x: process\u001b[39m.\u001b[39;49mextractOne(x[\u001b[39m0\u001b[39;49m],flags_df[\u001b[39m'\u001b[39;49m\u001b[39mcountry\u001b[39;49m\u001b[39m'\u001b[39;49m],scorer\u001b[39m=\u001b[39;49mfuzz\u001b[39m.\u001b[39;49mtoken_set_ratio))\u001b[39m.\u001b[39;49malias([\u001b[39m'\u001b[39m\u001b[39mfuzzy_country\u001b[39m\u001b[39m'\u001b[39m,\u001b[39m'\u001b[39m\u001b[39mscore\u001b[39m\u001b[39m'\u001b[39m]))\n",
      "\u001b[1;31mAttributeError\u001b[0m: 'function' object has no attribute 'alias'"
     ]
    }
   ],
   "source": [
    "countries_ref_df.map_rows((lambda x: process.extractOne(x[0],flags_df['country'],scorer=fuzz.token_set_ratio)).alias(['fuzzy_country','score']))"
   ]
  },
  {
   "cell_type": "code",
   "execution_count": 122,
   "metadata": {},
   "outputs": [
    {
     "ename": "SyntaxError",
     "evalue": "incomplete input (<ipython-input-122-8d8827807171>, line 1)",
     "output_type": "error",
     "traceback": [
      "\u001b[1;36m  Cell \u001b[1;32mIn[122], line 1\u001b[1;36m\u001b[0m\n\u001b[1;33m    countries_ref_df.map_rows(lambda x: process.extractOne(x[0],flags_df['country'],scorer=fuzz.token_set_ratio).with_columns(pl.col('column_0').alias('fuzzy_country'))\u001b[0m\n\u001b[1;37m                                                                                                                                                                        ^\u001b[0m\n\u001b[1;31mSyntaxError\u001b[0m\u001b[1;31m:\u001b[0m incomplete input\n"
     ]
    }
   ],
   "source": [
    "countries_ref_df.map_rows(lambda x: process.extractOne(x[0],flags_df['country'],scorer=fuzz.token_set_ratio).with_columns(pl.col('column_0').alias('fuzzy_country'))"
   ]
  },
  {
   "cell_type": "code",
   "execution_count": 123,
   "metadata": {},
   "outputs": [
    {
     "ename": "AttributeError",
     "evalue": "'tuple' object has no attribute 'with_columns'",
     "output_type": "error",
     "traceback": [
      "\u001b[1;31m---------------------------------------------------------------------------\u001b[0m",
      "\u001b[1;31mAttributeError\u001b[0m                            Traceback (most recent call last)",
      "Cell \u001b[1;32mIn[123], line 1\u001b[0m\n\u001b[1;32m----> 1\u001b[0m countries_ref_df\u001b[39m.\u001b[39;49mmap_rows(\u001b[39mlambda\u001b[39;49;00m x: process\u001b[39m.\u001b[39;49mextractOne(x[\u001b[39m0\u001b[39;49m],flags_df[\u001b[39m'\u001b[39;49m\u001b[39mcountry\u001b[39;49m\u001b[39m'\u001b[39;49m],scorer\u001b[39m=\u001b[39;49mfuzz\u001b[39m.\u001b[39;49mtoken_set_ratio)\u001b[39m.\u001b[39;49mwith_columns(pl\u001b[39m.\u001b[39;49mcol(\u001b[39m'\u001b[39;49m\u001b[39mcolumn_0\u001b[39;49m\u001b[39m'\u001b[39;49m)\u001b[39m.\u001b[39;49malias(\u001b[39m'\u001b[39;49m\u001b[39mfuzzy_country\u001b[39;49m\u001b[39m'\u001b[39;49m)))\n",
      "File \u001b[1;32mc:\\Users\\27722\\AppData\\Local\\Programs\\Python\\Python312\\Lib\\site-packages\\polars\\dataframe\\frame.py:6981\u001b[0m, in \u001b[0;36mDataFrame.map_rows\u001b[1;34m(self, function, return_dtype, inference_size)\u001b[0m\n\u001b[0;32m   6892\u001b[0m \u001b[39m\u001b[39m\u001b[39m\"\"\"\u001b[39;00m\n\u001b[0;32m   6893\u001b[0m \u001b[39mApply a custom/user-defined function (UDF) over the rows of the DataFrame.\u001b[39;00m\n\u001b[0;32m   6894\u001b[0m \n\u001b[1;32m   (...)\u001b[0m\n\u001b[0;32m   6975\u001b[0m \u001b[39m>>> df.select(pl.col(\"foo\") * 2 + pl.col(\"bar\"))  # doctest: +IGNORE_RESULT\u001b[39;00m\n\u001b[0;32m   6976\u001b[0m \u001b[39m\"\"\"\u001b[39;00m\n\u001b[0;32m   6977\u001b[0m \u001b[39m# TODO: Enable warning for inefficient map\u001b[39;00m\n\u001b[0;32m   6978\u001b[0m \u001b[39m# from polars._utils.udfs import warn_on_inefficient_map\u001b[39;00m\n\u001b[0;32m   6979\u001b[0m \u001b[39m# warn_on_inefficient_map(function, columns=self.columns, map_target=\"frame)\u001b[39;00m\n\u001b[1;32m-> 6981\u001b[0m out, is_df \u001b[39m=\u001b[39m \u001b[39mself\u001b[39;49m\u001b[39m.\u001b[39;49m_df\u001b[39m.\u001b[39;49mmap_rows(function, return_dtype, inference_size)\n\u001b[0;32m   6982\u001b[0m \u001b[39mif\u001b[39;00m is_df:\n\u001b[0;32m   6983\u001b[0m     \u001b[39mreturn\u001b[39;00m \u001b[39mself\u001b[39m\u001b[39m.\u001b[39m_from_pydf(out)\n",
      "Cell \u001b[1;32mIn[123], line 1\u001b[0m, in \u001b[0;36m<lambda>\u001b[1;34m(x)\u001b[0m\n\u001b[1;32m----> 1\u001b[0m countries_ref_df\u001b[39m.\u001b[39mmap_rows(\u001b[39mlambda\u001b[39;00m x: process\u001b[39m.\u001b[39;49mextractOne(x[\u001b[39m0\u001b[39;49m],flags_df[\u001b[39m'\u001b[39;49m\u001b[39mcountry\u001b[39;49m\u001b[39m'\u001b[39;49m],scorer\u001b[39m=\u001b[39;49mfuzz\u001b[39m.\u001b[39;49mtoken_set_ratio)\u001b[39m.\u001b[39;49mwith_columns(pl\u001b[39m.\u001b[39mcol(\u001b[39m'\u001b[39m\u001b[39mcolumn_0\u001b[39m\u001b[39m'\u001b[39m)\u001b[39m.\u001b[39malias(\u001b[39m'\u001b[39m\u001b[39mfuzzy_country\u001b[39m\u001b[39m'\u001b[39m)))\n",
      "\u001b[1;31mAttributeError\u001b[0m: 'tuple' object has no attribute 'with_columns'"
     ]
    }
   ],
   "source": [
    "countries_ref_df.map_rows(lambda x: process.extractOne(x[0],flags_df['country'],scorer=fuzz.token_set_ratio).with_columns(pl.col('column_0').alias('fuzzy_country')))"
   ]
  },
  {
   "cell_type": "code",
   "execution_count": 124,
   "metadata": {},
   "outputs": [
    {
     "ename": "SyntaxError",
     "evalue": "incomplete input (<ipython-input-124-8669a0603ec9>, line 1)",
     "output_type": "error",
     "traceback": [
      "\u001b[1;36m  Cell \u001b[1;32mIn[124], line 1\u001b[1;36m\u001b[0m\n\u001b[1;33m    countries_ref_df.map_rows(lambda x: process.extractOne(x[0],flags_df['country'],scorer=fuzz.token_set_ratio).select(pl.col('column_0'))\u001b[0m\n\u001b[1;37m                                                                                                                                           ^\u001b[0m\n\u001b[1;31mSyntaxError\u001b[0m\u001b[1;31m:\u001b[0m incomplete input\n"
     ]
    }
   ],
   "source": [
    "countries_ref_df.map_rows(lambda x: process.extractOne(x[0],flags_df['country'],scorer=fuzz.token_set_ratio).select(pl.col('column_0'))"
   ]
  },
  {
   "cell_type": "code",
   "execution_count": 125,
   "metadata": {},
   "outputs": [
    {
     "ename": "AttributeError",
     "evalue": "'tuple' object has no attribute 'select'",
     "output_type": "error",
     "traceback": [
      "\u001b[1;31m---------------------------------------------------------------------------\u001b[0m",
      "\u001b[1;31mAttributeError\u001b[0m                            Traceback (most recent call last)",
      "Cell \u001b[1;32mIn[125], line 1\u001b[0m\n\u001b[1;32m----> 1\u001b[0m countries_ref_df\u001b[39m.\u001b[39;49mmap_rows(\u001b[39mlambda\u001b[39;49;00m x: process\u001b[39m.\u001b[39;49mextractOne(x[\u001b[39m0\u001b[39;49m],flags_df[\u001b[39m'\u001b[39;49m\u001b[39mcountry\u001b[39;49m\u001b[39m'\u001b[39;49m],scorer\u001b[39m=\u001b[39;49mfuzz\u001b[39m.\u001b[39;49mtoken_set_ratio)\u001b[39m.\u001b[39;49mselect(pl\u001b[39m.\u001b[39;49mcol(\u001b[39m'\u001b[39;49m\u001b[39mcolumn_0\u001b[39;49m\u001b[39m'\u001b[39;49m)))\n",
      "File \u001b[1;32mc:\\Users\\27722\\AppData\\Local\\Programs\\Python\\Python312\\Lib\\site-packages\\polars\\dataframe\\frame.py:6981\u001b[0m, in \u001b[0;36mDataFrame.map_rows\u001b[1;34m(self, function, return_dtype, inference_size)\u001b[0m\n\u001b[0;32m   6892\u001b[0m \u001b[39m\u001b[39m\u001b[39m\"\"\"\u001b[39;00m\n\u001b[0;32m   6893\u001b[0m \u001b[39mApply a custom/user-defined function (UDF) over the rows of the DataFrame.\u001b[39;00m\n\u001b[0;32m   6894\u001b[0m \n\u001b[1;32m   (...)\u001b[0m\n\u001b[0;32m   6975\u001b[0m \u001b[39m>>> df.select(pl.col(\"foo\") * 2 + pl.col(\"bar\"))  # doctest: +IGNORE_RESULT\u001b[39;00m\n\u001b[0;32m   6976\u001b[0m \u001b[39m\"\"\"\u001b[39;00m\n\u001b[0;32m   6977\u001b[0m \u001b[39m# TODO: Enable warning for inefficient map\u001b[39;00m\n\u001b[0;32m   6978\u001b[0m \u001b[39m# from polars._utils.udfs import warn_on_inefficient_map\u001b[39;00m\n\u001b[0;32m   6979\u001b[0m \u001b[39m# warn_on_inefficient_map(function, columns=self.columns, map_target=\"frame)\u001b[39;00m\n\u001b[1;32m-> 6981\u001b[0m out, is_df \u001b[39m=\u001b[39m \u001b[39mself\u001b[39;49m\u001b[39m.\u001b[39;49m_df\u001b[39m.\u001b[39;49mmap_rows(function, return_dtype, inference_size)\n\u001b[0;32m   6982\u001b[0m \u001b[39mif\u001b[39;00m is_df:\n\u001b[0;32m   6983\u001b[0m     \u001b[39mreturn\u001b[39;00m \u001b[39mself\u001b[39m\u001b[39m.\u001b[39m_from_pydf(out)\n",
      "Cell \u001b[1;32mIn[125], line 1\u001b[0m, in \u001b[0;36m<lambda>\u001b[1;34m(x)\u001b[0m\n\u001b[1;32m----> 1\u001b[0m countries_ref_df\u001b[39m.\u001b[39mmap_rows(\u001b[39mlambda\u001b[39;00m x: process\u001b[39m.\u001b[39;49mextractOne(x[\u001b[39m0\u001b[39;49m],flags_df[\u001b[39m'\u001b[39;49m\u001b[39mcountry\u001b[39;49m\u001b[39m'\u001b[39;49m],scorer\u001b[39m=\u001b[39;49mfuzz\u001b[39m.\u001b[39;49mtoken_set_ratio)\u001b[39m.\u001b[39;49mselect(pl\u001b[39m.\u001b[39mcol(\u001b[39m'\u001b[39m\u001b[39mcolumn_0\u001b[39m\u001b[39m'\u001b[39m)))\n",
      "\u001b[1;31mAttributeError\u001b[0m: 'tuple' object has no attribute 'select'"
     ]
    }
   ],
   "source": [
    "countries_ref_df.map_rows(lambda x: process.extractOne(x[0],flags_df['country'],scorer=fuzz.token_set_ratio).select(pl.col('column_0')))"
   ]
  },
  {
   "cell_type": "code",
   "execution_count": 126,
   "metadata": {},
   "outputs": [
    {
     "data": {
      "text/html": [
       "<div><style>\n",
       ".dataframe > thead > tr,\n",
       ".dataframe > tbody > tr {\n",
       "  text-align: right;\n",
       "  white-space: pre-wrap;\n",
       "}\n",
       "</style>\n",
       "<small>shape: (262, 1)</small><table border=\"1\" class=\"dataframe\"><thead><tr><th>column_0</th></tr><tr><td>str</td></tr></thead><tbody><tr><td>&quot;Ivory Coast&quot;</td></tr><tr><td>&quot;Ivory Coast&quot;</td></tr><tr><td>&quot;United Arab Emirates&quot;</td></tr><tr><td>&quot;Nigeria&quot;</td></tr><tr><td>&quot;Ghana&quot;</td></tr><tr><td>&hellip;</td></tr><tr><td>&quot;Namibia&quot;</td></tr><tr><td>&quot;Cameroon&quot;</td></tr><tr><td>&quot;Nauru&quot;</td></tr><tr><td>&quot;Armenia&quot;</td></tr><tr><td>&quot;Croatia&quot;</td></tr></tbody></table></div>"
      ],
      "text/plain": [
       "shape: (262, 1)\n",
       "┌──────────────────────┐\n",
       "│ column_0             │\n",
       "│ ---                  │\n",
       "│ str                  │\n",
       "╞══════════════════════╡\n",
       "│ Ivory Coast          │\n",
       "│ Ivory Coast          │\n",
       "│ United Arab Emirates │\n",
       "│ Nigeria              │\n",
       "│ Ghana                │\n",
       "│ …                    │\n",
       "│ Namibia              │\n",
       "│ Cameroon             │\n",
       "│ Nauru                │\n",
       "│ Armenia              │\n",
       "│ Croatia              │\n",
       "└──────────────────────┘"
      ]
     },
     "execution_count": 126,
     "metadata": {},
     "output_type": "execute_result"
    }
   ],
   "source": [
    "countries_ref_df.map_rows(lambda x: process.extractOne(x[0],flags_df['country'],scorer=fuzz.token_set_ratio)).select(pl.col('column_0'))"
   ]
  },
  {
   "cell_type": "code",
   "execution_count": 127,
   "metadata": {},
   "outputs": [
    {
     "data": {
      "text/html": [
       "<div><style>\n",
       ".dataframe > thead > tr,\n",
       ".dataframe > tbody > tr {\n",
       "  text-align: right;\n",
       "  white-space: pre-wrap;\n",
       "}\n",
       "</style>\n",
       "<small>shape: (262, 3)</small><table border=\"1\" class=\"dataframe\"><thead><tr><th>column_0</th><th>column_1</th><th>fuzzy_country</th></tr><tr><td>str</td><td>i64</td><td>str</td></tr></thead><tbody><tr><td>&quot;Ivory Coast&quot;</td><td>100</td><td>&quot;Ivory Coast&quot;</td></tr><tr><td>&quot;Ivory Coast&quot;</td><td>100</td><td>&quot;Ivory Coast&quot;</td></tr><tr><td>&quot;United Arab Emirates&quot;</td><td>100</td><td>&quot;United Arab Emirates&quot;</td></tr><tr><td>&quot;Nigeria&quot;</td><td>100</td><td>&quot;Nigeria&quot;</td></tr><tr><td>&quot;Ghana&quot;</td><td>100</td><td>&quot;Ghana&quot;</td></tr><tr><td>&hellip;</td><td>&hellip;</td><td>&hellip;</td></tr><tr><td>&quot;Namibia&quot;</td><td>100</td><td>&quot;Namibia&quot;</td></tr><tr><td>&quot;Cameroon&quot;</td><td>100</td><td>&quot;Cameroon&quot;</td></tr><tr><td>&quot;Nauru&quot;</td><td>100</td><td>&quot;Nauru&quot;</td></tr><tr><td>&quot;Armenia&quot;</td><td>100</td><td>&quot;Armenia&quot;</td></tr><tr><td>&quot;Croatia&quot;</td><td>100</td><td>&quot;Croatia&quot;</td></tr></tbody></table></div>"
      ],
      "text/plain": [
       "shape: (262, 3)\n",
       "┌──────────────────────┬──────────┬──────────────────────┐\n",
       "│ column_0             ┆ column_1 ┆ fuzzy_country        │\n",
       "│ ---                  ┆ ---      ┆ ---                  │\n",
       "│ str                  ┆ i64      ┆ str                  │\n",
       "╞══════════════════════╪══════════╪══════════════════════╡\n",
       "│ Ivory Coast          ┆ 100      ┆ Ivory Coast          │\n",
       "│ Ivory Coast          ┆ 100      ┆ Ivory Coast          │\n",
       "│ United Arab Emirates ┆ 100      ┆ United Arab Emirates │\n",
       "│ Nigeria              ┆ 100      ┆ Nigeria              │\n",
       "│ Ghana                ┆ 100      ┆ Ghana                │\n",
       "│ …                    ┆ …        ┆ …                    │\n",
       "│ Namibia              ┆ 100      ┆ Namibia              │\n",
       "│ Cameroon             ┆ 100      ┆ Cameroon             │\n",
       "│ Nauru                ┆ 100      ┆ Nauru                │\n",
       "│ Armenia              ┆ 100      ┆ Armenia              │\n",
       "│ Croatia              ┆ 100      ┆ Croatia              │\n",
       "└──────────────────────┴──────────┴──────────────────────┘"
      ]
     },
     "execution_count": 127,
     "metadata": {},
     "output_type": "execute_result"
    }
   ],
   "source": [
    "countries_ref_df.map_rows(lambda x: process.extractOne(x[0],flags_df['country'],scorer=fuzz.token_set_ratio)).with_columns(pl.col('column_0').alias('fuzzy_country'))"
   ]
  },
  {
   "cell_type": "code",
   "execution_count": 128,
   "metadata": {},
   "outputs": [
    {
     "ename": "TypeError",
     "evalue": "DataFrame.rename() takes 2 positional arguments but 3 were given",
     "output_type": "error",
     "traceback": [
      "\u001b[1;31m---------------------------------------------------------------------------\u001b[0m",
      "\u001b[1;31mTypeError\u001b[0m                                 Traceback (most recent call last)",
      "Cell \u001b[1;32mIn[128], line 1\u001b[0m\n\u001b[1;32m----> 1\u001b[0m countries_ref_df\u001b[39m.\u001b[39;49mmap_rows(\u001b[39mlambda\u001b[39;49;00m x: process\u001b[39m.\u001b[39;49mextractOne(x[\u001b[39m0\u001b[39;49m],flags_df[\u001b[39m'\u001b[39;49m\u001b[39mcountry\u001b[39;49m\u001b[39m'\u001b[39;49m],scorer\u001b[39m=\u001b[39;49mfuzz\u001b[39m.\u001b[39;49mtoken_set_ratio))\u001b[39m.\u001b[39;49mrename(pl\u001b[39m.\u001b[39;49mcol(\u001b[39m'\u001b[39;49m\u001b[39mcolumn_0\u001b[39;49m\u001b[39m'\u001b[39;49m),\u001b[39m'\u001b[39;49m\u001b[39mfuzzy_country\u001b[39;49m\u001b[39m'\u001b[39;49m)\n",
      "\u001b[1;31mTypeError\u001b[0m: DataFrame.rename() takes 2 positional arguments but 3 were given"
     ]
    }
   ],
   "source": [
    "countries_ref_df.map_rows(lambda x: process.extractOne(x[0],flags_df['country'],scorer=fuzz.token_set_ratio)).rename(pl.col('column_0'),'fuzzy_country')"
   ]
  },
  {
   "cell_type": "code",
   "execution_count": 129,
   "metadata": {},
   "outputs": [
    {
     "ename": "SyntaxError",
     "evalue": "invalid syntax. Perhaps you forgot a comma? (<ipython-input-129-880e81125015>, line 1)",
     "output_type": "error",
     "traceback": [
      "\u001b[1;36m  Cell \u001b[1;32mIn[129], line 1\u001b[1;36m\u001b[0m\n\u001b[1;33m    countries_ref_df.map_rows(lambda x: process.extractOne(x[0],flags_df['country'],scorer=fuzz.token_set_ratio)).rename(pl.col'column_0','fuzzy_country')\u001b[0m\n\u001b[1;37m                                                                                                                         ^\u001b[0m\n\u001b[1;31mSyntaxError\u001b[0m\u001b[1;31m:\u001b[0m invalid syntax. Perhaps you forgot a comma?\n"
     ]
    }
   ],
   "source": [
    "countries_ref_df.map_rows(lambda x: process.extractOne(x[0],flags_df['country'],scorer=fuzz.token_set_ratio)).rename(pl.col'column_0','fuzzy_country')"
   ]
  },
  {
   "cell_type": "code",
   "execution_count": 130,
   "metadata": {},
   "outputs": [
    {
     "ename": "SyntaxError",
     "evalue": "unmatched ')' (<ipython-input-130-26ac4ae5b885>, line 1)",
     "output_type": "error",
     "traceback": [
      "\u001b[1;36m  Cell \u001b[1;32mIn[130], line 1\u001b[1;36m\u001b[0m\n\u001b[1;33m    countries_ref_df.map_rows(lambda x: process.extractOne(x[0],flags_df['country'],scorer=fuzz.token_set_ratio)).rename(pl.col()'column_0'),'fuzzy_country')\u001b[0m\n\u001b[1;37m                                                                                                                                                            ^\u001b[0m\n\u001b[1;31mSyntaxError\u001b[0m\u001b[1;31m:\u001b[0m unmatched ')'\n"
     ]
    }
   ],
   "source": [
    "countries_ref_df.map_rows(lambda x: process.extractOne(x[0],flags_df['country'],scorer=fuzz.token_set_ratio)).rename(pl.col()'column_0'),'fuzzy_country')"
   ]
  },
  {
   "cell_type": "code",
   "execution_count": 131,
   "metadata": {},
   "outputs": [
    {
     "ename": "TypeError",
     "evalue": "DataFrame.rename() takes 2 positional arguments but 3 were given",
     "output_type": "error",
     "traceback": [
      "\u001b[1;31m---------------------------------------------------------------------------\u001b[0m",
      "\u001b[1;31mTypeError\u001b[0m                                 Traceback (most recent call last)",
      "Cell \u001b[1;32mIn[131], line 1\u001b[0m\n\u001b[1;32m----> 1\u001b[0m countries_ref_df\u001b[39m.\u001b[39;49mmap_rows(\u001b[39mlambda\u001b[39;49;00m x: process\u001b[39m.\u001b[39;49mextractOne(x[\u001b[39m0\u001b[39;49m],flags_df[\u001b[39m'\u001b[39;49m\u001b[39mcountry\u001b[39;49m\u001b[39m'\u001b[39;49m],scorer\u001b[39m=\u001b[39;49mfuzz\u001b[39m.\u001b[39;49mtoken_set_ratio))\u001b[39m.\u001b[39;49mrename(pl\u001b[39m.\u001b[39;49mcol(\u001b[39m'\u001b[39;49m\u001b[39mcolumn_0\u001b[39;49m\u001b[39m'\u001b[39;49m),\u001b[39m'\u001b[39;49m\u001b[39mfuzzy_country\u001b[39;49m\u001b[39m'\u001b[39;49m)\n",
      "\u001b[1;31mTypeError\u001b[0m: DataFrame.rename() takes 2 positional arguments but 3 were given"
     ]
    }
   ],
   "source": [
    "countries_ref_df.map_rows(lambda x: process.extractOne(x[0],flags_df['country'],scorer=fuzz.token_set_ratio)).rename(pl.col('column_0'),'fuzzy_country')"
   ]
  },
  {
   "cell_type": "code",
   "execution_count": 132,
   "metadata": {},
   "outputs": [
    {
     "ename": "AttributeError",
     "evalue": "'Expr' object has no attribute 'rename'",
     "output_type": "error",
     "traceback": [
      "\u001b[1;31m---------------------------------------------------------------------------\u001b[0m",
      "\u001b[1;31mAttributeError\u001b[0m                            Traceback (most recent call last)",
      "Cell \u001b[1;32mIn[132], line 1\u001b[0m\n\u001b[1;32m----> 1\u001b[0m countries_ref_df\u001b[39m.\u001b[39mmap_rows(\u001b[39mlambda\u001b[39;00m x: process\u001b[39m.\u001b[39mextractOne(x[\u001b[39m0\u001b[39m],flags_df[\u001b[39m'\u001b[39m\u001b[39mcountry\u001b[39m\u001b[39m'\u001b[39m],scorer\u001b[39m=\u001b[39mfuzz\u001b[39m.\u001b[39mtoken_set_ratio))\u001b[39m.\u001b[39mselect(pl\u001b[39m.\u001b[39;49mcol(\u001b[39m'\u001b[39;49m\u001b[39mcolumn_0\u001b[39;49m\u001b[39m'\u001b[39;49m)\u001b[39m.\u001b[39;49mrename(\u001b[39m'\u001b[39m\u001b[39mfuzzy_country\u001b[39m\u001b[39m'\u001b[39m))\n",
      "\u001b[1;31mAttributeError\u001b[0m: 'Expr' object has no attribute 'rename'"
     ]
    }
   ],
   "source": [
    "countries_ref_df.map_rows(lambda x: process.extractOne(x[0],flags_df['country'],scorer=fuzz.token_set_ratio)).select(pl.col('column_0').rename('fuzzy_country'))"
   ]
  },
  {
   "cell_type": "code",
   "execution_count": 133,
   "metadata": {},
   "outputs": [
    {
     "data": {
      "text/html": [
       "<div><style>\n",
       ".dataframe > thead > tr,\n",
       ".dataframe > tbody > tr {\n",
       "  text-align: right;\n",
       "  white-space: pre-wrap;\n",
       "}\n",
       "</style>\n",
       "<small>shape: (262, 2)</small><table border=\"1\" class=\"dataframe\"><thead><tr><th>column_0</th><th>column_1</th></tr><tr><td>str</td><td>i64</td></tr></thead><tbody><tr><td>&quot;Ivory Coast&quot;</td><td>100</td></tr><tr><td>&quot;Ivory Coast&quot;</td><td>100</td></tr><tr><td>&quot;United Arab Emirates&quot;</td><td>100</td></tr><tr><td>&quot;Nigeria&quot;</td><td>100</td></tr><tr><td>&quot;Ghana&quot;</td><td>100</td></tr><tr><td>&hellip;</td><td>&hellip;</td></tr><tr><td>&quot;Namibia&quot;</td><td>100</td></tr><tr><td>&quot;Cameroon&quot;</td><td>100</td></tr><tr><td>&quot;Nauru&quot;</td><td>100</td></tr><tr><td>&quot;Armenia&quot;</td><td>100</td></tr><tr><td>&quot;Croatia&quot;</td><td>100</td></tr></tbody></table></div>"
      ],
      "text/plain": [
       "shape: (262, 2)\n",
       "┌──────────────────────┬──────────┐\n",
       "│ column_0             ┆ column_1 │\n",
       "│ ---                  ┆ ---      │\n",
       "│ str                  ┆ i64      │\n",
       "╞══════════════════════╪══════════╡\n",
       "│ Ivory Coast          ┆ 100      │\n",
       "│ Ivory Coast          ┆ 100      │\n",
       "│ United Arab Emirates ┆ 100      │\n",
       "│ Nigeria              ┆ 100      │\n",
       "│ Ghana                ┆ 100      │\n",
       "│ …                    ┆ …        │\n",
       "│ Namibia              ┆ 100      │\n",
       "│ Cameroon             ┆ 100      │\n",
       "│ Nauru                ┆ 100      │\n",
       "│ Armenia              ┆ 100      │\n",
       "│ Croatia              ┆ 100      │\n",
       "└──────────────────────┴──────────┘"
      ]
     },
     "execution_count": 133,
     "metadata": {},
     "output_type": "execute_result"
    }
   ],
   "source": [
    "countries_ref_df.map_rows(lambda x: process.extractOne(x[0],flags_df['country'],scorer=fuzz.token_set_ratio))"
   ]
  },
  {
   "cell_type": "code",
   "execution_count": 134,
   "metadata": {},
   "outputs": [
    {
     "data": {
      "text/html": [
       "<div><style>\n",
       ".dataframe > thead > tr,\n",
       ".dataframe > tbody > tr {\n",
       "  text-align: right;\n",
       "  white-space: pre-wrap;\n",
       "}\n",
       "</style>\n",
       "<small>shape: (262, 1)</small><table border=\"1\" class=\"dataframe\"><thead><tr><th>map</th></tr><tr><td>str</td></tr></thead><tbody><tr><td>&quot;Ivory Coast&quot;</td></tr><tr><td>&quot;Ivory Coast&quot;</td></tr><tr><td>&quot;United Arab Emirates&quot;</td></tr><tr><td>&quot;Nigeria&quot;</td></tr><tr><td>&quot;Ghana&quot;</td></tr><tr><td>&hellip;</td></tr><tr><td>&quot;Namibia&quot;</td></tr><tr><td>&quot;Cameroon&quot;</td></tr><tr><td>&quot;Nauru&quot;</td></tr><tr><td>&quot;Armenia&quot;</td></tr><tr><td>&quot;Croatia&quot;</td></tr></tbody></table></div>"
      ],
      "text/plain": [
       "shape: (262, 1)\n",
       "┌──────────────────────┐\n",
       "│ map                  │\n",
       "│ ---                  │\n",
       "│ str                  │\n",
       "╞══════════════════════╡\n",
       "│ Ivory Coast          │\n",
       "│ Ivory Coast          │\n",
       "│ United Arab Emirates │\n",
       "│ Nigeria              │\n",
       "│ Ghana                │\n",
       "│ …                    │\n",
       "│ Namibia              │\n",
       "│ Cameroon             │\n",
       "│ Nauru                │\n",
       "│ Armenia              │\n",
       "│ Croatia              │\n",
       "└──────────────────────┘"
      ]
     },
     "execution_count": 134,
     "metadata": {},
     "output_type": "execute_result"
    }
   ],
   "source": [
    "countries_ref_df.map_rows(lambda x: process.extractOne(x[0],flags_df['country'],scorer=fuzz.token_set_ratio)[0])"
   ]
  },
  {
   "cell_type": "code",
   "execution_count": 135,
   "metadata": {},
   "outputs": [
    {
     "ename": "TypeError",
     "evalue": "argument 'output_type': 'str' is not a Polars data type",
     "output_type": "error",
     "traceback": [
      "\u001b[1;31m---------------------------------------------------------------------------\u001b[0m",
      "\u001b[1;31mTypeError\u001b[0m                                 Traceback (most recent call last)",
      "Cell \u001b[1;32mIn[135], line 1\u001b[0m\n\u001b[1;32m----> 1\u001b[0m countries_ref_df\u001b[39m.\u001b[39;49mmap_rows(\u001b[39mlambda\u001b[39;49;00m x: process\u001b[39m.\u001b[39;49mextractOne(x[\u001b[39m0\u001b[39;49m],flags_df[\u001b[39m'\u001b[39;49m\u001b[39mcountry\u001b[39;49m\u001b[39m'\u001b[39;49m],scorer\u001b[39m=\u001b[39;49mfuzz\u001b[39m.\u001b[39;49mtoken_set_ratio),x[\u001b[39m0\u001b[39;49m])\n",
      "File \u001b[1;32mc:\\Users\\27722\\AppData\\Local\\Programs\\Python\\Python312\\Lib\\site-packages\\polars\\dataframe\\frame.py:6981\u001b[0m, in \u001b[0;36mDataFrame.map_rows\u001b[1;34m(self, function, return_dtype, inference_size)\u001b[0m\n\u001b[0;32m   6892\u001b[0m \u001b[39m\u001b[39m\u001b[39m\"\"\"\u001b[39;00m\n\u001b[0;32m   6893\u001b[0m \u001b[39mApply a custom/user-defined function (UDF) over the rows of the DataFrame.\u001b[39;00m\n\u001b[0;32m   6894\u001b[0m \n\u001b[1;32m   (...)\u001b[0m\n\u001b[0;32m   6975\u001b[0m \u001b[39m>>> df.select(pl.col(\"foo\") * 2 + pl.col(\"bar\"))  # doctest: +IGNORE_RESULT\u001b[39;00m\n\u001b[0;32m   6976\u001b[0m \u001b[39m\"\"\"\u001b[39;00m\n\u001b[0;32m   6977\u001b[0m \u001b[39m# TODO: Enable warning for inefficient map\u001b[39;00m\n\u001b[0;32m   6978\u001b[0m \u001b[39m# from polars._utils.udfs import warn_on_inefficient_map\u001b[39;00m\n\u001b[0;32m   6979\u001b[0m \u001b[39m# warn_on_inefficient_map(function, columns=self.columns, map_target=\"frame)\u001b[39;00m\n\u001b[1;32m-> 6981\u001b[0m out, is_df \u001b[39m=\u001b[39m \u001b[39mself\u001b[39;49m\u001b[39m.\u001b[39;49m_df\u001b[39m.\u001b[39;49mmap_rows(function, return_dtype, inference_size)\n\u001b[0;32m   6982\u001b[0m \u001b[39mif\u001b[39;00m is_df:\n\u001b[0;32m   6983\u001b[0m     \u001b[39mreturn\u001b[39;00m \u001b[39mself\u001b[39m\u001b[39m.\u001b[39m_from_pydf(out)\n",
      "\u001b[1;31mTypeError\u001b[0m: argument 'output_type': 'str' is not a Polars data type"
     ]
    }
   ],
   "source": [
    "countries_ref_df.map_rows(lambda x: process.extractOne(x[0],flags_df['country'],scorer=fuzz.token_set_ratio),x[0])"
   ]
  },
  {
   "cell_type": "code",
   "execution_count": 136,
   "metadata": {},
   "outputs": [],
   "source": [
    "x = ['England','The offical state of England','Englaend','Eng land']"
   ]
  },
  {
   "cell_type": "code",
   "execution_count": 137,
   "metadata": {},
   "outputs": [
    {
     "data": {
      "text/plain": [
       "[('England', 100),\n",
       " ('The offical state of England', 100),\n",
       " ('Englaend', 86),\n",
       " ('Eng land', 86)]"
      ]
     },
     "execution_count": 137,
     "metadata": {},
     "output_type": "execute_result"
    }
   ],
   "source": [
    "process.extract('England',x,scorer=fuzz.partial_ratio)"
   ]
  },
  {
   "cell_type": "code",
   "execution_count": 138,
   "metadata": {},
   "outputs": [
    {
     "data": {
      "text/plain": [
       "[('England', 100),\n",
       " ('The offical state of England', 100),\n",
       " ('Englaend', 86),\n",
       " ('Eng land', 86)]"
      ]
     },
     "execution_count": 138,
     "metadata": {},
     "output_type": "execute_result"
    }
   ],
   "source": [
    "process.extract('England',x,scorer=fuzz.partial_ratio)"
   ]
  },
  {
   "cell_type": "code",
   "execution_count": 139,
   "metadata": {},
   "outputs": [
    {
     "data": {
      "text/plain": [
       "('England', 100)"
      ]
     },
     "execution_count": 139,
     "metadata": {},
     "output_type": "execute_result"
    }
   ],
   "source": [
    "process.extractOne('England',x,scorer=fuzz.partial_ratio)"
   ]
  },
  {
   "cell_type": "code",
   "execution_count": 140,
   "metadata": {},
   "outputs": [],
   "source": [
    "x = ['England','The offical state of England','Englaend']"
   ]
  },
  {
   "cell_type": "code",
   "execution_count": 141,
   "metadata": {},
   "outputs": [],
   "source": [
    "x = ['England','The offical state of England','Englaend']"
   ]
  },
  {
   "cell_type": "code",
   "execution_count": 142,
   "metadata": {},
   "outputs": [],
   "source": [
    "x = ['Englasand','The offical state of England','Englaend']"
   ]
  },
  {
   "cell_type": "code",
   "execution_count": 143,
   "metadata": {},
   "outputs": [
    {
     "data": {
      "text/plain": [
       "('The offical state of England', 100)"
      ]
     },
     "execution_count": 143,
     "metadata": {},
     "output_type": "execute_result"
    }
   ],
   "source": [
    "process.extractOne('England',x,scorer=fuzz.partial_ratio)"
   ]
  },
  {
   "cell_type": "code",
   "execution_count": 144,
   "metadata": {},
   "outputs": [
    {
     "ename": "TypeError",
     "evalue": "can only concatenate tuple (not \"str\") to tuple",
     "output_type": "error",
     "traceback": [
      "\u001b[1;31m---------------------------------------------------------------------------\u001b[0m",
      "\u001b[1;31mTypeError\u001b[0m                                 Traceback (most recent call last)",
      "Cell \u001b[1;32mIn[144], line 1\u001b[0m\n\u001b[1;32m----> 1\u001b[0m process\u001b[39m.\u001b[39;49mextractOne(\u001b[39m'\u001b[39;49m\u001b[39mEngland\u001b[39;49m\u001b[39m'\u001b[39;49m,x,scorer\u001b[39m=\u001b[39;49mfuzz\u001b[39m.\u001b[39;49mpartial_ratio) \u001b[39m+\u001b[39;49m \u001b[39m'\u001b[39;49m\u001b[39mEngland\u001b[39;49m\u001b[39m'\u001b[39;49m\n",
      "\u001b[1;31mTypeError\u001b[0m: can only concatenate tuple (not \"str\") to tuple"
     ]
    }
   ],
   "source": [
    "process.extractOne('England',x,scorer=fuzz.partial_ratio) + 'England'"
   ]
  },
  {
   "cell_type": "code",
   "execution_count": 145,
   "metadata": {},
   "outputs": [
    {
     "data": {
      "text/plain": [
       "'The offical state of EnglandEngland'"
      ]
     },
     "execution_count": 145,
     "metadata": {},
     "output_type": "execute_result"
    }
   ],
   "source": [
    "process.extractOne('England',x,scorer=fuzz.partial_ratio)[0] + 'England'"
   ]
  },
  {
   "cell_type": "code",
   "execution_count": 146,
   "metadata": {},
   "outputs": [
    {
     "data": {
      "text/plain": [
       "'The offical state of England England'"
      ]
     },
     "execution_count": 146,
     "metadata": {},
     "output_type": "execute_result"
    }
   ],
   "source": [
    "process.extractOne('England',x,scorer=fuzz.partial_ratio)[0] + ' England'"
   ]
  },
  {
   "cell_type": "code",
   "execution_count": 147,
   "metadata": {},
   "outputs": [
    {
     "ename": "TypeError",
     "evalue": "argument 'output_type': 'str' is not a Polars data type",
     "output_type": "error",
     "traceback": [
      "\u001b[1;31m---------------------------------------------------------------------------\u001b[0m",
      "\u001b[1;31mTypeError\u001b[0m                                 Traceback (most recent call last)",
      "Cell \u001b[1;32mIn[147], line 1\u001b[0m\n\u001b[1;32m----> 1\u001b[0m countries_ref_df\u001b[39m.\u001b[39;49mmap_rows(\u001b[39mlambda\u001b[39;49;00m x: process\u001b[39m.\u001b[39;49mextractOne(x[\u001b[39m0\u001b[39;49m],flags_df[\u001b[39m'\u001b[39;49m\u001b[39mcountry\u001b[39;49m\u001b[39m'\u001b[39;49m],scorer\u001b[39m=\u001b[39;49mfuzz\u001b[39m.\u001b[39;49mtoken_set_ratio),x[\u001b[39m0\u001b[39;49m])\n",
      "File \u001b[1;32mc:\\Users\\27722\\AppData\\Local\\Programs\\Python\\Python312\\Lib\\site-packages\\polars\\dataframe\\frame.py:6981\u001b[0m, in \u001b[0;36mDataFrame.map_rows\u001b[1;34m(self, function, return_dtype, inference_size)\u001b[0m\n\u001b[0;32m   6892\u001b[0m \u001b[39m\u001b[39m\u001b[39m\"\"\"\u001b[39;00m\n\u001b[0;32m   6893\u001b[0m \u001b[39mApply a custom/user-defined function (UDF) over the rows of the DataFrame.\u001b[39;00m\n\u001b[0;32m   6894\u001b[0m \n\u001b[1;32m   (...)\u001b[0m\n\u001b[0;32m   6975\u001b[0m \u001b[39m>>> df.select(pl.col(\"foo\") * 2 + pl.col(\"bar\"))  # doctest: +IGNORE_RESULT\u001b[39;00m\n\u001b[0;32m   6976\u001b[0m \u001b[39m\"\"\"\u001b[39;00m\n\u001b[0;32m   6977\u001b[0m \u001b[39m# TODO: Enable warning for inefficient map\u001b[39;00m\n\u001b[0;32m   6978\u001b[0m \u001b[39m# from polars._utils.udfs import warn_on_inefficient_map\u001b[39;00m\n\u001b[0;32m   6979\u001b[0m \u001b[39m# warn_on_inefficient_map(function, columns=self.columns, map_target=\"frame)\u001b[39;00m\n\u001b[1;32m-> 6981\u001b[0m out, is_df \u001b[39m=\u001b[39m \u001b[39mself\u001b[39;49m\u001b[39m.\u001b[39;49m_df\u001b[39m.\u001b[39;49mmap_rows(function, return_dtype, inference_size)\n\u001b[0;32m   6982\u001b[0m \u001b[39mif\u001b[39;00m is_df:\n\u001b[0;32m   6983\u001b[0m     \u001b[39mreturn\u001b[39;00m \u001b[39mself\u001b[39m\u001b[39m.\u001b[39m_from_pydf(out)\n",
      "\u001b[1;31mTypeError\u001b[0m: argument 'output_type': 'str' is not a Polars data type"
     ]
    }
   ],
   "source": [
    "countries_ref_df.map_rows(lambda x: process.extractOne(x[0],flags_df['country'],scorer=fuzz.token_set_ratio),x[0])"
   ]
  },
  {
   "cell_type": "code",
   "execution_count": 148,
   "metadata": {},
   "outputs": [
    {
     "data": {
      "text/html": [
       "<div><style>\n",
       ".dataframe > thead > tr,\n",
       ".dataframe > tbody > tr {\n",
       "  text-align: right;\n",
       "  white-space: pre-wrap;\n",
       "}\n",
       "</style>\n",
       "<small>shape: (262, 2)</small><table border=\"1\" class=\"dataframe\"><thead><tr><th>column_0</th><th>column_1</th></tr><tr><td>str</td><td>i64</td></tr></thead><tbody><tr><td>&quot;Ivory Coast&quot;</td><td>100</td></tr><tr><td>&quot;Ivory Coast&quot;</td><td>100</td></tr><tr><td>&quot;United Arab Emirates&quot;</td><td>100</td></tr><tr><td>&quot;Nigeria&quot;</td><td>100</td></tr><tr><td>&quot;Ghana&quot;</td><td>100</td></tr><tr><td>&hellip;</td><td>&hellip;</td></tr><tr><td>&quot;Namibia&quot;</td><td>100</td></tr><tr><td>&quot;Cameroon&quot;</td><td>100</td></tr><tr><td>&quot;Nauru&quot;</td><td>100</td></tr><tr><td>&quot;Armenia&quot;</td><td>100</td></tr><tr><td>&quot;Croatia&quot;</td><td>100</td></tr></tbody></table></div>"
      ],
      "text/plain": [
       "shape: (262, 2)\n",
       "┌──────────────────────┬──────────┐\n",
       "│ column_0             ┆ column_1 │\n",
       "│ ---                  ┆ ---      │\n",
       "│ str                  ┆ i64      │\n",
       "╞══════════════════════╪══════════╡\n",
       "│ Ivory Coast          ┆ 100      │\n",
       "│ Ivory Coast          ┆ 100      │\n",
       "│ United Arab Emirates ┆ 100      │\n",
       "│ Nigeria              ┆ 100      │\n",
       "│ Ghana                ┆ 100      │\n",
       "│ …                    ┆ …        │\n",
       "│ Namibia              ┆ 100      │\n",
       "│ Cameroon             ┆ 100      │\n",
       "│ Nauru                ┆ 100      │\n",
       "│ Armenia              ┆ 100      │\n",
       "│ Croatia              ┆ 100      │\n",
       "└──────────────────────┴──────────┘"
      ]
     },
     "execution_count": 148,
     "metadata": {},
     "output_type": "execute_result"
    }
   ],
   "source": [
    "countries_ref_df.map_rows(lambda x: process.extractOne(x[0],flags_df['country'],scorer=fuzz.token_set_ratio))"
   ]
  },
  {
   "cell_type": "code",
   "execution_count": 149,
   "metadata": {},
   "outputs": [
    {
     "ename": "SyntaxError",
     "evalue": "incomplete input (<ipython-input-149-e9a48d8fb09c>, line 1)",
     "output_type": "error",
     "traceback": [
      "\u001b[1;36m  Cell \u001b[1;32mIn[149], line 1\u001b[1;36m\u001b[0m\n\u001b[1;33m    countries_ref_df.map_rows(lambda x: (process.extractOne(x[0],flags_df['country'],scorer=fuzz.token_set_ratio)[0] + 'x[0]')\u001b[0m\n\u001b[1;37m                                                                                                                              ^\u001b[0m\n\u001b[1;31mSyntaxError\u001b[0m\u001b[1;31m:\u001b[0m incomplete input\n"
     ]
    }
   ],
   "source": [
    "countries_ref_df.map_rows(lambda x: (process.extractOne(x[0],flags_df['country'],scorer=fuzz.token_set_ratio)[0] + 'x[0]')"
   ]
  },
  {
   "cell_type": "code",
   "execution_count": 150,
   "metadata": {},
   "outputs": [
    {
     "data": {
      "text/html": [
       "<div><style>\n",
       ".dataframe > thead > tr,\n",
       ".dataframe > tbody > tr {\n",
       "  text-align: right;\n",
       "  white-space: pre-wrap;\n",
       "}\n",
       "</style>\n",
       "<small>shape: (262, 1)</small><table border=\"1\" class=\"dataframe\"><thead><tr><th>map</th></tr><tr><td>str</td></tr></thead><tbody><tr><td>&quot;Ivory Coastx[0]&quot;</td></tr><tr><td>&quot;Ivory Coastx[0]&quot;</td></tr><tr><td>&quot;United Arab Emiratesx[0]&quot;</td></tr><tr><td>&quot;Nigeriax[0]&quot;</td></tr><tr><td>&quot;Ghanax[0]&quot;</td></tr><tr><td>&hellip;</td></tr><tr><td>&quot;Namibiax[0]&quot;</td></tr><tr><td>&quot;Cameroonx[0]&quot;</td></tr><tr><td>&quot;Naurux[0]&quot;</td></tr><tr><td>&quot;Armeniax[0]&quot;</td></tr><tr><td>&quot;Croatiax[0]&quot;</td></tr></tbody></table></div>"
      ],
      "text/plain": [
       "shape: (262, 1)\n",
       "┌──────────────────────────┐\n",
       "│ map                      │\n",
       "│ ---                      │\n",
       "│ str                      │\n",
       "╞══════════════════════════╡\n",
       "│ Ivory Coastx[0]          │\n",
       "│ Ivory Coastx[0]          │\n",
       "│ United Arab Emiratesx[0] │\n",
       "│ Nigeriax[0]              │\n",
       "│ Ghanax[0]                │\n",
       "│ …                        │\n",
       "│ Namibiax[0]              │\n",
       "│ Cameroonx[0]             │\n",
       "│ Naurux[0]                │\n",
       "│ Armeniax[0]              │\n",
       "│ Croatiax[0]              │\n",
       "└──────────────────────────┘"
      ]
     },
     "execution_count": 150,
     "metadata": {},
     "output_type": "execute_result"
    }
   ],
   "source": [
    "countries_ref_df.map_rows(lambda x: (process.extractOne(x[0],flags_df['country'],scorer=fuzz.token_set_ratio)[0]) + 'x[0]')"
   ]
  },
  {
   "cell_type": "code",
   "execution_count": 151,
   "metadata": {},
   "outputs": [
    {
     "data": {
      "text/html": [
       "<div><style>\n",
       ".dataframe > thead > tr,\n",
       ".dataframe > tbody > tr {\n",
       "  text-align: right;\n",
       "  white-space: pre-wrap;\n",
       "}\n",
       "</style>\n",
       "<small>shape: (262, 1)</small><table border=\"1\" class=\"dataframe\"><thead><tr><th>map</th></tr><tr><td>str</td></tr></thead><tbody><tr><td>&quot;Ivory CoastIvory Coast&quot;</td></tr><tr><td>&quot;Ivory CoastIvory Coast&quot;</td></tr><tr><td>&quot;United Arab EmiratesUnited Ara…</td></tr><tr><td>&quot;NigeriaNigeria&quot;</td></tr><tr><td>&quot;GhanaGhana&quot;</td></tr><tr><td>&hellip;</td></tr><tr><td>&quot;NamibiaNamibia&quot;</td></tr><tr><td>&quot;CameroonCameroon&quot;</td></tr><tr><td>&quot;NauruNauru&quot;</td></tr><tr><td>&quot;ArmeniaArmenia&quot;</td></tr><tr><td>&quot;CroatiaCroatia&quot;</td></tr></tbody></table></div>"
      ],
      "text/plain": [
       "shape: (262, 1)\n",
       "┌─────────────────────────────────┐\n",
       "│ map                             │\n",
       "│ ---                             │\n",
       "│ str                             │\n",
       "╞═════════════════════════════════╡\n",
       "│ Ivory CoastIvory Coast          │\n",
       "│ Ivory CoastIvory Coast          │\n",
       "│ United Arab EmiratesUnited Ara… │\n",
       "│ NigeriaNigeria                  │\n",
       "│ GhanaGhana                      │\n",
       "│ …                               │\n",
       "│ NamibiaNamibia                  │\n",
       "│ CameroonCameroon                │\n",
       "│ NauruNauru                      │\n",
       "│ ArmeniaArmenia                  │\n",
       "│ CroatiaCroatia                  │\n",
       "└─────────────────────────────────┘"
      ]
     },
     "execution_count": 151,
     "metadata": {},
     "output_type": "execute_result"
    }
   ],
   "source": [
    "countries_ref_df.map_rows(lambda x: (process.extractOne(x[0],flags_df['country'],scorer=fuzz.token_set_ratio)[0]) + x[0])"
   ]
  },
  {
   "cell_type": "code",
   "execution_count": 152,
   "metadata": {},
   "outputs": [
    {
     "data": {
      "text/html": [
       "<div><style>\n",
       ".dataframe > thead > tr,\n",
       ".dataframe > tbody > tr {\n",
       "  text-align: right;\n",
       "  white-space: pre-wrap;\n",
       "}\n",
       "</style>\n",
       "<small>shape: (262, 1)</small><table border=\"1\" class=\"dataframe\"><thead><tr><th>map</th></tr><tr><td>str</td></tr></thead><tbody><tr><td>&quot;Ivory Coast;Ivory Coast&quot;</td></tr><tr><td>&quot;Ivory Coast;Ivory Coast&quot;</td></tr><tr><td>&quot;United Arab Emirates;United Ar…</td></tr><tr><td>&quot;Nigeria;Nigeria&quot;</td></tr><tr><td>&quot;Ghana;Ghana&quot;</td></tr><tr><td>&hellip;</td></tr><tr><td>&quot;Namibia;Namibia&quot;</td></tr><tr><td>&quot;Cameroon;Cameroon&quot;</td></tr><tr><td>&quot;Nauru;Nauru&quot;</td></tr><tr><td>&quot;Armenia;Armenia&quot;</td></tr><tr><td>&quot;Croatia;Croatia&quot;</td></tr></tbody></table></div>"
      ],
      "text/plain": [
       "shape: (262, 1)\n",
       "┌─────────────────────────────────┐\n",
       "│ map                             │\n",
       "│ ---                             │\n",
       "│ str                             │\n",
       "╞═════════════════════════════════╡\n",
       "│ Ivory Coast;Ivory Coast         │\n",
       "│ Ivory Coast;Ivory Coast         │\n",
       "│ United Arab Emirates;United Ar… │\n",
       "│ Nigeria;Nigeria                 │\n",
       "│ Ghana;Ghana                     │\n",
       "│ …                               │\n",
       "│ Namibia;Namibia                 │\n",
       "│ Cameroon;Cameroon               │\n",
       "│ Nauru;Nauru                     │\n",
       "│ Armenia;Armenia                 │\n",
       "│ Croatia;Croatia                 │\n",
       "└─────────────────────────────────┘"
      ]
     },
     "execution_count": 152,
     "metadata": {},
     "output_type": "execute_result"
    }
   ],
   "source": [
    "countries_ref_df.map_rows(lambda x: (process.extractOne(x[0],flags_df['country'],scorer=fuzz.token_set_ratio)[0]) + ';' + x[0])"
   ]
  },
  {
   "cell_type": "code",
   "execution_count": 153,
   "metadata": {},
   "outputs": [
    {
     "ename": "AttributeError",
     "evalue": "'tuple' object has no attribute 'filter'",
     "output_type": "error",
     "traceback": [
      "\u001b[1;31m---------------------------------------------------------------------------\u001b[0m",
      "\u001b[1;31mAttributeError\u001b[0m                            Traceback (most recent call last)",
      "Cell \u001b[1;32mIn[153], line 1\u001b[0m\n\u001b[1;32m----> 1\u001b[0m countries_ref_df\u001b[39m.\u001b[39;49mmap_rows(\u001b[39mlambda\u001b[39;49;00m x: (process\u001b[39m.\u001b[39;49mextractOne(x[\u001b[39m0\u001b[39;49m],flags_df[\u001b[39m'\u001b[39;49m\u001b[39mcountry\u001b[39;49m\u001b[39m'\u001b[39;49m],scorer\u001b[39m=\u001b[39;49mfuzz\u001b[39m.\u001b[39;49mtoken_set_ratio)\u001b[39m.\u001b[39;49mfilter(pl\u001b[39m.\u001b[39;49mcol(\u001b[39m'\u001b[39;49m\u001b[39mcolumn_1\u001b[39;49m\u001b[39m'\u001b[39;49m) \u001b[39m<\u001b[39;49m \u001b[39m100\u001b[39;49m)[\u001b[39m0\u001b[39;49m]) \u001b[39m+\u001b[39;49m \u001b[39m'\u001b[39;49m\u001b[39m;\u001b[39;49m\u001b[39m'\u001b[39;49m \u001b[39m+\u001b[39;49m x[\u001b[39m0\u001b[39;49m])\n",
      "File \u001b[1;32mc:\\Users\\27722\\AppData\\Local\\Programs\\Python\\Python312\\Lib\\site-packages\\polars\\dataframe\\frame.py:6981\u001b[0m, in \u001b[0;36mDataFrame.map_rows\u001b[1;34m(self, function, return_dtype, inference_size)\u001b[0m\n\u001b[0;32m   6892\u001b[0m \u001b[39m\u001b[39m\u001b[39m\"\"\"\u001b[39;00m\n\u001b[0;32m   6893\u001b[0m \u001b[39mApply a custom/user-defined function (UDF) over the rows of the DataFrame.\u001b[39;00m\n\u001b[0;32m   6894\u001b[0m \n\u001b[1;32m   (...)\u001b[0m\n\u001b[0;32m   6975\u001b[0m \u001b[39m>>> df.select(pl.col(\"foo\") * 2 + pl.col(\"bar\"))  # doctest: +IGNORE_RESULT\u001b[39;00m\n\u001b[0;32m   6976\u001b[0m \u001b[39m\"\"\"\u001b[39;00m\n\u001b[0;32m   6977\u001b[0m \u001b[39m# TODO: Enable warning for inefficient map\u001b[39;00m\n\u001b[0;32m   6978\u001b[0m \u001b[39m# from polars._utils.udfs import warn_on_inefficient_map\u001b[39;00m\n\u001b[0;32m   6979\u001b[0m \u001b[39m# warn_on_inefficient_map(function, columns=self.columns, map_target=\"frame)\u001b[39;00m\n\u001b[1;32m-> 6981\u001b[0m out, is_df \u001b[39m=\u001b[39m \u001b[39mself\u001b[39;49m\u001b[39m.\u001b[39;49m_df\u001b[39m.\u001b[39;49mmap_rows(function, return_dtype, inference_size)\n\u001b[0;32m   6982\u001b[0m \u001b[39mif\u001b[39;00m is_df:\n\u001b[0;32m   6983\u001b[0m     \u001b[39mreturn\u001b[39;00m \u001b[39mself\u001b[39m\u001b[39m.\u001b[39m_from_pydf(out)\n",
      "Cell \u001b[1;32mIn[153], line 1\u001b[0m, in \u001b[0;36m<lambda>\u001b[1;34m(x)\u001b[0m\n\u001b[1;32m----> 1\u001b[0m countries_ref_df\u001b[39m.\u001b[39mmap_rows(\u001b[39mlambda\u001b[39;00m x: (process\u001b[39m.\u001b[39;49mextractOne(x[\u001b[39m0\u001b[39;49m],flags_df[\u001b[39m'\u001b[39;49m\u001b[39mcountry\u001b[39;49m\u001b[39m'\u001b[39;49m],scorer\u001b[39m=\u001b[39;49mfuzz\u001b[39m.\u001b[39;49mtoken_set_ratio)\u001b[39m.\u001b[39;49mfilter(pl\u001b[39m.\u001b[39mcol(\u001b[39m'\u001b[39m\u001b[39mcolumn_1\u001b[39m\u001b[39m'\u001b[39m) \u001b[39m<\u001b[39m \u001b[39m100\u001b[39m)[\u001b[39m0\u001b[39m]) \u001b[39m+\u001b[39m \u001b[39m'\u001b[39m\u001b[39m;\u001b[39m\u001b[39m'\u001b[39m \u001b[39m+\u001b[39m x[\u001b[39m0\u001b[39m])\n",
      "\u001b[1;31mAttributeError\u001b[0m: 'tuple' object has no attribute 'filter'"
     ]
    }
   ],
   "source": [
    "countries_ref_df.map_rows(lambda x: (process.extractOne(x[0],flags_df['country'],scorer=fuzz.token_set_ratio).filter(pl.col('column_1') < 100)[0]) + ';' + x[0])"
   ]
  },
  {
   "cell_type": "code",
   "execution_count": 154,
   "metadata": {},
   "outputs": [
    {
     "data": {
      "text/html": [
       "<div><style>\n",
       ".dataframe > thead > tr,\n",
       ".dataframe > tbody > tr {\n",
       "  text-align: right;\n",
       "  white-space: pre-wrap;\n",
       "}\n",
       "</style>\n",
       "<small>shape: (262, 1)</small><table border=\"1\" class=\"dataframe\"><thead><tr><th>map</th></tr><tr><td>str</td></tr></thead><tbody><tr><td>&quot;Ivory Coast;Ivory Coast&quot;</td></tr><tr><td>&quot;Ivory Coast;Ivory Coast&quot;</td></tr><tr><td>&quot;United Arab Emirates;United Ar…</td></tr><tr><td>&quot;Nigeria;Nigeria&quot;</td></tr><tr><td>&quot;Ghana;Ghana&quot;</td></tr><tr><td>&hellip;</td></tr><tr><td>&quot;Namibia;Namibia&quot;</td></tr><tr><td>&quot;Cameroon;Cameroon&quot;</td></tr><tr><td>&quot;Nauru;Nauru&quot;</td></tr><tr><td>&quot;Armenia;Armenia&quot;</td></tr><tr><td>&quot;Croatia;Croatia&quot;</td></tr></tbody></table></div>"
      ],
      "text/plain": [
       "shape: (262, 1)\n",
       "┌─────────────────────────────────┐\n",
       "│ map                             │\n",
       "│ ---                             │\n",
       "│ str                             │\n",
       "╞═════════════════════════════════╡\n",
       "│ Ivory Coast;Ivory Coast         │\n",
       "│ Ivory Coast;Ivory Coast         │\n",
       "│ United Arab Emirates;United Ar… │\n",
       "│ Nigeria;Nigeria                 │\n",
       "│ Ghana;Ghana                     │\n",
       "│ …                               │\n",
       "│ Namibia;Namibia                 │\n",
       "│ Cameroon;Cameroon               │\n",
       "│ Nauru;Nauru                     │\n",
       "│ Armenia;Armenia                 │\n",
       "│ Croatia;Croatia                 │\n",
       "└─────────────────────────────────┘"
      ]
     },
     "execution_count": 154,
     "metadata": {},
     "output_type": "execute_result"
    }
   ],
   "source": [
    "countries_ref_df.map_rows(lambda x: (process.extractOne(x[0],flags_df['country'],scorer=fuzz.token_set_ratio)[0]) + ';' + x[0])"
   ]
  },
  {
   "cell_type": "code",
   "execution_count": 155,
   "metadata": {},
   "outputs": [
    {
     "ename": "TypeError",
     "evalue": "can only concatenate tuple (not \"str\") to tuple",
     "output_type": "error",
     "traceback": [
      "\u001b[1;31m---------------------------------------------------------------------------\u001b[0m",
      "\u001b[1;31mTypeError\u001b[0m                                 Traceback (most recent call last)",
      "Cell \u001b[1;32mIn[155], line 1\u001b[0m\n\u001b[1;32m----> 1\u001b[0m countries_ref_df\u001b[39m.\u001b[39;49mmap_rows(\u001b[39mlambda\u001b[39;49;00m x: (process\u001b[39m.\u001b[39;49mextractOne(x[\u001b[39m0\u001b[39;49m],flags_df[\u001b[39m'\u001b[39;49m\u001b[39mcountry\u001b[39;49m\u001b[39m'\u001b[39;49m],scorer\u001b[39m=\u001b[39;49mfuzz\u001b[39m.\u001b[39;49mtoken_set_ratio)) \u001b[39m+\u001b[39;49m \u001b[39m'\u001b[39;49m\u001b[39m;\u001b[39;49m\u001b[39m'\u001b[39;49m \u001b[39m+\u001b[39;49m x[\u001b[39m0\u001b[39;49m])\n",
      "File \u001b[1;32mc:\\Users\\27722\\AppData\\Local\\Programs\\Python\\Python312\\Lib\\site-packages\\polars\\dataframe\\frame.py:6981\u001b[0m, in \u001b[0;36mDataFrame.map_rows\u001b[1;34m(self, function, return_dtype, inference_size)\u001b[0m\n\u001b[0;32m   6892\u001b[0m \u001b[39m\u001b[39m\u001b[39m\"\"\"\u001b[39;00m\n\u001b[0;32m   6893\u001b[0m \u001b[39mApply a custom/user-defined function (UDF) over the rows of the DataFrame.\u001b[39;00m\n\u001b[0;32m   6894\u001b[0m \n\u001b[1;32m   (...)\u001b[0m\n\u001b[0;32m   6975\u001b[0m \u001b[39m>>> df.select(pl.col(\"foo\") * 2 + pl.col(\"bar\"))  # doctest: +IGNORE_RESULT\u001b[39;00m\n\u001b[0;32m   6976\u001b[0m \u001b[39m\"\"\"\u001b[39;00m\n\u001b[0;32m   6977\u001b[0m \u001b[39m# TODO: Enable warning for inefficient map\u001b[39;00m\n\u001b[0;32m   6978\u001b[0m \u001b[39m# from polars._utils.udfs import warn_on_inefficient_map\u001b[39;00m\n\u001b[0;32m   6979\u001b[0m \u001b[39m# warn_on_inefficient_map(function, columns=self.columns, map_target=\"frame)\u001b[39;00m\n\u001b[1;32m-> 6981\u001b[0m out, is_df \u001b[39m=\u001b[39m \u001b[39mself\u001b[39;49m\u001b[39m.\u001b[39;49m_df\u001b[39m.\u001b[39;49mmap_rows(function, return_dtype, inference_size)\n\u001b[0;32m   6982\u001b[0m \u001b[39mif\u001b[39;00m is_df:\n\u001b[0;32m   6983\u001b[0m     \u001b[39mreturn\u001b[39;00m \u001b[39mself\u001b[39m\u001b[39m.\u001b[39m_from_pydf(out)\n",
      "Cell \u001b[1;32mIn[155], line 1\u001b[0m, in \u001b[0;36m<lambda>\u001b[1;34m(x)\u001b[0m\n\u001b[1;32m----> 1\u001b[0m countries_ref_df\u001b[39m.\u001b[39mmap_rows(\u001b[39mlambda\u001b[39;00m x: (process\u001b[39m.\u001b[39;49mextractOne(x[\u001b[39m0\u001b[39;49m],flags_df[\u001b[39m'\u001b[39;49m\u001b[39mcountry\u001b[39;49m\u001b[39m'\u001b[39;49m],scorer\u001b[39m=\u001b[39;49mfuzz\u001b[39m.\u001b[39;49mtoken_set_ratio)) \u001b[39m+\u001b[39;49m \u001b[39m'\u001b[39;49m\u001b[39m;\u001b[39;49m\u001b[39m'\u001b[39;49m \u001b[39m+\u001b[39m x[\u001b[39m0\u001b[39m])\n",
      "\u001b[1;31mTypeError\u001b[0m: can only concatenate tuple (not \"str\") to tuple"
     ]
    }
   ],
   "source": [
    "countries_ref_df.map_rows(lambda x: (process.extractOne(x[0],flags_df['country'],scorer=fuzz.token_set_ratio)) + ';' + x[0])"
   ]
  },
  {
   "cell_type": "code",
   "execution_count": 156,
   "metadata": {},
   "outputs": [
    {
     "ename": "TypeError",
     "evalue": "can only concatenate tuple (not \"str\") to tuple",
     "output_type": "error",
     "traceback": [
      "\u001b[1;31m---------------------------------------------------------------------------\u001b[0m",
      "\u001b[1;31mTypeError\u001b[0m                                 Traceback (most recent call last)",
      "Cell \u001b[1;32mIn[156], line 1\u001b[0m\n\u001b[1;32m----> 1\u001b[0m countries_ref_df\u001b[39m.\u001b[39;49mmap_rows(\u001b[39mlambda\u001b[39;49;00m x: (process\u001b[39m.\u001b[39;49mextractOne(x[\u001b[39m0\u001b[39;49m],flags_df[\u001b[39m'\u001b[39;49m\u001b[39mcountry\u001b[39;49m\u001b[39m'\u001b[39;49m],scorer\u001b[39m=\u001b[39;49mfuzz\u001b[39m.\u001b[39;49mtoken_set_ratio)) \u001b[39m+\u001b[39;49m \u001b[39m'\u001b[39;49m\u001b[39m;\u001b[39;49m\u001b[39m'\u001b[39;49m \u001b[39m+\u001b[39;49m (x[\u001b[39m0\u001b[39;49m]))\n",
      "File \u001b[1;32mc:\\Users\\27722\\AppData\\Local\\Programs\\Python\\Python312\\Lib\\site-packages\\polars\\dataframe\\frame.py:6981\u001b[0m, in \u001b[0;36mDataFrame.map_rows\u001b[1;34m(self, function, return_dtype, inference_size)\u001b[0m\n\u001b[0;32m   6892\u001b[0m \u001b[39m\u001b[39m\u001b[39m\"\"\"\u001b[39;00m\n\u001b[0;32m   6893\u001b[0m \u001b[39mApply a custom/user-defined function (UDF) over the rows of the DataFrame.\u001b[39;00m\n\u001b[0;32m   6894\u001b[0m \n\u001b[1;32m   (...)\u001b[0m\n\u001b[0;32m   6975\u001b[0m \u001b[39m>>> df.select(pl.col(\"foo\") * 2 + pl.col(\"bar\"))  # doctest: +IGNORE_RESULT\u001b[39;00m\n\u001b[0;32m   6976\u001b[0m \u001b[39m\"\"\"\u001b[39;00m\n\u001b[0;32m   6977\u001b[0m \u001b[39m# TODO: Enable warning for inefficient map\u001b[39;00m\n\u001b[0;32m   6978\u001b[0m \u001b[39m# from polars._utils.udfs import warn_on_inefficient_map\u001b[39;00m\n\u001b[0;32m   6979\u001b[0m \u001b[39m# warn_on_inefficient_map(function, columns=self.columns, map_target=\"frame)\u001b[39;00m\n\u001b[1;32m-> 6981\u001b[0m out, is_df \u001b[39m=\u001b[39m \u001b[39mself\u001b[39;49m\u001b[39m.\u001b[39;49m_df\u001b[39m.\u001b[39;49mmap_rows(function, return_dtype, inference_size)\n\u001b[0;32m   6982\u001b[0m \u001b[39mif\u001b[39;00m is_df:\n\u001b[0;32m   6983\u001b[0m     \u001b[39mreturn\u001b[39;00m \u001b[39mself\u001b[39m\u001b[39m.\u001b[39m_from_pydf(out)\n",
      "Cell \u001b[1;32mIn[156], line 1\u001b[0m, in \u001b[0;36m<lambda>\u001b[1;34m(x)\u001b[0m\n\u001b[1;32m----> 1\u001b[0m countries_ref_df\u001b[39m.\u001b[39mmap_rows(\u001b[39mlambda\u001b[39;00m x: (process\u001b[39m.\u001b[39;49mextractOne(x[\u001b[39m0\u001b[39;49m],flags_df[\u001b[39m'\u001b[39;49m\u001b[39mcountry\u001b[39;49m\u001b[39m'\u001b[39;49m],scorer\u001b[39m=\u001b[39;49mfuzz\u001b[39m.\u001b[39;49mtoken_set_ratio)) \u001b[39m+\u001b[39;49m \u001b[39m'\u001b[39;49m\u001b[39m;\u001b[39;49m\u001b[39m'\u001b[39;49m \u001b[39m+\u001b[39m (x[\u001b[39m0\u001b[39m]))\n",
      "\u001b[1;31mTypeError\u001b[0m: can only concatenate tuple (not \"str\") to tuple"
     ]
    }
   ],
   "source": [
    "countries_ref_df.map_rows(lambda x: (process.extractOne(x[0],flags_df['country'],scorer=fuzz.token_set_ratio)) + ';' + (x[0]))"
   ]
  },
  {
   "cell_type": "code",
   "execution_count": 157,
   "metadata": {},
   "outputs": [
    {
     "ename": "TypeError",
     "evalue": "can only concatenate tuple (not \"str\") to tuple",
     "output_type": "error",
     "traceback": [
      "\u001b[1;31m---------------------------------------------------------------------------\u001b[0m",
      "\u001b[1;31mTypeError\u001b[0m                                 Traceback (most recent call last)",
      "Cell \u001b[1;32mIn[157], line 1\u001b[0m\n\u001b[1;32m----> 1\u001b[0m countries_ref_df\u001b[39m.\u001b[39;49mmap_rows(\u001b[39mlambda\u001b[39;49;00m x: (process\u001b[39m.\u001b[39;49mextractOne(x[\u001b[39m0\u001b[39;49m],flags_df[\u001b[39m'\u001b[39;49m\u001b[39mcountry\u001b[39;49m\u001b[39m'\u001b[39;49m],scorer\u001b[39m=\u001b[39;49mfuzz\u001b[39m.\u001b[39;49mtoken_set_ratio)) \u001b[39m+\u001b[39;49m  (x[\u001b[39m0\u001b[39;49m]))\n",
      "File \u001b[1;32mc:\\Users\\27722\\AppData\\Local\\Programs\\Python\\Python312\\Lib\\site-packages\\polars\\dataframe\\frame.py:6981\u001b[0m, in \u001b[0;36mDataFrame.map_rows\u001b[1;34m(self, function, return_dtype, inference_size)\u001b[0m\n\u001b[0;32m   6892\u001b[0m \u001b[39m\u001b[39m\u001b[39m\"\"\"\u001b[39;00m\n\u001b[0;32m   6893\u001b[0m \u001b[39mApply a custom/user-defined function (UDF) over the rows of the DataFrame.\u001b[39;00m\n\u001b[0;32m   6894\u001b[0m \n\u001b[1;32m   (...)\u001b[0m\n\u001b[0;32m   6975\u001b[0m \u001b[39m>>> df.select(pl.col(\"foo\") * 2 + pl.col(\"bar\"))  # doctest: +IGNORE_RESULT\u001b[39;00m\n\u001b[0;32m   6976\u001b[0m \u001b[39m\"\"\"\u001b[39;00m\n\u001b[0;32m   6977\u001b[0m \u001b[39m# TODO: Enable warning for inefficient map\u001b[39;00m\n\u001b[0;32m   6978\u001b[0m \u001b[39m# from polars._utils.udfs import warn_on_inefficient_map\u001b[39;00m\n\u001b[0;32m   6979\u001b[0m \u001b[39m# warn_on_inefficient_map(function, columns=self.columns, map_target=\"frame)\u001b[39;00m\n\u001b[1;32m-> 6981\u001b[0m out, is_df \u001b[39m=\u001b[39m \u001b[39mself\u001b[39;49m\u001b[39m.\u001b[39;49m_df\u001b[39m.\u001b[39;49mmap_rows(function, return_dtype, inference_size)\n\u001b[0;32m   6982\u001b[0m \u001b[39mif\u001b[39;00m is_df:\n\u001b[0;32m   6983\u001b[0m     \u001b[39mreturn\u001b[39;00m \u001b[39mself\u001b[39m\u001b[39m.\u001b[39m_from_pydf(out)\n",
      "Cell \u001b[1;32mIn[157], line 1\u001b[0m, in \u001b[0;36m<lambda>\u001b[1;34m(x)\u001b[0m\n\u001b[1;32m----> 1\u001b[0m countries_ref_df\u001b[39m.\u001b[39mmap_rows(\u001b[39mlambda\u001b[39;00m x: (process\u001b[39m.\u001b[39;49mextractOne(x[\u001b[39m0\u001b[39;49m],flags_df[\u001b[39m'\u001b[39;49m\u001b[39mcountry\u001b[39;49m\u001b[39m'\u001b[39;49m],scorer\u001b[39m=\u001b[39;49mfuzz\u001b[39m.\u001b[39;49mtoken_set_ratio)) \u001b[39m+\u001b[39;49m  (x[\u001b[39m0\u001b[39;49m]))\n",
      "\u001b[1;31mTypeError\u001b[0m: can only concatenate tuple (not \"str\") to tuple"
     ]
    }
   ],
   "source": [
    "countries_ref_df.map_rows(lambda x: (process.extractOne(x[0],flags_df['country'],scorer=fuzz.token_set_ratio)) +  (x[0]))"
   ]
  },
  {
   "cell_type": "code",
   "execution_count": 158,
   "metadata": {},
   "outputs": [
    {
     "ename": "ShapeError",
     "evalue": "could not create a new DataFrame: series \"column_0\" has length 262 while series \"column_6\" has length 250",
     "output_type": "error",
     "traceback": [
      "\u001b[1;31m---------------------------------------------------------------------------\u001b[0m",
      "\u001b[1;31mShapeError\u001b[0m                                Traceback (most recent call last)",
      "Cell \u001b[1;32mIn[158], line 1\u001b[0m\n\u001b[1;32m----> 1\u001b[0m countries_ref_df\u001b[39m.\u001b[39;49mmap_rows(\u001b[39mlambda\u001b[39;49;00m x: (process\u001b[39m.\u001b[39;49mextractOne(x[\u001b[39m0\u001b[39;49m],flags_df[\u001b[39m'\u001b[39;49m\u001b[39mcountry\u001b[39;49m\u001b[39m'\u001b[39;49m],scorer\u001b[39m=\u001b[39;49mfuzz\u001b[39m.\u001b[39;49mtoken_set_ratio)) \u001b[39m+\u001b[39;49m  \u001b[39mtuple\u001b[39;49m(x[\u001b[39m0\u001b[39;49m]))\n",
      "File \u001b[1;32mc:\\Users\\27722\\AppData\\Local\\Programs\\Python\\Python312\\Lib\\site-packages\\polars\\dataframe\\frame.py:6981\u001b[0m, in \u001b[0;36mDataFrame.map_rows\u001b[1;34m(self, function, return_dtype, inference_size)\u001b[0m\n\u001b[0;32m   6892\u001b[0m \u001b[39m\u001b[39m\u001b[39m\"\"\"\u001b[39;00m\n\u001b[0;32m   6893\u001b[0m \u001b[39mApply a custom/user-defined function (UDF) over the rows of the DataFrame.\u001b[39;00m\n\u001b[0;32m   6894\u001b[0m \n\u001b[1;32m   (...)\u001b[0m\n\u001b[0;32m   6975\u001b[0m \u001b[39m>>> df.select(pl.col(\"foo\") * 2 + pl.col(\"bar\"))  # doctest: +IGNORE_RESULT\u001b[39;00m\n\u001b[0;32m   6976\u001b[0m \u001b[39m\"\"\"\u001b[39;00m\n\u001b[0;32m   6977\u001b[0m \u001b[39m# TODO: Enable warning for inefficient map\u001b[39;00m\n\u001b[0;32m   6978\u001b[0m \u001b[39m# from polars._utils.udfs import warn_on_inefficient_map\u001b[39;00m\n\u001b[0;32m   6979\u001b[0m \u001b[39m# warn_on_inefficient_map(function, columns=self.columns, map_target=\"frame)\u001b[39;00m\n\u001b[1;32m-> 6981\u001b[0m out, is_df \u001b[39m=\u001b[39m \u001b[39mself\u001b[39;49m\u001b[39m.\u001b[39;49m_df\u001b[39m.\u001b[39;49mmap_rows(function, return_dtype, inference_size)\n\u001b[0;32m   6982\u001b[0m \u001b[39mif\u001b[39;00m is_df:\n\u001b[0;32m   6983\u001b[0m     \u001b[39mreturn\u001b[39;00m \u001b[39mself\u001b[39m\u001b[39m.\u001b[39m_from_pydf(out)\n",
      "\u001b[1;31mShapeError\u001b[0m: could not create a new DataFrame: series \"column_0\" has length 262 while series \"column_6\" has length 250"
     ]
    }
   ],
   "source": [
    "countries_ref_df.map_rows(lambda x: (process.extractOne(x[0],flags_df['country'],scorer=fuzz.token_set_ratio)) +  tuple(x[0]))"
   ]
  },
  {
   "cell_type": "code",
   "execution_count": 159,
   "metadata": {},
   "outputs": [
    {
     "ename": "ShapeError",
     "evalue": "could not create a new DataFrame: series \"column_0\" has length 262 while series \"column_6\" has length 250",
     "output_type": "error",
     "traceback": [
      "\u001b[1;31m---------------------------------------------------------------------------\u001b[0m",
      "\u001b[1;31mShapeError\u001b[0m                                Traceback (most recent call last)",
      "Cell \u001b[1;32mIn[159], line 1\u001b[0m\n\u001b[1;32m----> 1\u001b[0m countries_ref_df\u001b[39m.\u001b[39;49mmap_rows(\u001b[39mlambda\u001b[39;49;00m x: (process\u001b[39m.\u001b[39;49mextractOne(x[\u001b[39m0\u001b[39;49m],flags_df[\u001b[39m'\u001b[39;49m\u001b[39mcountry\u001b[39;49m\u001b[39m'\u001b[39;49m],scorer\u001b[39m=\u001b[39;49mfuzz\u001b[39m.\u001b[39;49mtoken_set_ratio)) \u001b[39m+\u001b[39;49m \u001b[39mtuple\u001b[39;49m(x[\u001b[39m0\u001b[39;49m]))\n",
      "File \u001b[1;32mc:\\Users\\27722\\AppData\\Local\\Programs\\Python\\Python312\\Lib\\site-packages\\polars\\dataframe\\frame.py:6981\u001b[0m, in \u001b[0;36mDataFrame.map_rows\u001b[1;34m(self, function, return_dtype, inference_size)\u001b[0m\n\u001b[0;32m   6892\u001b[0m \u001b[39m\u001b[39m\u001b[39m\"\"\"\u001b[39;00m\n\u001b[0;32m   6893\u001b[0m \u001b[39mApply a custom/user-defined function (UDF) over the rows of the DataFrame.\u001b[39;00m\n\u001b[0;32m   6894\u001b[0m \n\u001b[1;32m   (...)\u001b[0m\n\u001b[0;32m   6975\u001b[0m \u001b[39m>>> df.select(pl.col(\"foo\") * 2 + pl.col(\"bar\"))  # doctest: +IGNORE_RESULT\u001b[39;00m\n\u001b[0;32m   6976\u001b[0m \u001b[39m\"\"\"\u001b[39;00m\n\u001b[0;32m   6977\u001b[0m \u001b[39m# TODO: Enable warning for inefficient map\u001b[39;00m\n\u001b[0;32m   6978\u001b[0m \u001b[39m# from polars._utils.udfs import warn_on_inefficient_map\u001b[39;00m\n\u001b[0;32m   6979\u001b[0m \u001b[39m# warn_on_inefficient_map(function, columns=self.columns, map_target=\"frame)\u001b[39;00m\n\u001b[1;32m-> 6981\u001b[0m out, is_df \u001b[39m=\u001b[39m \u001b[39mself\u001b[39;49m\u001b[39m.\u001b[39;49m_df\u001b[39m.\u001b[39;49mmap_rows(function, return_dtype, inference_size)\n\u001b[0;32m   6982\u001b[0m \u001b[39mif\u001b[39;00m is_df:\n\u001b[0;32m   6983\u001b[0m     \u001b[39mreturn\u001b[39;00m \u001b[39mself\u001b[39m\u001b[39m.\u001b[39m_from_pydf(out)\n",
      "\u001b[1;31mShapeError\u001b[0m: could not create a new DataFrame: series \"column_0\" has length 262 while series \"column_6\" has length 250"
     ]
    }
   ],
   "source": [
    "countries_ref_df.map_rows(lambda x: (process.extractOne(x[0],flags_df['country'],scorer=fuzz.token_set_ratio)) + tuple(x[0]))"
   ]
  },
  {
   "cell_type": "code",
   "execution_count": 160,
   "metadata": {},
   "outputs": [
    {
     "ename": "SyntaxError",
     "evalue": "unmatched ')' (<ipython-input-160-e3c8db21c417>, line 1)",
     "output_type": "error",
     "traceback": [
      "\u001b[1;36m  Cell \u001b[1;32mIn[160], line 1\u001b[1;36m\u001b[0m\n\u001b[1;33m    countries_ref_df.map_rows(lambda x: (process.extractOne(x[0],flags_df['country'],scorer=fuzz.token_set_ratio)) + ';' + x[0]))\u001b[0m\n\u001b[1;37m                                                                                                                                ^\u001b[0m\n\u001b[1;31mSyntaxError\u001b[0m\u001b[1;31m:\u001b[0m unmatched ')'\n"
     ]
    }
   ],
   "source": [
    "countries_ref_df.map_rows(lambda x: (process.extractOne(x[0],flags_df['country'],scorer=fuzz.token_set_ratio)) + ';' + x[0]))"
   ]
  },
  {
   "cell_type": "code",
   "execution_count": 161,
   "metadata": {},
   "outputs": [
    {
     "ename": "TypeError",
     "evalue": "can only concatenate tuple (not \"str\") to tuple",
     "output_type": "error",
     "traceback": [
      "\u001b[1;31m---------------------------------------------------------------------------\u001b[0m",
      "\u001b[1;31mTypeError\u001b[0m                                 Traceback (most recent call last)",
      "Cell \u001b[1;32mIn[161], line 1\u001b[0m\n\u001b[1;32m----> 1\u001b[0m countries_ref_df\u001b[39m.\u001b[39;49mmap_rows(\u001b[39mlambda\u001b[39;49;00m x: (process\u001b[39m.\u001b[39;49mextractOne(x[\u001b[39m0\u001b[39;49m],flags_df[\u001b[39m'\u001b[39;49m\u001b[39mcountry\u001b[39;49m\u001b[39m'\u001b[39;49m],scorer\u001b[39m=\u001b[39;49mfuzz\u001b[39m.\u001b[39;49mtoken_set_ratio)) \u001b[39m+\u001b[39;49m \u001b[39m'\u001b[39;49m\u001b[39m;\u001b[39;49m\u001b[39m'\u001b[39;49m \u001b[39m+\u001b[39;49m (x[\u001b[39m0\u001b[39;49m]))\n",
      "File \u001b[1;32mc:\\Users\\27722\\AppData\\Local\\Programs\\Python\\Python312\\Lib\\site-packages\\polars\\dataframe\\frame.py:6981\u001b[0m, in \u001b[0;36mDataFrame.map_rows\u001b[1;34m(self, function, return_dtype, inference_size)\u001b[0m\n\u001b[0;32m   6892\u001b[0m \u001b[39m\u001b[39m\u001b[39m\"\"\"\u001b[39;00m\n\u001b[0;32m   6893\u001b[0m \u001b[39mApply a custom/user-defined function (UDF) over the rows of the DataFrame.\u001b[39;00m\n\u001b[0;32m   6894\u001b[0m \n\u001b[1;32m   (...)\u001b[0m\n\u001b[0;32m   6975\u001b[0m \u001b[39m>>> df.select(pl.col(\"foo\") * 2 + pl.col(\"bar\"))  # doctest: +IGNORE_RESULT\u001b[39;00m\n\u001b[0;32m   6976\u001b[0m \u001b[39m\"\"\"\u001b[39;00m\n\u001b[0;32m   6977\u001b[0m \u001b[39m# TODO: Enable warning for inefficient map\u001b[39;00m\n\u001b[0;32m   6978\u001b[0m \u001b[39m# from polars._utils.udfs import warn_on_inefficient_map\u001b[39;00m\n\u001b[0;32m   6979\u001b[0m \u001b[39m# warn_on_inefficient_map(function, columns=self.columns, map_target=\"frame)\u001b[39;00m\n\u001b[1;32m-> 6981\u001b[0m out, is_df \u001b[39m=\u001b[39m \u001b[39mself\u001b[39;49m\u001b[39m.\u001b[39;49m_df\u001b[39m.\u001b[39;49mmap_rows(function, return_dtype, inference_size)\n\u001b[0;32m   6982\u001b[0m \u001b[39mif\u001b[39;00m is_df:\n\u001b[0;32m   6983\u001b[0m     \u001b[39mreturn\u001b[39;00m \u001b[39mself\u001b[39m\u001b[39m.\u001b[39m_from_pydf(out)\n",
      "Cell \u001b[1;32mIn[161], line 1\u001b[0m, in \u001b[0;36m<lambda>\u001b[1;34m(x)\u001b[0m\n\u001b[1;32m----> 1\u001b[0m countries_ref_df\u001b[39m.\u001b[39mmap_rows(\u001b[39mlambda\u001b[39;00m x: (process\u001b[39m.\u001b[39;49mextractOne(x[\u001b[39m0\u001b[39;49m],flags_df[\u001b[39m'\u001b[39;49m\u001b[39mcountry\u001b[39;49m\u001b[39m'\u001b[39;49m],scorer\u001b[39m=\u001b[39;49mfuzz\u001b[39m.\u001b[39;49mtoken_set_ratio)) \u001b[39m+\u001b[39;49m \u001b[39m'\u001b[39;49m\u001b[39m;\u001b[39;49m\u001b[39m'\u001b[39;49m \u001b[39m+\u001b[39m (x[\u001b[39m0\u001b[39m]))\n",
      "\u001b[1;31mTypeError\u001b[0m: can only concatenate tuple (not \"str\") to tuple"
     ]
    }
   ],
   "source": [
    "countries_ref_df.map_rows(lambda x: (process.extractOne(x[0],flags_df['country'],scorer=fuzz.token_set_ratio)) + ';' + (x[0]))"
   ]
  },
  {
   "cell_type": "code",
   "execution_count": 162,
   "metadata": {},
   "outputs": [
    {
     "data": {
      "text/html": [
       "<div><style>\n",
       ".dataframe > thead > tr,\n",
       ".dataframe > tbody > tr {\n",
       "  text-align: right;\n",
       "  white-space: pre-wrap;\n",
       "}\n",
       "</style>\n",
       "<small>shape: (262, 1)</small><table border=\"1\" class=\"dataframe\"><thead><tr><th>map</th></tr><tr><td>str</td></tr></thead><tbody><tr><td>&quot;Ivory Coast;Ivory Coast&quot;</td></tr><tr><td>&quot;Ivory Coast;Ivory Coast&quot;</td></tr><tr><td>&quot;United Arab Emirates;United Ar…</td></tr><tr><td>&quot;Nigeria;Nigeria&quot;</td></tr><tr><td>&quot;Ghana;Ghana&quot;</td></tr><tr><td>&hellip;</td></tr><tr><td>&quot;Namibia;Namibia&quot;</td></tr><tr><td>&quot;Cameroon;Cameroon&quot;</td></tr><tr><td>&quot;Nauru;Nauru&quot;</td></tr><tr><td>&quot;Armenia;Armenia&quot;</td></tr><tr><td>&quot;Croatia;Croatia&quot;</td></tr></tbody></table></div>"
      ],
      "text/plain": [
       "shape: (262, 1)\n",
       "┌─────────────────────────────────┐\n",
       "│ map                             │\n",
       "│ ---                             │\n",
       "│ str                             │\n",
       "╞═════════════════════════════════╡\n",
       "│ Ivory Coast;Ivory Coast         │\n",
       "│ Ivory Coast;Ivory Coast         │\n",
       "│ United Arab Emirates;United Ar… │\n",
       "│ Nigeria;Nigeria                 │\n",
       "│ Ghana;Ghana                     │\n",
       "│ …                               │\n",
       "│ Namibia;Namibia                 │\n",
       "│ Cameroon;Cameroon               │\n",
       "│ Nauru;Nauru                     │\n",
       "│ Armenia;Armenia                 │\n",
       "│ Croatia;Croatia                 │\n",
       "└─────────────────────────────────┘"
      ]
     },
     "execution_count": 162,
     "metadata": {},
     "output_type": "execute_result"
    }
   ],
   "source": [
    "countries_ref_df.map_rows(lambda x: (process.extractOne(x[0],flags_df['country'],scorer=fuzz.token_set_ratio)[0]) + ';' + x[0])"
   ]
  },
  {
   "cell_type": "code",
   "execution_count": 163,
   "metadata": {},
   "outputs": [
    {
     "ename": "SyntaxError",
     "evalue": "unmatched ')' (<ipython-input-163-e3c8db21c417>, line 1)",
     "output_type": "error",
     "traceback": [
      "\u001b[1;36m  Cell \u001b[1;32mIn[163], line 1\u001b[1;36m\u001b[0m\n\u001b[1;33m    countries_ref_df.map_rows(lambda x: (process.extractOne(x[0],flags_df['country'],scorer=fuzz.token_set_ratio)) + ';' + x[0]))\u001b[0m\n\u001b[1;37m                                                                                                                                ^\u001b[0m\n\u001b[1;31mSyntaxError\u001b[0m\u001b[1;31m:\u001b[0m unmatched ')'\n"
     ]
    }
   ],
   "source": [
    "countries_ref_df.map_rows(lambda x: (process.extractOne(x[0],flags_df['country'],scorer=fuzz.token_set_ratio)) + ';' + x[0]))"
   ]
  },
  {
   "cell_type": "code",
   "execution_count": 164,
   "metadata": {},
   "outputs": [
    {
     "data": {
      "text/html": [
       "<div><style>\n",
       ".dataframe > thead > tr,\n",
       ".dataframe > tbody > tr {\n",
       "  text-align: right;\n",
       "  white-space: pre-wrap;\n",
       "}\n",
       "</style>\n",
       "<small>shape: (262, 1)</small><table border=\"1\" class=\"dataframe\"><thead><tr><th>map</th></tr><tr><td>str</td></tr></thead><tbody><tr><td>&quot;Ivory Coast;Ivory Coast&quot;</td></tr><tr><td>&quot;Ivory Coast;Ivory Coast&quot;</td></tr><tr><td>&quot;United Arab Emirates;United Ar…</td></tr><tr><td>&quot;Nigeria;Nigeria&quot;</td></tr><tr><td>&quot;Ghana;Ghana&quot;</td></tr><tr><td>&hellip;</td></tr><tr><td>&quot;Namibia;Namibia&quot;</td></tr><tr><td>&quot;Cameroon;Cameroon&quot;</td></tr><tr><td>&quot;Nauru;Nauru&quot;</td></tr><tr><td>&quot;Armenia;Armenia&quot;</td></tr><tr><td>&quot;Croatia;Croatia&quot;</td></tr></tbody></table></div>"
      ],
      "text/plain": [
       "shape: (262, 1)\n",
       "┌─────────────────────────────────┐\n",
       "│ map                             │\n",
       "│ ---                             │\n",
       "│ str                             │\n",
       "╞═════════════════════════════════╡\n",
       "│ Ivory Coast;Ivory Coast         │\n",
       "│ Ivory Coast;Ivory Coast         │\n",
       "│ United Arab Emirates;United Ar… │\n",
       "│ Nigeria;Nigeria                 │\n",
       "│ Ghana;Ghana                     │\n",
       "│ …                               │\n",
       "│ Namibia;Namibia                 │\n",
       "│ Cameroon;Cameroon               │\n",
       "│ Nauru;Nauru                     │\n",
       "│ Armenia;Armenia                 │\n",
       "│ Croatia;Croatia                 │\n",
       "└─────────────────────────────────┘"
      ]
     },
     "execution_count": 164,
     "metadata": {},
     "output_type": "execute_result"
    }
   ],
   "source": [
    "countries_ref_df.map_rows(lambda x: (process.extractOne(x[0],flags_df['country'],scorer=fuzz.token_set_ratio)[0]) + ';' + x[0])"
   ]
  },
  {
   "cell_type": "code",
   "execution_count": 165,
   "metadata": {},
   "outputs": [
    {
     "ename": "AttributeError",
     "evalue": "'DataFrame' object has no attribute 'split'",
     "output_type": "error",
     "traceback": [
      "\u001b[1;31m---------------------------------------------------------------------------\u001b[0m",
      "\u001b[1;31mAttributeError\u001b[0m                            Traceback (most recent call last)",
      "Cell \u001b[1;32mIn[165], line 1\u001b[0m\n\u001b[1;32m----> 1\u001b[0m countries_ref_df\u001b[39m.\u001b[39;49mmap_rows(\u001b[39mlambda\u001b[39;49;00m x: (process\u001b[39m.\u001b[39;49mextractOne(x[\u001b[39m0\u001b[39;49m],flags_df[\u001b[39m'\u001b[39;49m\u001b[39mcountry\u001b[39;49m\u001b[39m'\u001b[39;49m],scorer\u001b[39m=\u001b[39;49mfuzz\u001b[39m.\u001b[39;49mtoken_set_ratio)[\u001b[39m0\u001b[39;49m]) \u001b[39m+\u001b[39;49m \u001b[39m'\u001b[39;49m\u001b[39m;\u001b[39;49m\u001b[39m'\u001b[39;49m \u001b[39m+\u001b[39;49m x[\u001b[39m0\u001b[39;49m])\u001b[39m.\u001b[39;49msplit(\u001b[39m'\u001b[39m\u001b[39m;\u001b[39m\u001b[39m'\u001b[39m)\n",
      "\u001b[1;31mAttributeError\u001b[0m: 'DataFrame' object has no attribute 'split'"
     ]
    }
   ],
   "source": [
    "countries_ref_df.map_rows(lambda x: (process.extractOne(x[0],flags_df['country'],scorer=fuzz.token_set_ratio)[0]) + ';' + x[0]).split(';')"
   ]
  },
  {
   "cell_type": "code",
   "execution_count": 166,
   "metadata": {},
   "outputs": [
    {
     "data": {
      "text/html": [
       "<div><style>\n",
       ".dataframe > thead > tr,\n",
       ".dataframe > tbody > tr {\n",
       "  text-align: right;\n",
       "  white-space: pre-wrap;\n",
       "}\n",
       "</style>\n",
       "<small>shape: (262, 1)</small><table border=\"1\" class=\"dataframe\"><thead><tr><th>map</th></tr><tr><td>list[str]</td></tr></thead><tbody><tr><td>[&quot;Ivory Coast&quot;, &quot;Ivory Coast&quot;]</td></tr><tr><td>[&quot;Ivory Coast&quot;, &quot;Ivory Coast&quot;]</td></tr><tr><td>[&quot;United Arab Emirates&quot;, &quot;United Arab Emirates&quot;]</td></tr><tr><td>[&quot;Nigeria&quot;, &quot;Nigeria&quot;]</td></tr><tr><td>[&quot;Ghana&quot;, &quot;Ghana&quot;]</td></tr><tr><td>&hellip;</td></tr><tr><td>[&quot;Namibia&quot;, &quot;Namibia&quot;]</td></tr><tr><td>[&quot;Cameroon&quot;, &quot;Cameroon&quot;]</td></tr><tr><td>[&quot;Nauru&quot;, &quot;Nauru&quot;]</td></tr><tr><td>[&quot;Armenia&quot;, &quot;Armenia&quot;]</td></tr><tr><td>[&quot;Croatia&quot;, &quot;Croatia&quot;]</td></tr></tbody></table></div>"
      ],
      "text/plain": [
       "shape: (262, 1)\n",
       "┌─────────────────────────────────┐\n",
       "│ map                             │\n",
       "│ ---                             │\n",
       "│ list[str]                       │\n",
       "╞═════════════════════════════════╡\n",
       "│ [\"Ivory Coast\", \"Ivory Coast\"]  │\n",
       "│ [\"Ivory Coast\", \"Ivory Coast\"]  │\n",
       "│ [\"United Arab Emirates\", \"Unit… │\n",
       "│ [\"Nigeria\", \"Nigeria\"]          │\n",
       "│ [\"Ghana\", \"Ghana\"]              │\n",
       "│ …                               │\n",
       "│ [\"Namibia\", \"Namibia\"]          │\n",
       "│ [\"Cameroon\", \"Cameroon\"]        │\n",
       "│ [\"Nauru\", \"Nauru\"]              │\n",
       "│ [\"Armenia\", \"Armenia\"]          │\n",
       "│ [\"Croatia\", \"Croatia\"]          │\n",
       "└─────────────────────────────────┘"
      ]
     },
     "execution_count": 166,
     "metadata": {},
     "output_type": "execute_result"
    }
   ],
   "source": [
    "countries_ref_df.map_rows(lambda x: (process.extractOne(x[0],flags_df['country'],scorer=fuzz.token_set_ratio)[0]) + ';' + x[0]).select(pl.col('map').str.split(';'))"
   ]
  },
  {
   "cell_type": "code",
   "execution_count": 167,
   "metadata": {},
   "outputs": [
    {
     "ename": "AttributeError",
     "evalue": "'DataFrame' object has no attribute 'arr_to_struct'",
     "output_type": "error",
     "traceback": [
      "\u001b[1;31m---------------------------------------------------------------------------\u001b[0m",
      "\u001b[1;31mAttributeError\u001b[0m                            Traceback (most recent call last)",
      "Cell \u001b[1;32mIn[167], line 1\u001b[0m\n\u001b[1;32m----> 1\u001b[0m countries_ref_df\u001b[39m.\u001b[39;49mmap_rows(\u001b[39mlambda\u001b[39;49;00m x: (process\u001b[39m.\u001b[39;49mextractOne(x[\u001b[39m0\u001b[39;49m],flags_df[\u001b[39m'\u001b[39;49m\u001b[39mcountry\u001b[39;49m\u001b[39m'\u001b[39;49m],scorer\u001b[39m=\u001b[39;49mfuzz\u001b[39m.\u001b[39;49mtoken_set_ratio)[\u001b[39m0\u001b[39;49m]) \u001b[39m+\u001b[39;49m \u001b[39m'\u001b[39;49m\u001b[39m;\u001b[39;49m\u001b[39m'\u001b[39;49m \u001b[39m+\u001b[39;49m x[\u001b[39m0\u001b[39;49m])\u001b[39m.\u001b[39;49mselect(pl\u001b[39m.\u001b[39;49mcol(\u001b[39m'\u001b[39;49m\u001b[39mmap\u001b[39;49m\u001b[39m'\u001b[39;49m)\u001b[39m.\u001b[39;49mstr\u001b[39m.\u001b[39;49msplit(\u001b[39m'\u001b[39;49m\u001b[39m;\u001b[39;49m\u001b[39m'\u001b[39;49m))\u001b[39m.\u001b[39;49marr_to_struct()\n",
      "\u001b[1;31mAttributeError\u001b[0m: 'DataFrame' object has no attribute 'arr_to_struct'"
     ]
    }
   ],
   "source": [
    "countries_ref_df.map_rows(lambda x: (process.extractOne(x[0],flags_df['country'],scorer=fuzz.token_set_ratio)[0]) + ';' + x[0]).select(pl.col('map').str.split(';')).arr_to_struct()"
   ]
  },
  {
   "cell_type": "code",
   "execution_count": 168,
   "metadata": {},
   "outputs": [
    {
     "ename": "AttributeError",
     "evalue": "'Expr' object has no attribute 'arr_to_struct'",
     "output_type": "error",
     "traceback": [
      "\u001b[1;31m---------------------------------------------------------------------------\u001b[0m",
      "\u001b[1;31mAttributeError\u001b[0m                            Traceback (most recent call last)",
      "Cell \u001b[1;32mIn[168], line 1\u001b[0m\n\u001b[1;32m----> 1\u001b[0m countries_ref_df\u001b[39m.\u001b[39mmap_rows(\u001b[39mlambda\u001b[39;00m x: (process\u001b[39m.\u001b[39mextractOne(x[\u001b[39m0\u001b[39m],flags_df[\u001b[39m'\u001b[39m\u001b[39mcountry\u001b[39m\u001b[39m'\u001b[39m],scorer\u001b[39m=\u001b[39mfuzz\u001b[39m.\u001b[39mtoken_set_ratio)[\u001b[39m0\u001b[39m]) \u001b[39m+\u001b[39m \u001b[39m'\u001b[39m\u001b[39m;\u001b[39m\u001b[39m'\u001b[39m \u001b[39m+\u001b[39m x[\u001b[39m0\u001b[39m])\u001b[39m.\u001b[39mselect(pl\u001b[39m.\u001b[39;49mcol(\u001b[39m'\u001b[39;49m\u001b[39mmap\u001b[39;49m\u001b[39m'\u001b[39;49m)\u001b[39m.\u001b[39;49mstr\u001b[39m.\u001b[39;49msplit(\u001b[39m'\u001b[39;49m\u001b[39m;\u001b[39;49m\u001b[39m'\u001b[39;49m)\u001b[39m.\u001b[39;49marr_to_struct())\n",
      "\u001b[1;31mAttributeError\u001b[0m: 'Expr' object has no attribute 'arr_to_struct'"
     ]
    }
   ],
   "source": [
    "countries_ref_df.map_rows(lambda x: (process.extractOne(x[0],flags_df['country'],scorer=fuzz.token_set_ratio)[0]) + ';' + x[0]).select(pl.col('map').str.split(';').arr_to_struct())"
   ]
  },
  {
   "cell_type": "code",
   "execution_count": 169,
   "metadata": {},
   "outputs": [
    {
     "ename": "AttributeError",
     "evalue": "'Expr' object has no attribute 'arr_to_struct'",
     "output_type": "error",
     "traceback": [
      "\u001b[1;31m---------------------------------------------------------------------------\u001b[0m",
      "\u001b[1;31mAttributeError\u001b[0m                            Traceback (most recent call last)",
      "Cell \u001b[1;32mIn[169], line 1\u001b[0m\n\u001b[1;32m----> 1\u001b[0m countries_ref_df\u001b[39m.\u001b[39mmap_rows(\u001b[39mlambda\u001b[39;00m x: (process\u001b[39m.\u001b[39mextractOne(x[\u001b[39m0\u001b[39m],flags_df[\u001b[39m'\u001b[39m\u001b[39mcountry\u001b[39m\u001b[39m'\u001b[39m],scorer\u001b[39m=\u001b[39mfuzz\u001b[39m.\u001b[39mtoken_set_ratio)[\u001b[39m0\u001b[39m]) \u001b[39m+\u001b[39m \u001b[39m'\u001b[39m\u001b[39m;\u001b[39m\u001b[39m'\u001b[39m \u001b[39m+\u001b[39m x[\u001b[39m0\u001b[39m])\u001b[39m.\u001b[39mselect(pl\u001b[39m.\u001b[39;49mcol(\u001b[39m'\u001b[39;49m\u001b[39mmap\u001b[39;49m\u001b[39m'\u001b[39;49m)\u001b[39m.\u001b[39;49mstr\u001b[39m.\u001b[39;49msplit(\u001b[39m'\u001b[39;49m\u001b[39m;\u001b[39;49m\u001b[39m'\u001b[39;49m)\u001b[39m.\u001b[39;49marr_to_struct(n_field_strategy\u001b[39m=\u001b[39m\u001b[39m\"\u001b[39m\u001b[39mmax_width\u001b[39m\u001b[39m\"\u001b[39m))\n",
      "\u001b[1;31mAttributeError\u001b[0m: 'Expr' object has no attribute 'arr_to_struct'"
     ]
    }
   ],
   "source": [
    "countries_ref_df.map_rows(lambda x: (process.extractOne(x[0],flags_df['country'],scorer=fuzz.token_set_ratio)[0]) + ';' + x[0]).select(pl.col('map').str.split(';').arr_to_struct(n_field_strategy=\"max_width\"))"
   ]
  },
  {
   "cell_type": "code",
   "execution_count": 170,
   "metadata": {},
   "outputs": [
    {
     "ename": "TypeError",
     "evalue": "ExprArrayNameSpace.to_struct() got an unexpected keyword argument 'n_field_strategy'",
     "output_type": "error",
     "traceback": [
      "\u001b[1;31m---------------------------------------------------------------------------\u001b[0m",
      "\u001b[1;31mTypeError\u001b[0m                                 Traceback (most recent call last)",
      "Cell \u001b[1;32mIn[170], line 1\u001b[0m\n\u001b[1;32m----> 1\u001b[0m countries_ref_df\u001b[39m.\u001b[39mmap_rows(\u001b[39mlambda\u001b[39;00m x: (process\u001b[39m.\u001b[39mextractOne(x[\u001b[39m0\u001b[39m],flags_df[\u001b[39m'\u001b[39m\u001b[39mcountry\u001b[39m\u001b[39m'\u001b[39m],scorer\u001b[39m=\u001b[39mfuzz\u001b[39m.\u001b[39mtoken_set_ratio)[\u001b[39m0\u001b[39m]) \u001b[39m+\u001b[39m \u001b[39m'\u001b[39m\u001b[39m;\u001b[39m\u001b[39m'\u001b[39m \u001b[39m+\u001b[39m x[\u001b[39m0\u001b[39m])\u001b[39m.\u001b[39mselect(pl\u001b[39m.\u001b[39;49mcol(\u001b[39m'\u001b[39;49m\u001b[39mmap\u001b[39;49m\u001b[39m'\u001b[39;49m)\u001b[39m.\u001b[39;49mstr\u001b[39m.\u001b[39;49msplit(\u001b[39m'\u001b[39;49m\u001b[39m;\u001b[39;49m\u001b[39m'\u001b[39;49m)\u001b[39m.\u001b[39;49marr\u001b[39m.\u001b[39;49mto_struct(n_field_strategy\u001b[39m=\u001b[39;49m\u001b[39m\"\u001b[39;49m\u001b[39mmax_width\u001b[39;49m\u001b[39m\"\u001b[39;49m))\n",
      "\u001b[1;31mTypeError\u001b[0m: ExprArrayNameSpace.to_struct() got an unexpected keyword argument 'n_field_strategy'"
     ]
    }
   ],
   "source": [
    "countries_ref_df.map_rows(lambda x: (process.extractOne(x[0],flags_df['country'],scorer=fuzz.token_set_ratio)[0]) + ';' + x[0]).select(pl.col('map').str.split(';').arr.to_struct(n_field_strategy=\"max_width\"))"
   ]
  },
  {
   "cell_type": "code",
   "execution_count": 171,
   "metadata": {},
   "outputs": [
    {
     "ename": "AttributeError",
     "evalue": "'Expr' object has no attribute 'unnest'",
     "output_type": "error",
     "traceback": [
      "\u001b[1;31m---------------------------------------------------------------------------\u001b[0m",
      "\u001b[1;31mAttributeError\u001b[0m                            Traceback (most recent call last)",
      "Cell \u001b[1;32mIn[171], line 1\u001b[0m\n\u001b[1;32m----> 1\u001b[0m countries_ref_df\u001b[39m.\u001b[39mmap_rows(\u001b[39mlambda\u001b[39;00m x: (process\u001b[39m.\u001b[39mextractOne(x[\u001b[39m0\u001b[39m],flags_df[\u001b[39m'\u001b[39m\u001b[39mcountry\u001b[39m\u001b[39m'\u001b[39m],scorer\u001b[39m=\u001b[39mfuzz\u001b[39m.\u001b[39mtoken_set_ratio)[\u001b[39m0\u001b[39m]) \u001b[39m+\u001b[39m \u001b[39m'\u001b[39m\u001b[39m;\u001b[39m\u001b[39m'\u001b[39m \u001b[39m+\u001b[39m x[\u001b[39m0\u001b[39m])\u001b[39m.\u001b[39mselect(pl\u001b[39m.\u001b[39;49mcol(\u001b[39m'\u001b[39;49m\u001b[39mmap\u001b[39;49m\u001b[39m'\u001b[39;49m)\u001b[39m.\u001b[39;49mstr\u001b[39m.\u001b[39;49msplit(\u001b[39m'\u001b[39;49m\u001b[39m;\u001b[39;49m\u001b[39m'\u001b[39;49m)\u001b[39m.\u001b[39;49marr\u001b[39m.\u001b[39;49mto_struct()\u001b[39m.\u001b[39;49munnest())\n",
      "\u001b[1;31mAttributeError\u001b[0m: 'Expr' object has no attribute 'unnest'"
     ]
    }
   ],
   "source": [
    "countries_ref_df.map_rows(lambda x: (process.extractOne(x[0],flags_df['country'],scorer=fuzz.token_set_ratio)[0]) + ';' + x[0]).select(pl.col('map').str.split(';').arr.to_struct().unnest())"
   ]
  },
  {
   "cell_type": "code",
   "execution_count": 172,
   "metadata": {},
   "outputs": [
    {
     "ename": "PanicException",
     "evalue": "Only array dtype is expected for `arr.to_struct`.",
     "output_type": "error",
     "traceback": [
      "\u001b[1;31m---------------------------------------------------------------------------\u001b[0m",
      "\u001b[1;31mPanicException\u001b[0m                            Traceback (most recent call last)",
      "Cell \u001b[1;32mIn[172], line 1\u001b[0m\n\u001b[1;32m----> 1\u001b[0m countries_ref_df\u001b[39m.\u001b[39;49mmap_rows(\u001b[39mlambda\u001b[39;49;00m x: (process\u001b[39m.\u001b[39;49mextractOne(x[\u001b[39m0\u001b[39;49m],flags_df[\u001b[39m'\u001b[39;49m\u001b[39mcountry\u001b[39;49m\u001b[39m'\u001b[39;49m],scorer\u001b[39m=\u001b[39;49mfuzz\u001b[39m.\u001b[39;49mtoken_set_ratio)[\u001b[39m0\u001b[39;49m]) \u001b[39m+\u001b[39;49m \u001b[39m'\u001b[39;49m\u001b[39m;\u001b[39;49m\u001b[39m'\u001b[39;49m \u001b[39m+\u001b[39;49m x[\u001b[39m0\u001b[39;49m])\u001b[39m.\u001b[39;49mselect(pl\u001b[39m.\u001b[39;49mcol(\u001b[39m'\u001b[39;49m\u001b[39mmap\u001b[39;49m\u001b[39m'\u001b[39;49m)\u001b[39m.\u001b[39;49mstr\u001b[39m.\u001b[39;49msplit(\u001b[39m'\u001b[39;49m\u001b[39m;\u001b[39;49m\u001b[39m'\u001b[39;49m)\u001b[39m.\u001b[39;49marr\u001b[39m.\u001b[39;49mto_struct())\u001b[39m.\u001b[39munnest()\n",
      "File \u001b[1;32mc:\\Users\\27722\\AppData\\Local\\Programs\\Python\\Python312\\Lib\\site-packages\\polars\\dataframe\\frame.py:8672\u001b[0m, in \u001b[0;36mDataFrame.select\u001b[1;34m(self, *exprs, **named_exprs)\u001b[0m\n\u001b[0;32m   8572\u001b[0m \u001b[39mdef\u001b[39;00m \u001b[39mselect\u001b[39m(\n\u001b[0;32m   8573\u001b[0m     \u001b[39mself\u001b[39m, \u001b[39m*\u001b[39mexprs: IntoExpr \u001b[39m|\u001b[39m Iterable[IntoExpr], \u001b[39m*\u001b[39m\u001b[39m*\u001b[39mnamed_exprs: IntoExpr\n\u001b[0;32m   8574\u001b[0m ) \u001b[39m-\u001b[39m\u001b[39m>\u001b[39m DataFrame:\n\u001b[0;32m   8575\u001b[0m \u001b[39m    \u001b[39m\u001b[39m\"\"\"\u001b[39;00m\n\u001b[0;32m   8576\u001b[0m \u001b[39m    Select columns from this DataFrame.\u001b[39;00m\n\u001b[0;32m   8577\u001b[0m \n\u001b[1;32m   (...)\u001b[0m\n\u001b[0;32m   8670\u001b[0m \u001b[39m    └──────────────┘\u001b[39;00m\n\u001b[0;32m   8671\u001b[0m \u001b[39m    \"\"\"\u001b[39;00m\n\u001b[1;32m-> 8672\u001b[0m     \u001b[39mreturn\u001b[39;00m \u001b[39mself\u001b[39;49m\u001b[39m.\u001b[39;49mlazy()\u001b[39m.\u001b[39;49mselect(\u001b[39m*\u001b[39;49mexprs, \u001b[39m*\u001b[39;49m\u001b[39m*\u001b[39;49mnamed_exprs)\u001b[39m.\u001b[39;49mcollect(_eager\u001b[39m=\u001b[39;49m\u001b[39mTrue\u001b[39;49;00m)\n",
      "File \u001b[1;32mc:\\Users\\27722\\AppData\\Local\\Programs\\Python\\Python312\\Lib\\site-packages\\polars\\lazyframe\\frame.py:1942\u001b[0m, in \u001b[0;36mLazyFrame.collect\u001b[1;34m(self, type_coercion, predicate_pushdown, projection_pushdown, simplify_expression, slice_pushdown, comm_subplan_elim, comm_subexpr_elim, cluster_with_columns, no_optimization, streaming, background, _eager, **_kwargs)\u001b[0m\n\u001b[0;32m   1939\u001b[0m \u001b[39m# Only for testing purposes atm.\u001b[39;00m\n\u001b[0;32m   1940\u001b[0m callback \u001b[39m=\u001b[39m _kwargs\u001b[39m.\u001b[39mget(\u001b[39m\"\u001b[39m\u001b[39mpost_opt_callback\u001b[39m\u001b[39m\"\u001b[39m)\n\u001b[1;32m-> 1942\u001b[0m \u001b[39mreturn\u001b[39;00m wrap_df(ldf\u001b[39m.\u001b[39;49mcollect(callback))\n",
      "\u001b[1;31mPanicException\u001b[0m: Only array dtype is expected for `arr.to_struct`."
     ]
    }
   ],
   "source": [
    "countries_ref_df.map_rows(lambda x: (process.extractOne(x[0],flags_df['country'],scorer=fuzz.token_set_ratio)[0]) + ';' + x[0]).select(pl.col('map').str.split(';').arr.to_struct()).unnest()"
   ]
  },
  {
   "cell_type": "code",
   "execution_count": 173,
   "metadata": {},
   "outputs": [
    {
     "ename": "PanicException",
     "evalue": "Only array dtype is expected for `arr.to_struct`.",
     "output_type": "error",
     "traceback": [
      "\u001b[1;31m---------------------------------------------------------------------------\u001b[0m",
      "\u001b[1;31mPanicException\u001b[0m                            Traceback (most recent call last)",
      "Cell \u001b[1;32mIn[173], line 1\u001b[0m\n\u001b[1;32m----> 1\u001b[0m countries_ref_df\u001b[39m.\u001b[39;49mmap_rows(\u001b[39mlambda\u001b[39;49;00m x: (process\u001b[39m.\u001b[39;49mextractOne(x[\u001b[39m0\u001b[39;49m],flags_df[\u001b[39m'\u001b[39;49m\u001b[39mcountry\u001b[39;49m\u001b[39m'\u001b[39;49m],scorer\u001b[39m=\u001b[39;49mfuzz\u001b[39m.\u001b[39;49mtoken_set_ratio)[\u001b[39m0\u001b[39;49m]) \u001b[39m+\u001b[39;49m \u001b[39m'\u001b[39;49m\u001b[39m;\u001b[39;49m\u001b[39m'\u001b[39;49m \u001b[39m+\u001b[39;49m x[\u001b[39m0\u001b[39;49m])\u001b[39m.\u001b[39;49mselect(pl\u001b[39m.\u001b[39;49mcol(\u001b[39m'\u001b[39;49m\u001b[39mmap\u001b[39;49m\u001b[39m'\u001b[39;49m)\u001b[39m.\u001b[39;49mstr\u001b[39m.\u001b[39;49msplit(\u001b[39m'\u001b[39;49m\u001b[39m;\u001b[39;49m\u001b[39m'\u001b[39;49m)\u001b[39m.\u001b[39;49marr\u001b[39m.\u001b[39;49mto_struct())\u001b[39m.\u001b[39munnest(\u001b[39m'\u001b[39m\u001b[39mmap\u001b[39m\u001b[39m'\u001b[39m)\n",
      "File \u001b[1;32mc:\\Users\\27722\\AppData\\Local\\Programs\\Python\\Python312\\Lib\\site-packages\\polars\\dataframe\\frame.py:8672\u001b[0m, in \u001b[0;36mDataFrame.select\u001b[1;34m(self, *exprs, **named_exprs)\u001b[0m\n\u001b[0;32m   8572\u001b[0m \u001b[39mdef\u001b[39;00m \u001b[39mselect\u001b[39m(\n\u001b[0;32m   8573\u001b[0m     \u001b[39mself\u001b[39m, \u001b[39m*\u001b[39mexprs: IntoExpr \u001b[39m|\u001b[39m Iterable[IntoExpr], \u001b[39m*\u001b[39m\u001b[39m*\u001b[39mnamed_exprs: IntoExpr\n\u001b[0;32m   8574\u001b[0m ) \u001b[39m-\u001b[39m\u001b[39m>\u001b[39m DataFrame:\n\u001b[0;32m   8575\u001b[0m \u001b[39m    \u001b[39m\u001b[39m\"\"\"\u001b[39;00m\n\u001b[0;32m   8576\u001b[0m \u001b[39m    Select columns from this DataFrame.\u001b[39;00m\n\u001b[0;32m   8577\u001b[0m \n\u001b[1;32m   (...)\u001b[0m\n\u001b[0;32m   8670\u001b[0m \u001b[39m    └──────────────┘\u001b[39;00m\n\u001b[0;32m   8671\u001b[0m \u001b[39m    \"\"\"\u001b[39;00m\n\u001b[1;32m-> 8672\u001b[0m     \u001b[39mreturn\u001b[39;00m \u001b[39mself\u001b[39;49m\u001b[39m.\u001b[39;49mlazy()\u001b[39m.\u001b[39;49mselect(\u001b[39m*\u001b[39;49mexprs, \u001b[39m*\u001b[39;49m\u001b[39m*\u001b[39;49mnamed_exprs)\u001b[39m.\u001b[39;49mcollect(_eager\u001b[39m=\u001b[39;49m\u001b[39mTrue\u001b[39;49;00m)\n",
      "File \u001b[1;32mc:\\Users\\27722\\AppData\\Local\\Programs\\Python\\Python312\\Lib\\site-packages\\polars\\lazyframe\\frame.py:1942\u001b[0m, in \u001b[0;36mLazyFrame.collect\u001b[1;34m(self, type_coercion, predicate_pushdown, projection_pushdown, simplify_expression, slice_pushdown, comm_subplan_elim, comm_subexpr_elim, cluster_with_columns, no_optimization, streaming, background, _eager, **_kwargs)\u001b[0m\n\u001b[0;32m   1939\u001b[0m \u001b[39m# Only for testing purposes atm.\u001b[39;00m\n\u001b[0;32m   1940\u001b[0m callback \u001b[39m=\u001b[39m _kwargs\u001b[39m.\u001b[39mget(\u001b[39m\"\u001b[39m\u001b[39mpost_opt_callback\u001b[39m\u001b[39m\"\u001b[39m)\n\u001b[1;32m-> 1942\u001b[0m \u001b[39mreturn\u001b[39;00m wrap_df(ldf\u001b[39m.\u001b[39;49mcollect(callback))\n",
      "\u001b[1;31mPanicException\u001b[0m: Only array dtype is expected for `arr.to_struct`."
     ]
    }
   ],
   "source": [
    "countries_ref_df.map_rows(lambda x: (process.extractOne(x[0],flags_df['country'],scorer=fuzz.token_set_ratio)[0]) + ';' + x[0]).select(pl.col('map').str.split(';').arr.to_struct()).unnest('map')"
   ]
  },
  {
   "cell_type": "code",
   "execution_count": 174,
   "metadata": {},
   "outputs": [
    {
     "data": {
      "text/html": [
       "<div><style>\n",
       ".dataframe > thead > tr,\n",
       ".dataframe > tbody > tr {\n",
       "  text-align: right;\n",
       "  white-space: pre-wrap;\n",
       "}\n",
       "</style>\n",
       "<small>shape: (262, 1)</small><table border=\"1\" class=\"dataframe\"><thead><tr><th>map</th></tr><tr><td>list[str]</td></tr></thead><tbody><tr><td>[&quot;Ivory Coast&quot;, &quot;Ivory Coast&quot;]</td></tr><tr><td>[&quot;Ivory Coast&quot;, &quot;Ivory Coast&quot;]</td></tr><tr><td>[&quot;United Arab Emirates&quot;, &quot;United Arab Emirates&quot;]</td></tr><tr><td>[&quot;Nigeria&quot;, &quot;Nigeria&quot;]</td></tr><tr><td>[&quot;Ghana&quot;, &quot;Ghana&quot;]</td></tr><tr><td>&hellip;</td></tr><tr><td>[&quot;Namibia&quot;, &quot;Namibia&quot;]</td></tr><tr><td>[&quot;Cameroon&quot;, &quot;Cameroon&quot;]</td></tr><tr><td>[&quot;Nauru&quot;, &quot;Nauru&quot;]</td></tr><tr><td>[&quot;Armenia&quot;, &quot;Armenia&quot;]</td></tr><tr><td>[&quot;Croatia&quot;, &quot;Croatia&quot;]</td></tr></tbody></table></div>"
      ],
      "text/plain": [
       "shape: (262, 1)\n",
       "┌─────────────────────────────────┐\n",
       "│ map                             │\n",
       "│ ---                             │\n",
       "│ list[str]                       │\n",
       "╞═════════════════════════════════╡\n",
       "│ [\"Ivory Coast\", \"Ivory Coast\"]  │\n",
       "│ [\"Ivory Coast\", \"Ivory Coast\"]  │\n",
       "│ [\"United Arab Emirates\", \"Unit… │\n",
       "│ [\"Nigeria\", \"Nigeria\"]          │\n",
       "│ [\"Ghana\", \"Ghana\"]              │\n",
       "│ …                               │\n",
       "│ [\"Namibia\", \"Namibia\"]          │\n",
       "│ [\"Cameroon\", \"Cameroon\"]        │\n",
       "│ [\"Nauru\", \"Nauru\"]              │\n",
       "│ [\"Armenia\", \"Armenia\"]          │\n",
       "│ [\"Croatia\", \"Croatia\"]          │\n",
       "└─────────────────────────────────┘"
      ]
     },
     "execution_count": 174,
     "metadata": {},
     "output_type": "execute_result"
    }
   ],
   "source": [
    "countries_ref_df.map_rows(lambda x: (process.extractOne(x[0],flags_df['country'],scorer=fuzz.token_set_ratio)[0]) + ';' + x[0]).select(pl.col('map').str.split(';'))"
   ]
  },
  {
   "cell_type": "code",
   "execution_count": 175,
   "metadata": {},
   "outputs": [
    {
     "data": {
      "text/html": [
       "<div><style>\n",
       ".dataframe > thead > tr,\n",
       ".dataframe > tbody > tr {\n",
       "  text-align: right;\n",
       "  white-space: pre-wrap;\n",
       "}\n",
       "</style>\n",
       "<small>shape: (1, 1)</small><table border=\"1\" class=\"dataframe\"><thead><tr><th>map</th></tr><tr><td>list[str]</td></tr></thead><tbody><tr><td>[&quot;Greece&quot;, &quot;Greece&quot;]</td></tr></tbody></table></div>"
      ],
      "text/plain": [
       "shape: (1, 1)\n",
       "┌──────────────────────┐\n",
       "│ map                  │\n",
       "│ ---                  │\n",
       "│ list[str]            │\n",
       "╞══════════════════════╡\n",
       "│ [\"Greece\", \"Greece\"] │\n",
       "└──────────────────────┘"
      ]
     },
     "execution_count": 175,
     "metadata": {},
     "output_type": "execute_result"
    }
   ],
   "source": [
    "countries_ref_df.map_rows(lambda x: (process.extractOne(x[0],flags_df['country'],scorer=fuzz.token_set_ratio)[0]) + ';' + x[0]).select(pl.col('map').str.split(';'))[23]"
   ]
  },
  {
   "cell_type": "code",
   "execution_count": 176,
   "metadata": {},
   "outputs": [
    {
     "data": {
      "text/html": [
       "<div><style>\n",
       ".dataframe > thead > tr,\n",
       ".dataframe > tbody > tr {\n",
       "  text-align: right;\n",
       "  white-space: pre-wrap;\n",
       "}\n",
       "</style>\n",
       "<small>shape: (1, 1)</small><table border=\"1\" class=\"dataframe\"><thead><tr><th>map</th></tr><tr><td>list[str]</td></tr></thead><tbody><tr><td>[&quot;Senegal&quot;, &quot;Senegal&quot;]</td></tr></tbody></table></div>"
      ],
      "text/plain": [
       "shape: (1, 1)\n",
       "┌────────────────────────┐\n",
       "│ map                    │\n",
       "│ ---                    │\n",
       "│ list[str]              │\n",
       "╞════════════════════════╡\n",
       "│ [\"Senegal\", \"Senegal\"] │\n",
       "└────────────────────────┘"
      ]
     },
     "execution_count": 176,
     "metadata": {},
     "output_type": "execute_result"
    }
   ],
   "source": [
    "countries_ref_df.map_rows(lambda x: (process.extractOne(x[0],flags_df['country'],scorer=fuzz.token_set_ratio)[0]) + ';' + x[0]).select(pl.col('map').str.split(';'))[69]"
   ]
  },
  {
   "cell_type": "code",
   "execution_count": 177,
   "metadata": {},
   "outputs": [
    {
     "data": {
      "text/html": [
       "<div><style>\n",
       ".dataframe > thead > tr,\n",
       ".dataframe > tbody > tr {\n",
       "  text-align: right;\n",
       "  white-space: pre-wrap;\n",
       "}\n",
       "</style>\n",
       "<small>shape: (1, 1)</small><table border=\"1\" class=\"dataframe\"><thead><tr><th>map</th></tr><tr><td>list[str]</td></tr></thead><tbody><tr><td>[&quot;Liberia&quot;, &quot;Liberia&quot;]</td></tr></tbody></table></div>"
      ],
      "text/plain": [
       "shape: (1, 1)\n",
       "┌────────────────────────┐\n",
       "│ map                    │\n",
       "│ ---                    │\n",
       "│ list[str]              │\n",
       "╞════════════════════════╡\n",
       "│ [\"Liberia\", \"Liberia\"] │\n",
       "└────────────────────────┘"
      ]
     },
     "execution_count": 177,
     "metadata": {},
     "output_type": "execute_result"
    }
   ],
   "source": [
    "countries_ref_df.map_rows(lambda x: (process.extractOne(x[0],flags_df['country'],scorer=fuzz.token_set_ratio)[0]) + ';' + x[0]).select(pl.col('map').str.split(';'))[156]"
   ]
  },
  {
   "cell_type": "code",
   "execution_count": 178,
   "metadata": {},
   "outputs": [],
   "source": [
    "z = countries_ref_df.map_rows(lambda x: (process.extractOne(x[0],flags_df['country'],scorer=fuzz.token_set_ratio)[0]) + ';' + x[0]).select(pl.col('map').str.split(';'))[156]"
   ]
  },
  {
   "cell_type": "code",
   "execution_count": 179,
   "metadata": {},
   "outputs": [],
   "source": [
    "z = countries_ref_df.map_rows(lambda x: (process.extractOne(x[0],flags_df['country'],scorer=fuzz.token_set_ratio)[0]) + ';' + x[0]).select(pl.col('map').str.split(';'))"
   ]
  },
  {
   "cell_type": "code",
   "execution_count": 180,
   "metadata": {},
   "outputs": [
    {
     "ename": "TypeError",
     "evalue": "can only concatenate tuple (not \"str\") to tuple",
     "output_type": "error",
     "traceback": [
      "\u001b[1;31m---------------------------------------------------------------------------\u001b[0m",
      "\u001b[1;31mTypeError\u001b[0m                                 Traceback (most recent call last)",
      "Cell \u001b[1;32mIn[180], line 1\u001b[0m\n\u001b[1;32m----> 1\u001b[0m z \u001b[39m=\u001b[39m countries_ref_df\u001b[39m.\u001b[39;49mmap_rows(\u001b[39mlambda\u001b[39;49;00m x: (process\u001b[39m.\u001b[39;49mextractOne(x[\u001b[39m0\u001b[39;49m],flags_df[\u001b[39m'\u001b[39;49m\u001b[39mcountry\u001b[39;49m\u001b[39m'\u001b[39;49m],scorer\u001b[39m=\u001b[39;49mfuzz\u001b[39m.\u001b[39;49mtoken_set_ratio)) \u001b[39m+\u001b[39;49m \u001b[39m'\u001b[39;49m\u001b[39m;\u001b[39;49m\u001b[39m'\u001b[39;49m \u001b[39m+\u001b[39;49m x[\u001b[39m0\u001b[39;49m])\u001b[39m.\u001b[39mselect(pl\u001b[39m.\u001b[39mcol(\u001b[39m'\u001b[39m\u001b[39mmap\u001b[39m\u001b[39m'\u001b[39m)\u001b[39m.\u001b[39mstr\u001b[39m.\u001b[39msplit(\u001b[39m'\u001b[39m\u001b[39m;\u001b[39m\u001b[39m'\u001b[39m))\n",
      "File \u001b[1;32mc:\\Users\\27722\\AppData\\Local\\Programs\\Python\\Python312\\Lib\\site-packages\\polars\\dataframe\\frame.py:6981\u001b[0m, in \u001b[0;36mDataFrame.map_rows\u001b[1;34m(self, function, return_dtype, inference_size)\u001b[0m\n\u001b[0;32m   6892\u001b[0m \u001b[39m\u001b[39m\u001b[39m\"\"\"\u001b[39;00m\n\u001b[0;32m   6893\u001b[0m \u001b[39mApply a custom/user-defined function (UDF) over the rows of the DataFrame.\u001b[39;00m\n\u001b[0;32m   6894\u001b[0m \n\u001b[1;32m   (...)\u001b[0m\n\u001b[0;32m   6975\u001b[0m \u001b[39m>>> df.select(pl.col(\"foo\") * 2 + pl.col(\"bar\"))  # doctest: +IGNORE_RESULT\u001b[39;00m\n\u001b[0;32m   6976\u001b[0m \u001b[39m\"\"\"\u001b[39;00m\n\u001b[0;32m   6977\u001b[0m \u001b[39m# TODO: Enable warning for inefficient map\u001b[39;00m\n\u001b[0;32m   6978\u001b[0m \u001b[39m# from polars._utils.udfs import warn_on_inefficient_map\u001b[39;00m\n\u001b[0;32m   6979\u001b[0m \u001b[39m# warn_on_inefficient_map(function, columns=self.columns, map_target=\"frame)\u001b[39;00m\n\u001b[1;32m-> 6981\u001b[0m out, is_df \u001b[39m=\u001b[39m \u001b[39mself\u001b[39;49m\u001b[39m.\u001b[39;49m_df\u001b[39m.\u001b[39;49mmap_rows(function, return_dtype, inference_size)\n\u001b[0;32m   6982\u001b[0m \u001b[39mif\u001b[39;00m is_df:\n\u001b[0;32m   6983\u001b[0m     \u001b[39mreturn\u001b[39;00m \u001b[39mself\u001b[39m\u001b[39m.\u001b[39m_from_pydf(out)\n",
      "Cell \u001b[1;32mIn[180], line 1\u001b[0m, in \u001b[0;36m<lambda>\u001b[1;34m(x)\u001b[0m\n\u001b[1;32m----> 1\u001b[0m z \u001b[39m=\u001b[39m countries_ref_df\u001b[39m.\u001b[39mmap_rows(\u001b[39mlambda\u001b[39;00m x: (process\u001b[39m.\u001b[39;49mextractOne(x[\u001b[39m0\u001b[39;49m],flags_df[\u001b[39m'\u001b[39;49m\u001b[39mcountry\u001b[39;49m\u001b[39m'\u001b[39;49m],scorer\u001b[39m=\u001b[39;49mfuzz\u001b[39m.\u001b[39;49mtoken_set_ratio)) \u001b[39m+\u001b[39;49m \u001b[39m'\u001b[39;49m\u001b[39m;\u001b[39;49m\u001b[39m'\u001b[39;49m \u001b[39m+\u001b[39m x[\u001b[39m0\u001b[39m])\u001b[39m.\u001b[39mselect(pl\u001b[39m.\u001b[39mcol(\u001b[39m'\u001b[39m\u001b[39mmap\u001b[39m\u001b[39m'\u001b[39m)\u001b[39m.\u001b[39mstr\u001b[39m.\u001b[39msplit(\u001b[39m'\u001b[39m\u001b[39m;\u001b[39m\u001b[39m'\u001b[39m))\n",
      "\u001b[1;31mTypeError\u001b[0m: can only concatenate tuple (not \"str\") to tuple"
     ]
    }
   ],
   "source": [
    "z = countries_ref_df.map_rows(lambda x: (process.extractOne(x[0],flags_df['country'],scorer=fuzz.token_set_ratio)) + ';' + x[0]).select(pl.col('map').str.split(';'))"
   ]
  },
  {
   "cell_type": "code",
   "execution_count": 181,
   "metadata": {},
   "outputs": [
    {
     "ename": "AttributeError",
     "evalue": "'tuple' object has no attribute 'str'",
     "output_type": "error",
     "traceback": [
      "\u001b[1;31m---------------------------------------------------------------------------\u001b[0m",
      "\u001b[1;31mAttributeError\u001b[0m                            Traceback (most recent call last)",
      "Cell \u001b[1;32mIn[181], line 1\u001b[0m\n\u001b[1;32m----> 1\u001b[0m z \u001b[39m=\u001b[39m countries_ref_df\u001b[39m.\u001b[39;49mmap_rows(\u001b[39mlambda\u001b[39;49;00m x: (process\u001b[39m.\u001b[39;49mextractOne(x[\u001b[39m0\u001b[39;49m],flags_df[\u001b[39m'\u001b[39;49m\u001b[39mcountry\u001b[39;49m\u001b[39m'\u001b[39;49m],scorer\u001b[39m=\u001b[39;49mfuzz\u001b[39m.\u001b[39;49mtoken_set_ratio)\u001b[39m.\u001b[39;49mstr) \u001b[39m+\u001b[39;49m \u001b[39m'\u001b[39;49m\u001b[39m;\u001b[39;49m\u001b[39m'\u001b[39;49m \u001b[39m+\u001b[39;49m x[\u001b[39m0\u001b[39;49m])\u001b[39m.\u001b[39mselect(pl\u001b[39m.\u001b[39mcol(\u001b[39m'\u001b[39m\u001b[39mmap\u001b[39m\u001b[39m'\u001b[39m)\u001b[39m.\u001b[39mstr\u001b[39m.\u001b[39msplit(\u001b[39m'\u001b[39m\u001b[39m;\u001b[39m\u001b[39m'\u001b[39m))\n",
      "File \u001b[1;32mc:\\Users\\27722\\AppData\\Local\\Programs\\Python\\Python312\\Lib\\site-packages\\polars\\dataframe\\frame.py:6981\u001b[0m, in \u001b[0;36mDataFrame.map_rows\u001b[1;34m(self, function, return_dtype, inference_size)\u001b[0m\n\u001b[0;32m   6892\u001b[0m \u001b[39m\u001b[39m\u001b[39m\"\"\"\u001b[39;00m\n\u001b[0;32m   6893\u001b[0m \u001b[39mApply a custom/user-defined function (UDF) over the rows of the DataFrame.\u001b[39;00m\n\u001b[0;32m   6894\u001b[0m \n\u001b[1;32m   (...)\u001b[0m\n\u001b[0;32m   6975\u001b[0m \u001b[39m>>> df.select(pl.col(\"foo\") * 2 + pl.col(\"bar\"))  # doctest: +IGNORE_RESULT\u001b[39;00m\n\u001b[0;32m   6976\u001b[0m \u001b[39m\"\"\"\u001b[39;00m\n\u001b[0;32m   6977\u001b[0m \u001b[39m# TODO: Enable warning for inefficient map\u001b[39;00m\n\u001b[0;32m   6978\u001b[0m \u001b[39m# from polars._utils.udfs import warn_on_inefficient_map\u001b[39;00m\n\u001b[0;32m   6979\u001b[0m \u001b[39m# warn_on_inefficient_map(function, columns=self.columns, map_target=\"frame)\u001b[39;00m\n\u001b[1;32m-> 6981\u001b[0m out, is_df \u001b[39m=\u001b[39m \u001b[39mself\u001b[39;49m\u001b[39m.\u001b[39;49m_df\u001b[39m.\u001b[39;49mmap_rows(function, return_dtype, inference_size)\n\u001b[0;32m   6982\u001b[0m \u001b[39mif\u001b[39;00m is_df:\n\u001b[0;32m   6983\u001b[0m     \u001b[39mreturn\u001b[39;00m \u001b[39mself\u001b[39m\u001b[39m.\u001b[39m_from_pydf(out)\n",
      "Cell \u001b[1;32mIn[181], line 1\u001b[0m, in \u001b[0;36m<lambda>\u001b[1;34m(x)\u001b[0m\n\u001b[1;32m----> 1\u001b[0m z \u001b[39m=\u001b[39m countries_ref_df\u001b[39m.\u001b[39mmap_rows(\u001b[39mlambda\u001b[39;00m x: (process\u001b[39m.\u001b[39;49mextractOne(x[\u001b[39m0\u001b[39;49m],flags_df[\u001b[39m'\u001b[39;49m\u001b[39mcountry\u001b[39;49m\u001b[39m'\u001b[39;49m],scorer\u001b[39m=\u001b[39;49mfuzz\u001b[39m.\u001b[39;49mtoken_set_ratio)\u001b[39m.\u001b[39;49mstr) \u001b[39m+\u001b[39m \u001b[39m'\u001b[39m\u001b[39m;\u001b[39m\u001b[39m'\u001b[39m \u001b[39m+\u001b[39m x[\u001b[39m0\u001b[39m])\u001b[39m.\u001b[39mselect(pl\u001b[39m.\u001b[39mcol(\u001b[39m'\u001b[39m\u001b[39mmap\u001b[39m\u001b[39m'\u001b[39m)\u001b[39m.\u001b[39mstr\u001b[39m.\u001b[39msplit(\u001b[39m'\u001b[39m\u001b[39m;\u001b[39m\u001b[39m'\u001b[39m))\n",
      "\u001b[1;31mAttributeError\u001b[0m: 'tuple' object has no attribute 'str'"
     ]
    }
   ],
   "source": [
    "z = countries_ref_df.map_rows(lambda x: (process.extractOne(x[0],flags_df['country'],scorer=fuzz.token_set_ratio).str) + ';' + x[0]).select(pl.col('map').str.split(';'))"
   ]
  },
  {
   "cell_type": "code",
   "execution_count": 182,
   "metadata": {},
   "outputs": [
    {
     "ename": "TypeError",
     "evalue": "sequence item 1: expected str instance, int found",
     "output_type": "error",
     "traceback": [
      "\u001b[1;31m---------------------------------------------------------------------------\u001b[0m",
      "\u001b[1;31mTypeError\u001b[0m                                 Traceback (most recent call last)",
      "Cell \u001b[1;32mIn[182], line 1\u001b[0m\n\u001b[1;32m----> 1\u001b[0m z \u001b[39m=\u001b[39m countries_ref_df\u001b[39m.\u001b[39;49mmap_rows(\u001b[39mlambda\u001b[39;49;00m x: \u001b[39m'\u001b[39;49m\u001b[39m'\u001b[39;49m\u001b[39m.\u001b[39;49mjoin(process\u001b[39m.\u001b[39;49mextractOne(x[\u001b[39m0\u001b[39;49m],flags_df[\u001b[39m'\u001b[39;49m\u001b[39mcountry\u001b[39;49m\u001b[39m'\u001b[39;49m],scorer\u001b[39m=\u001b[39;49mfuzz\u001b[39m.\u001b[39;49mtoken_set_ratio)) \u001b[39m+\u001b[39;49m \u001b[39m'\u001b[39;49m\u001b[39m;\u001b[39;49m\u001b[39m'\u001b[39;49m \u001b[39m+\u001b[39;49m x[\u001b[39m0\u001b[39;49m])\u001b[39m.\u001b[39mselect(pl\u001b[39m.\u001b[39mcol(\u001b[39m'\u001b[39m\u001b[39mmap\u001b[39m\u001b[39m'\u001b[39m)\u001b[39m.\u001b[39mstr\u001b[39m.\u001b[39msplit(\u001b[39m'\u001b[39m\u001b[39m;\u001b[39m\u001b[39m'\u001b[39m))\n",
      "File \u001b[1;32mc:\\Users\\27722\\AppData\\Local\\Programs\\Python\\Python312\\Lib\\site-packages\\polars\\dataframe\\frame.py:6981\u001b[0m, in \u001b[0;36mDataFrame.map_rows\u001b[1;34m(self, function, return_dtype, inference_size)\u001b[0m\n\u001b[0;32m   6892\u001b[0m \u001b[39m\u001b[39m\u001b[39m\"\"\"\u001b[39;00m\n\u001b[0;32m   6893\u001b[0m \u001b[39mApply a custom/user-defined function (UDF) over the rows of the DataFrame.\u001b[39;00m\n\u001b[0;32m   6894\u001b[0m \n\u001b[1;32m   (...)\u001b[0m\n\u001b[0;32m   6975\u001b[0m \u001b[39m>>> df.select(pl.col(\"foo\") * 2 + pl.col(\"bar\"))  # doctest: +IGNORE_RESULT\u001b[39;00m\n\u001b[0;32m   6976\u001b[0m \u001b[39m\"\"\"\u001b[39;00m\n\u001b[0;32m   6977\u001b[0m \u001b[39m# TODO: Enable warning for inefficient map\u001b[39;00m\n\u001b[0;32m   6978\u001b[0m \u001b[39m# from polars._utils.udfs import warn_on_inefficient_map\u001b[39;00m\n\u001b[0;32m   6979\u001b[0m \u001b[39m# warn_on_inefficient_map(function, columns=self.columns, map_target=\"frame)\u001b[39;00m\n\u001b[1;32m-> 6981\u001b[0m out, is_df \u001b[39m=\u001b[39m \u001b[39mself\u001b[39;49m\u001b[39m.\u001b[39;49m_df\u001b[39m.\u001b[39;49mmap_rows(function, return_dtype, inference_size)\n\u001b[0;32m   6982\u001b[0m \u001b[39mif\u001b[39;00m is_df:\n\u001b[0;32m   6983\u001b[0m     \u001b[39mreturn\u001b[39;00m \u001b[39mself\u001b[39m\u001b[39m.\u001b[39m_from_pydf(out)\n",
      "Cell \u001b[1;32mIn[182], line 1\u001b[0m, in \u001b[0;36m<lambda>\u001b[1;34m(x)\u001b[0m\n\u001b[1;32m----> 1\u001b[0m z \u001b[39m=\u001b[39m countries_ref_df\u001b[39m.\u001b[39mmap_rows(\u001b[39mlambda\u001b[39;00m x: \u001b[39m'\u001b[39;49m\u001b[39m'\u001b[39;49m\u001b[39m.\u001b[39;49mjoin(process\u001b[39m.\u001b[39;49mextractOne(x[\u001b[39m0\u001b[39;49m],flags_df[\u001b[39m'\u001b[39;49m\u001b[39mcountry\u001b[39;49m\u001b[39m'\u001b[39;49m],scorer\u001b[39m=\u001b[39;49mfuzz\u001b[39m.\u001b[39;49mtoken_set_ratio)) \u001b[39m+\u001b[39m \u001b[39m'\u001b[39m\u001b[39m;\u001b[39m\u001b[39m'\u001b[39m \u001b[39m+\u001b[39m x[\u001b[39m0\u001b[39m])\u001b[39m.\u001b[39mselect(pl\u001b[39m.\u001b[39mcol(\u001b[39m'\u001b[39m\u001b[39mmap\u001b[39m\u001b[39m'\u001b[39m)\u001b[39m.\u001b[39mstr\u001b[39m.\u001b[39msplit(\u001b[39m'\u001b[39m\u001b[39m;\u001b[39m\u001b[39m'\u001b[39m))\n",
      "\u001b[1;31mTypeError\u001b[0m: sequence item 1: expected str instance, int found"
     ]
    }
   ],
   "source": [
    "z = countries_ref_df.map_rows(lambda x: ''.join(process.extractOne(x[0],flags_df['country'],scorer=fuzz.token_set_ratio)) + ';' + x[0]).select(pl.col('map').str.split(';'))"
   ]
  },
  {
   "cell_type": "code",
   "execution_count": 183,
   "metadata": {},
   "outputs": [
    {
     "ename": "TypeError",
     "evalue": "sequence item 1: expected str instance, int found",
     "output_type": "error",
     "traceback": [
      "\u001b[1;31m---------------------------------------------------------------------------\u001b[0m",
      "\u001b[1;31mTypeError\u001b[0m                                 Traceback (most recent call last)",
      "Cell \u001b[1;32mIn[183], line 1\u001b[0m\n\u001b[1;32m----> 1\u001b[0m z \u001b[39m=\u001b[39m countries_ref_df\u001b[39m.\u001b[39;49mmap_rows(\u001b[39mlambda\u001b[39;49;00m x: \u001b[39m'\u001b[39;49m\u001b[39m'\u001b[39;49m\u001b[39m.\u001b[39;49mjoin(process\u001b[39m.\u001b[39;49mextractOne(x[\u001b[39m0\u001b[39;49m],flags_df[\u001b[39m'\u001b[39;49m\u001b[39mcountry\u001b[39;49m\u001b[39m'\u001b[39;49m],scorer\u001b[39m=\u001b[39;49mfuzz\u001b[39m.\u001b[39;49mtoken_set_ratio)) )\u001b[39m.\u001b[39mselect(pl\u001b[39m.\u001b[39mcol(\u001b[39m'\u001b[39m\u001b[39mmap\u001b[39m\u001b[39m'\u001b[39m)\u001b[39m.\u001b[39mstr\u001b[39m.\u001b[39msplit(\u001b[39m'\u001b[39m\u001b[39m;\u001b[39m\u001b[39m'\u001b[39m))\n",
      "File \u001b[1;32mc:\\Users\\27722\\AppData\\Local\\Programs\\Python\\Python312\\Lib\\site-packages\\polars\\dataframe\\frame.py:6981\u001b[0m, in \u001b[0;36mDataFrame.map_rows\u001b[1;34m(self, function, return_dtype, inference_size)\u001b[0m\n\u001b[0;32m   6892\u001b[0m \u001b[39m\u001b[39m\u001b[39m\"\"\"\u001b[39;00m\n\u001b[0;32m   6893\u001b[0m \u001b[39mApply a custom/user-defined function (UDF) over the rows of the DataFrame.\u001b[39;00m\n\u001b[0;32m   6894\u001b[0m \n\u001b[1;32m   (...)\u001b[0m\n\u001b[0;32m   6975\u001b[0m \u001b[39m>>> df.select(pl.col(\"foo\") * 2 + pl.col(\"bar\"))  # doctest: +IGNORE_RESULT\u001b[39;00m\n\u001b[0;32m   6976\u001b[0m \u001b[39m\"\"\"\u001b[39;00m\n\u001b[0;32m   6977\u001b[0m \u001b[39m# TODO: Enable warning for inefficient map\u001b[39;00m\n\u001b[0;32m   6978\u001b[0m \u001b[39m# from polars._utils.udfs import warn_on_inefficient_map\u001b[39;00m\n\u001b[0;32m   6979\u001b[0m \u001b[39m# warn_on_inefficient_map(function, columns=self.columns, map_target=\"frame)\u001b[39;00m\n\u001b[1;32m-> 6981\u001b[0m out, is_df \u001b[39m=\u001b[39m \u001b[39mself\u001b[39;49m\u001b[39m.\u001b[39;49m_df\u001b[39m.\u001b[39;49mmap_rows(function, return_dtype, inference_size)\n\u001b[0;32m   6982\u001b[0m \u001b[39mif\u001b[39;00m is_df:\n\u001b[0;32m   6983\u001b[0m     \u001b[39mreturn\u001b[39;00m \u001b[39mself\u001b[39m\u001b[39m.\u001b[39m_from_pydf(out)\n",
      "Cell \u001b[1;32mIn[183], line 1\u001b[0m, in \u001b[0;36m<lambda>\u001b[1;34m(x)\u001b[0m\n\u001b[1;32m----> 1\u001b[0m z \u001b[39m=\u001b[39m countries_ref_df\u001b[39m.\u001b[39mmap_rows(\u001b[39mlambda\u001b[39;00m x: \u001b[39m'\u001b[39;49m\u001b[39m'\u001b[39;49m\u001b[39m.\u001b[39;49mjoin(process\u001b[39m.\u001b[39;49mextractOne(x[\u001b[39m0\u001b[39;49m],flags_df[\u001b[39m'\u001b[39;49m\u001b[39mcountry\u001b[39;49m\u001b[39m'\u001b[39;49m],scorer\u001b[39m=\u001b[39;49mfuzz\u001b[39m.\u001b[39;49mtoken_set_ratio)) )\u001b[39m.\u001b[39mselect(pl\u001b[39m.\u001b[39mcol(\u001b[39m'\u001b[39m\u001b[39mmap\u001b[39m\u001b[39m'\u001b[39m)\u001b[39m.\u001b[39mstr\u001b[39m.\u001b[39msplit(\u001b[39m'\u001b[39m\u001b[39m;\u001b[39m\u001b[39m'\u001b[39m))\n",
      "\u001b[1;31mTypeError\u001b[0m: sequence item 1: expected str instance, int found"
     ]
    }
   ],
   "source": [
    "z = countries_ref_df.map_rows(lambda x: ''.join(process.extractOne(x[0],flags_df['country'],scorer=fuzz.token_set_ratio)) ).select(pl.col('map').str.split(';'))"
   ]
  },
  {
   "cell_type": "code",
   "execution_count": 184,
   "metadata": {},
   "outputs": [
    {
     "ename": "AttributeError",
     "evalue": "'tuple' object has no attribute 'str'",
     "output_type": "error",
     "traceback": [
      "\u001b[1;31m---------------------------------------------------------------------------\u001b[0m",
      "\u001b[1;31mAttributeError\u001b[0m                            Traceback (most recent call last)",
      "Cell \u001b[1;32mIn[184], line 1\u001b[0m\n\u001b[1;32m----> 1\u001b[0m z \u001b[39m=\u001b[39m countries_ref_df\u001b[39m.\u001b[39;49mmap_rows(\u001b[39mlambda\u001b[39;49;00m x: (process\u001b[39m.\u001b[39;49mextractOne(x[\u001b[39m0\u001b[39;49m],flags_df[\u001b[39m'\u001b[39;49m\u001b[39mcountry\u001b[39;49m\u001b[39m'\u001b[39;49m],scorer\u001b[39m=\u001b[39;49mfuzz\u001b[39m.\u001b[39;49mtoken_set_ratio)\u001b[39m.\u001b[39;49mstr) \u001b[39m+\u001b[39;49m \u001b[39m'\u001b[39;49m\u001b[39m;\u001b[39;49m\u001b[39m'\u001b[39;49m \u001b[39m+\u001b[39;49m x[\u001b[39m0\u001b[39;49m])\u001b[39m.\u001b[39mselect(pl\u001b[39m.\u001b[39mcol(\u001b[39m'\u001b[39m\u001b[39mmap\u001b[39m\u001b[39m'\u001b[39m)\u001b[39m.\u001b[39mstr\u001b[39m.\u001b[39msplit(\u001b[39m'\u001b[39m\u001b[39m;\u001b[39m\u001b[39m'\u001b[39m))\n",
      "File \u001b[1;32mc:\\Users\\27722\\AppData\\Local\\Programs\\Python\\Python312\\Lib\\site-packages\\polars\\dataframe\\frame.py:6981\u001b[0m, in \u001b[0;36mDataFrame.map_rows\u001b[1;34m(self, function, return_dtype, inference_size)\u001b[0m\n\u001b[0;32m   6892\u001b[0m \u001b[39m\u001b[39m\u001b[39m\"\"\"\u001b[39;00m\n\u001b[0;32m   6893\u001b[0m \u001b[39mApply a custom/user-defined function (UDF) over the rows of the DataFrame.\u001b[39;00m\n\u001b[0;32m   6894\u001b[0m \n\u001b[1;32m   (...)\u001b[0m\n\u001b[0;32m   6975\u001b[0m \u001b[39m>>> df.select(pl.col(\"foo\") * 2 + pl.col(\"bar\"))  # doctest: +IGNORE_RESULT\u001b[39;00m\n\u001b[0;32m   6976\u001b[0m \u001b[39m\"\"\"\u001b[39;00m\n\u001b[0;32m   6977\u001b[0m \u001b[39m# TODO: Enable warning for inefficient map\u001b[39;00m\n\u001b[0;32m   6978\u001b[0m \u001b[39m# from polars._utils.udfs import warn_on_inefficient_map\u001b[39;00m\n\u001b[0;32m   6979\u001b[0m \u001b[39m# warn_on_inefficient_map(function, columns=self.columns, map_target=\"frame)\u001b[39;00m\n\u001b[1;32m-> 6981\u001b[0m out, is_df \u001b[39m=\u001b[39m \u001b[39mself\u001b[39;49m\u001b[39m.\u001b[39;49m_df\u001b[39m.\u001b[39;49mmap_rows(function, return_dtype, inference_size)\n\u001b[0;32m   6982\u001b[0m \u001b[39mif\u001b[39;00m is_df:\n\u001b[0;32m   6983\u001b[0m     \u001b[39mreturn\u001b[39;00m \u001b[39mself\u001b[39m\u001b[39m.\u001b[39m_from_pydf(out)\n",
      "Cell \u001b[1;32mIn[184], line 1\u001b[0m, in \u001b[0;36m<lambda>\u001b[1;34m(x)\u001b[0m\n\u001b[1;32m----> 1\u001b[0m z \u001b[39m=\u001b[39m countries_ref_df\u001b[39m.\u001b[39mmap_rows(\u001b[39mlambda\u001b[39;00m x: (process\u001b[39m.\u001b[39;49mextractOne(x[\u001b[39m0\u001b[39;49m],flags_df[\u001b[39m'\u001b[39;49m\u001b[39mcountry\u001b[39;49m\u001b[39m'\u001b[39;49m],scorer\u001b[39m=\u001b[39;49mfuzz\u001b[39m.\u001b[39;49mtoken_set_ratio)\u001b[39m.\u001b[39;49mstr) \u001b[39m+\u001b[39m \u001b[39m'\u001b[39m\u001b[39m;\u001b[39m\u001b[39m'\u001b[39m \u001b[39m+\u001b[39m x[\u001b[39m0\u001b[39m])\u001b[39m.\u001b[39mselect(pl\u001b[39m.\u001b[39mcol(\u001b[39m'\u001b[39m\u001b[39mmap\u001b[39m\u001b[39m'\u001b[39m)\u001b[39m.\u001b[39mstr\u001b[39m.\u001b[39msplit(\u001b[39m'\u001b[39m\u001b[39m;\u001b[39m\u001b[39m'\u001b[39m))\n",
      "\u001b[1;31mAttributeError\u001b[0m: 'tuple' object has no attribute 'str'"
     ]
    }
   ],
   "source": [
    "z = countries_ref_df.map_rows(lambda x: (process.extractOne(x[0],flags_df['country'],scorer=fuzz.token_set_ratio).str) + ';' + x[0]).select(pl.col('map').str.split(';'))"
   ]
  },
  {
   "cell_type": "code",
   "execution_count": 3,
   "metadata": {},
   "outputs": [
    {
     "ename": "NameError",
     "evalue": "name 'countries_ref_df' is not defined",
     "output_type": "error",
     "traceback": [
      "\u001b[1;31m---------------------------------------------------------------------------\u001b[0m",
      "\u001b[1;31mNameError\u001b[0m                                 Traceback (most recent call last)",
      "Cell \u001b[1;32mIn[3], line 1\u001b[0m\n\u001b[1;32m----> 1\u001b[0m \u001b[43mcountries_ref_df\u001b[49m\u001b[38;5;241m.\u001b[39mmap_rows(\u001b[38;5;28;01mlambda\u001b[39;00m x: (process\u001b[38;5;241m.\u001b[39mextractOne(x[\u001b[38;5;241m0\u001b[39m],flags_df[\u001b[38;5;124m'\u001b[39m\u001b[38;5;124mcountry\u001b[39m\u001b[38;5;124m'\u001b[39m],scorer\u001b[38;5;241m=\u001b[39mfuzz\u001b[38;5;241m.\u001b[39mtoken_set_ratio)[\u001b[38;5;241m0\u001b[39m]) \u001b[38;5;241m+\u001b[39m \u001b[38;5;124m'\u001b[39m\u001b[38;5;124m;\u001b[39m\u001b[38;5;124m'\u001b[39m \u001b[38;5;241m+\u001b[39m x[\u001b[38;5;241m0\u001b[39m])\u001b[38;5;241m.\u001b[39mselect(pl\u001b[38;5;241m.\u001b[39mcol(\u001b[38;5;124m'\u001b[39m\u001b[38;5;124mmap\u001b[39m\u001b[38;5;124m'\u001b[39m)\u001b[38;5;241m.\u001b[39mstr\u001b[38;5;241m.\u001b[39msplit(\u001b[38;5;124m'\u001b[39m\u001b[38;5;124m;\u001b[39m\u001b[38;5;124m'\u001b[39m))[\u001b[38;5;241m156\u001b[39m]\n",
      "\u001b[1;31mNameError\u001b[0m: name 'countries_ref_df' is not defined"
     ]
    }
   ],
   "source": [
    "countries_ref_df.map_rows(lambda x: (process.extractOne(x[0],flags_df['country'],scorer=fuzz.token_set_ratio)[0]) + ';' + x[0]).select(pl.col('map').str.split(';'))[156]"
   ]
  },
  {
   "cell_type": "code",
   "execution_count": 186,
   "metadata": {},
   "outputs": [
    {
     "data": {
      "text/html": [
       "<div><style>\n",
       ".dataframe > thead > tr,\n",
       ".dataframe > tbody > tr {\n",
       "  text-align: right;\n",
       "  white-space: pre-wrap;\n",
       "}\n",
       "</style>\n",
       "<small>shape: (262, 1)</small><table border=\"1\" class=\"dataframe\"><thead><tr><th>map</th></tr><tr><td>list[str]</td></tr></thead><tbody><tr><td>[&quot;Ivory Coast&quot;, &quot;Ivory Coast&quot;]</td></tr><tr><td>[&quot;Ivory Coast&quot;, &quot;Ivory Coast&quot;]</td></tr><tr><td>[&quot;United Arab Emirates&quot;, &quot;United Arab Emirates&quot;]</td></tr><tr><td>[&quot;Nigeria&quot;, &quot;Nigeria&quot;]</td></tr><tr><td>[&quot;Ghana&quot;, &quot;Ghana&quot;]</td></tr><tr><td>&hellip;</td></tr><tr><td>[&quot;Namibia&quot;, &quot;Namibia&quot;]</td></tr><tr><td>[&quot;Cameroon&quot;, &quot;Cameroon&quot;]</td></tr><tr><td>[&quot;Nauru&quot;, &quot;Nauru&quot;]</td></tr><tr><td>[&quot;Armenia&quot;, &quot;Armenia&quot;]</td></tr><tr><td>[&quot;Croatia&quot;, &quot;Croatia&quot;]</td></tr></tbody></table></div>"
      ],
      "text/plain": [
       "shape: (262, 1)\n",
       "┌─────────────────────────────────┐\n",
       "│ map                             │\n",
       "│ ---                             │\n",
       "│ list[str]                       │\n",
       "╞═════════════════════════════════╡\n",
       "│ [\"Ivory Coast\", \"Ivory Coast\"]  │\n",
       "│ [\"Ivory Coast\", \"Ivory Coast\"]  │\n",
       "│ [\"United Arab Emirates\", \"Unit… │\n",
       "│ [\"Nigeria\", \"Nigeria\"]          │\n",
       "│ [\"Ghana\", \"Ghana\"]              │\n",
       "│ …                               │\n",
       "│ [\"Namibia\", \"Namibia\"]          │\n",
       "│ [\"Cameroon\", \"Cameroon\"]        │\n",
       "│ [\"Nauru\", \"Nauru\"]              │\n",
       "│ [\"Armenia\", \"Armenia\"]          │\n",
       "│ [\"Croatia\", \"Croatia\"]          │\n",
       "└─────────────────────────────────┘"
      ]
     },
     "execution_count": 186,
     "metadata": {},
     "output_type": "execute_result"
    }
   ],
   "source": [
    "countries_ref_df.map_rows(lambda x: (process.extractOne(x[0],flags_df['country'],scorer=fuzz.token_set_ratio)[0]) + ';' + x[0]).select(pl.col('map').str.split(';'))"
   ]
  },
  {
   "cell_type": "code",
   "execution_count": 187,
   "metadata": {},
   "outputs": [
    {
     "ename": "SyntaxError",
     "evalue": "invalid syntax. Maybe you meant '==' or ':=' instead of '='? (<ipython-input-187-c1c38bd555d4>, line 1)",
     "output_type": "error",
     "traceback": [
      "\u001b[1;36m  Cell \u001b[1;32mIn[187], line 1\u001b[1;36m\u001b[0m\n\u001b[1;33m    countries_ref_df.map_rows(lambda x: (process.extractOne(x[0],flags_df['country'],scorer=fuzz.token_set_ratio)[0],cutoff=90) + ';' + x[0]).select(pl.col('map').str.split(';'))\u001b[0m\n\u001b[1;37m                                                                                                                     ^\u001b[0m\n\u001b[1;31mSyntaxError\u001b[0m\u001b[1;31m:\u001b[0m invalid syntax. Maybe you meant '==' or ':=' instead of '='?\n"
     ]
    }
   ],
   "source": [
    "countries_ref_df.map_rows(lambda x: (process.extractOne(x[0],flags_df['country'],scorer=fuzz.token_set_ratio)[0],cutoff=90) + ';' + x[0]).select(pl.col('map').str.split(';'))"
   ]
  },
  {
   "cell_type": "code",
   "execution_count": 188,
   "metadata": {},
   "outputs": [
    {
     "ename": "NameError",
     "evalue": "name 'cutoff' is not defined",
     "output_type": "error",
     "traceback": [
      "\u001b[1;31m---------------------------------------------------------------------------\u001b[0m",
      "\u001b[1;31mNameError\u001b[0m                                 Traceback (most recent call last)",
      "Cell \u001b[1;32mIn[188], line 1\u001b[0m\n\u001b[1;32m----> 1\u001b[0m countries_ref_df\u001b[39m.\u001b[39;49mmap_rows(\u001b[39mlambda\u001b[39;49;00m x: (process\u001b[39m.\u001b[39;49mextractOne(x[\u001b[39m0\u001b[39;49m],flags_df[\u001b[39m'\u001b[39;49m\u001b[39mcountry\u001b[39;49m\u001b[39m'\u001b[39;49m],scorer\u001b[39m=\u001b[39;49mfuzz\u001b[39m.\u001b[39;49mtoken_set_ratio)[\u001b[39m0\u001b[39;49m],cutoff\u001b[39m==\u001b[39;49m\u001b[39m90\u001b[39;49m) \u001b[39m+\u001b[39;49m \u001b[39m'\u001b[39;49m\u001b[39m;\u001b[39;49m\u001b[39m'\u001b[39;49m \u001b[39m+\u001b[39;49m x[\u001b[39m0\u001b[39;49m])\u001b[39m.\u001b[39mselect(pl\u001b[39m.\u001b[39mcol(\u001b[39m'\u001b[39m\u001b[39mmap\u001b[39m\u001b[39m'\u001b[39m)\u001b[39m.\u001b[39mstr\u001b[39m.\u001b[39msplit(\u001b[39m'\u001b[39m\u001b[39m;\u001b[39m\u001b[39m'\u001b[39m))\n",
      "File \u001b[1;32mc:\\Users\\27722\\AppData\\Local\\Programs\\Python\\Python312\\Lib\\site-packages\\polars\\dataframe\\frame.py:6981\u001b[0m, in \u001b[0;36mDataFrame.map_rows\u001b[1;34m(self, function, return_dtype, inference_size)\u001b[0m\n\u001b[0;32m   6892\u001b[0m \u001b[39m\u001b[39m\u001b[39m\"\"\"\u001b[39;00m\n\u001b[0;32m   6893\u001b[0m \u001b[39mApply a custom/user-defined function (UDF) over the rows of the DataFrame.\u001b[39;00m\n\u001b[0;32m   6894\u001b[0m \n\u001b[1;32m   (...)\u001b[0m\n\u001b[0;32m   6975\u001b[0m \u001b[39m>>> df.select(pl.col(\"foo\") * 2 + pl.col(\"bar\"))  # doctest: +IGNORE_RESULT\u001b[39;00m\n\u001b[0;32m   6976\u001b[0m \u001b[39m\"\"\"\u001b[39;00m\n\u001b[0;32m   6977\u001b[0m \u001b[39m# TODO: Enable warning for inefficient map\u001b[39;00m\n\u001b[0;32m   6978\u001b[0m \u001b[39m# from polars._utils.udfs import warn_on_inefficient_map\u001b[39;00m\n\u001b[0;32m   6979\u001b[0m \u001b[39m# warn_on_inefficient_map(function, columns=self.columns, map_target=\"frame)\u001b[39;00m\n\u001b[1;32m-> 6981\u001b[0m out, is_df \u001b[39m=\u001b[39m \u001b[39mself\u001b[39;49m\u001b[39m.\u001b[39;49m_df\u001b[39m.\u001b[39;49mmap_rows(function, return_dtype, inference_size)\n\u001b[0;32m   6982\u001b[0m \u001b[39mif\u001b[39;00m is_df:\n\u001b[0;32m   6983\u001b[0m     \u001b[39mreturn\u001b[39;00m \u001b[39mself\u001b[39m\u001b[39m.\u001b[39m_from_pydf(out)\n",
      "Cell \u001b[1;32mIn[188], line 1\u001b[0m, in \u001b[0;36m<lambda>\u001b[1;34m(x)\u001b[0m\n\u001b[1;32m----> 1\u001b[0m countries_ref_df\u001b[39m.\u001b[39mmap_rows(\u001b[39mlambda\u001b[39;00m x: (process\u001b[39m.\u001b[39mextractOne(x[\u001b[39m0\u001b[39m],flags_df[\u001b[39m'\u001b[39m\u001b[39mcountry\u001b[39m\u001b[39m'\u001b[39m],scorer\u001b[39m=\u001b[39mfuzz\u001b[39m.\u001b[39mtoken_set_ratio)[\u001b[39m0\u001b[39m],cutoff\u001b[39m==\u001b[39m\u001b[39m90\u001b[39m) \u001b[39m+\u001b[39m \u001b[39m'\u001b[39m\u001b[39m;\u001b[39m\u001b[39m'\u001b[39m \u001b[39m+\u001b[39m x[\u001b[39m0\u001b[39m])\u001b[39m.\u001b[39mselect(pl\u001b[39m.\u001b[39mcol(\u001b[39m'\u001b[39m\u001b[39mmap\u001b[39m\u001b[39m'\u001b[39m)\u001b[39m.\u001b[39mstr\u001b[39m.\u001b[39msplit(\u001b[39m'\u001b[39m\u001b[39m;\u001b[39m\u001b[39m'\u001b[39m))\n",
      "\u001b[1;31mNameError\u001b[0m: name 'cutoff' is not defined"
     ]
    }
   ],
   "source": [
    "countries_ref_df.map_rows(lambda x: (process.extractOne(x[0],flags_df['country'],scorer=fuzz.token_set_ratio)[0],cutoff==90) + ';' + x[0]).select(pl.col('map').str.split(';'))"
   ]
  },
  {
   "cell_type": "code",
   "execution_count": 2,
   "metadata": {},
   "outputs": [
    {
     "ename": "NameError",
     "evalue": "name 'countries_ref_df' is not defined",
     "output_type": "error",
     "traceback": [
      "\u001b[1;31m---------------------------------------------------------------------------\u001b[0m",
      "\u001b[1;31mNameError\u001b[0m                                 Traceback (most recent call last)",
      "Cell \u001b[1;32mIn[2], line 1\u001b[0m\n\u001b[1;32m----> 1\u001b[0m \u001b[43mcountries_ref_df\u001b[49m\u001b[38;5;241m.\u001b[39mmap_rows(\u001b[38;5;28;01mlambda\u001b[39;00m x: (process\u001b[38;5;241m.\u001b[39mextractOne(x[\u001b[38;5;241m0\u001b[39m],flags_df[\u001b[38;5;124m'\u001b[39m\u001b[38;5;124mcountry\u001b[39m\u001b[38;5;124m'\u001b[39m],scorer\u001b[38;5;241m=\u001b[39mfuzz\u001b[38;5;241m.\u001b[39mtoken_set_ratio)[\u001b[38;5;241m0\u001b[39m],score_cutoff\u001b[38;5;241m==\u001b[39m\u001b[38;5;241m90\u001b[39m) \u001b[38;5;241m+\u001b[39m \u001b[38;5;124m'\u001b[39m\u001b[38;5;124m;\u001b[39m\u001b[38;5;124m'\u001b[39m \u001b[38;5;241m+\u001b[39m x[\u001b[38;5;241m0\u001b[39m])\u001b[38;5;241m.\u001b[39mselect(pl\u001b[38;5;241m.\u001b[39mcol(\u001b[38;5;124m'\u001b[39m\u001b[38;5;124mmap\u001b[39m\u001b[38;5;124m'\u001b[39m)\u001b[38;5;241m.\u001b[39mstr\u001b[38;5;241m.\u001b[39msplit(\u001b[38;5;124m'\u001b[39m\u001b[38;5;124m;\u001b[39m\u001b[38;5;124m'\u001b[39m))\n",
      "\u001b[1;31mNameError\u001b[0m: name 'countries_ref_df' is not defined"
     ]
    }
   ],
   "source": [
    "countries_ref_df.map_rows(lambda x: (process.extractOne(x[0],flags_df['country'],scorer=fuzz.token_set_ratio)[0],score_cutoff==90) + ';' + x[0]).select(pl.col('map').str.split(';'))"
   ]
  },
  {
   "cell_type": "code",
   "execution_count": null,
   "metadata": {},
   "outputs": [],
   "source": []
  }
 ],
 "metadata": {
  "kernelspec": {
   "display_name": "Python 3",
   "language": "python",
   "name": "python3"
  },
  "language_info": {
   "codemirror_mode": {
    "name": "ipython",
    "version": 3
   },
   "file_extension": ".py",
   "mimetype": "text/x-python",
   "name": "python",
   "nbconvert_exporter": "python",
   "pygments_lexer": "ipython3",
   "version": "3.10.7"
  }
 },
 "nbformat": 4,
 "nbformat_minor": 2
}
